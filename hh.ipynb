{
  "nbformat": 4,
  "nbformat_minor": 0,
  "metadata": {
    "colab": {
      "provenance": [],
      "authorship_tag": "ABX9TyNpUNBeQVjn1YmKPA88mHdQ",
      "include_colab_link": true
    },
    "kernelspec": {
      "name": "python3",
      "display_name": "Python 3"
    },
    "language_info": {
      "name": "python"
    }
  },
  "cells": [
    {
      "cell_type": "markdown",
      "metadata": {
        "id": "view-in-github",
        "colab_type": "text"
      },
      "source": [
        "<a href=\"https://colab.research.google.com/github/FIJY/hh/blob/master/hh.ipynb\" target=\"_parent\"><img src=\"https://colab.research.google.com/assets/colab-badge.svg\" alt=\"Open In Colab\"/></a>"
      ]
    },
    {
      "cell_type": "code",
      "execution_count": 1,
      "metadata": {
        "colab": {
          "base_uri": "https://localhost:8080/"
        },
        "id": "bFo8eimuVRuH",
        "outputId": "b6103737-9877-494b-fb84-f321b0d7f738"
      },
      "outputs": [
        {
          "output_type": "stream",
          "name": "stdout",
          "text": [
            "Requirement already satisfied: requests in /usr/local/lib/python3.10/dist-packages (2.31.0)\n",
            "Collecting bs4\n",
            "  Downloading bs4-0.0.2-py2.py3-none-any.whl (1.2 kB)\n",
            "Requirement already satisfied: lxml in /usr/local/lib/python3.10/dist-packages (4.9.4)\n",
            "Collecting fake_useragent\n",
            "  Downloading fake_useragent-1.5.1-py3-none-any.whl (17 kB)\n",
            "Requirement already satisfied: pandas in /usr/local/lib/python3.10/dist-packages (2.0.3)\n",
            "Requirement already satisfied: charset-normalizer<4,>=2 in /usr/local/lib/python3.10/dist-packages (from requests) (3.3.2)\n",
            "Requirement already satisfied: idna<4,>=2.5 in /usr/local/lib/python3.10/dist-packages (from requests) (3.7)\n",
            "Requirement already satisfied: urllib3<3,>=1.21.1 in /usr/local/lib/python3.10/dist-packages (from requests) (2.0.7)\n",
            "Requirement already satisfied: certifi>=2017.4.17 in /usr/local/lib/python3.10/dist-packages (from requests) (2024.2.2)\n",
            "Requirement already satisfied: beautifulsoup4 in /usr/local/lib/python3.10/dist-packages (from bs4) (4.12.3)\n",
            "Requirement already satisfied: python-dateutil>=2.8.2 in /usr/local/lib/python3.10/dist-packages (from pandas) (2.8.2)\n",
            "Requirement already satisfied: pytz>=2020.1 in /usr/local/lib/python3.10/dist-packages (from pandas) (2023.4)\n",
            "Requirement already satisfied: tzdata>=2022.1 in /usr/local/lib/python3.10/dist-packages (from pandas) (2024.1)\n",
            "Requirement already satisfied: numpy>=1.21.0 in /usr/local/lib/python3.10/dist-packages (from pandas) (1.25.2)\n",
            "Requirement already satisfied: six>=1.5 in /usr/local/lib/python3.10/dist-packages (from python-dateutil>=2.8.2->pandas) (1.16.0)\n",
            "Requirement already satisfied: soupsieve>1.2 in /usr/local/lib/python3.10/dist-packages (from beautifulsoup4->bs4) (2.5)\n",
            "Installing collected packages: fake_useragent, bs4\n",
            "Successfully installed bs4-0.0.2 fake_useragent-1.5.1\n"
          ]
        }
      ],
      "source": [
        "!pip install requests bs4 lxml fake_useragent pandas\n"
      ]
    },
    {
      "cell_type": "code",
      "source": [
        "import requests\n",
        "from bs4 import BeautifulSoup\n",
        "from fake_useragent import UserAgent\n",
        "import pandas as pd\n",
        "import time\n"
      ],
      "metadata": {
        "id": "TMfuNQN4VS8Q"
      },
      "execution_count": 2,
      "outputs": []
    },
    {
      "cell_type": "code",
      "source": [
        "# Мы создаем сессию requests, которая позволит нам использовать один и тот же заголовок User-Agent для всех запросов. Это также улучшит производительность, поскольку сессия может переиспользовать соединения.\n",
        "\n",
        "session = requests.Session()\n",
        "ua = UserAgent()\n",
        "session.headers['User-Agent'] = ua.random\n"
      ],
      "metadata": {
        "id": "M_9FPACdVZHM"
      },
      "execution_count": 3,
      "outputs": []
    },
    {
      "cell_type": "code",
      "source": [
        "import requests\n",
        "from bs4 import BeautifulSoup\n",
        "import re\n",
        "import csv\n",
        "from fake_useragent import UserAgent\n",
        "\n",
        "session = requests.Session()\n",
        "ua = UserAgent()\n",
        "session.headers['User-Agent'] = ua.random\n",
        "\n",
        "def get_links(industry_code, age_from, age_to):\n",
        "    base_url = \"https://hh.ru/search/resume\"\n",
        "    params = {\n",
        "        \"exp_period\": \"all_time\",\n",
        "        \"filter_exp_industry\": industry_code,\n",
        "        \"logic\": \"normal\",\n",
        "        \"no_magic\": \"true\",\n",
        "        \"order_by\": \"publication_time\",\n",
        "        \"ored_clusters\": \"true\",\n",
        "        \"pos\": \"full_text\",\n",
        "        \"search_period\": \"30\",\n",
        "        \"items_on_page\": \"50\",\n",
        "        \"filter_exp_period\": \"all_time\",\n",
        "        \"relocation\": \"living_or_relocation\",\n",
        "        \"gender\": \"unknown\",\n",
        "        \"text\": \"\",\n",
        "        \"label\": \"only_with_age\",\n",
        "        \"age_from\": str(age_from),\n",
        "        \"age_to\": str(age_to) if age_to is not None else \"\"\n",
        "    }\n",
        "\n",
        "    query_url = f\"{base_url}?{'&'.join(f'{k}={v}' for k, v in params.items() if v is not None)}\"\n",
        "    response = session.get(query_url)\n",
        "    soup = BeautifulSoup(response.content, 'lxml')\n",
        "    header = soup.find('h1', {'data-qa': 'bloko-header-3'})\n",
        "\n",
        "    if header:\n",
        "        total_resumes = header.get_text()\n",
        "        total_resumes = int(re.search(r'\\d+', total_resumes.replace('\\xa0', '')).group(0))\n",
        "    else:\n",
        "        total_resumes = 0  # Assume no resumes found if header is missing\n",
        "\n",
        "    return total_resumes, query_url\n",
        "\n",
        "industry_code = \"7.540\"\n",
        "age_ranges_results = []\n",
        "age_from = 0\n",
        "max_resumes = 4999\n",
        "\n",
        "while age_from < 100:\n",
        "    age_to = age_from\n",
        "    total_resumes = 0\n",
        "\n",
        "    # Expand age range until resumes exceed the maximum limit or the age range covers the remaining ages\n",
        "    while total_resumes <= max_resumes and age_to < 100:\n",
        "        age_to += 1\n",
        "        total_resumes, query_url = get_links(industry_code, age_from, age_to)\n",
        "        if total_resumes > max_resumes:\n",
        "            age_to -= 1  # Step back to the last valid group\n",
        "            total_resumes, query_url = get_links(industry_code, age_from, age_to)\n",
        "            break\n",
        "\n",
        "    # Append the results\n",
        "    age_ranges_results.append((age_from, age_to, total_resumes, query_url))\n",
        "    print(f\"Возрастная группа {age_from}-{age_to}: {total_resumes} резюме найдено. Проверить: {query_url}\")\n",
        "    age_from = age_to + 1  # Move to the next start age beyond the current range\n",
        "\n",
        "# Write the results to a CSV file\n",
        "with open('age_group_links.csv', 'w', newline='', encoding='utf-8') as file:\n",
        "    writer = csv.writer(file)\n",
        "    writer.writerow(['Age From', 'Age To', 'Total Resumes', 'URL'])\n",
        "    for age_from, age_to, total_resumes, url in age_ranges_results:\n",
        "        writer.writerow([age_from, age_to, total_resumes, url])\n",
        "\n",
        "print(\"Ссылки и данные сохранены в файл 'age_group_links.csv'\")\n",
        "\n"
      ],
      "metadata": {
        "colab": {
          "base_uri": "https://localhost:8080/"
        },
        "id": "eb2f-6TjWzB8",
        "outputId": "28027503-0db4-4669-9745-b6e386a6713d"
      },
      "execution_count": 23,
      "outputs": [
        {
          "output_type": "stream",
          "name": "stdout",
          "text": [
            "Возрастная группа 0-19: 2620 резюме найдено. Проверить: https://hh.ru/search/resume?exp_period=all_time&filter_exp_industry=7.540&logic=normal&no_magic=true&order_by=publication_time&ored_clusters=true&pos=full_text&search_period=30&items_on_page=50&filter_exp_period=all_time&relocation=living_or_relocation&gender=unknown&text=&label=only_with_age&age_from=0&age_to=19\n",
            "Возрастная группа 20-20: 2739 резюме найдено. Проверить: https://hh.ru/search/resume?exp_period=all_time&filter_exp_industry=7.540&logic=normal&no_magic=true&order_by=publication_time&ored_clusters=true&pos=full_text&search_period=30&items_on_page=50&filter_exp_period=all_time&relocation=living_or_relocation&gender=unknown&text=&label=only_with_age&age_from=20&age_to=20\n",
            "Возрастная группа 21-22: 9417 резюме найдено. Проверить: https://hh.ru/search/resume?exp_period=all_time&filter_exp_industry=7.540&logic=normal&no_magic=true&order_by=publication_time&ored_clusters=true&pos=full_text&search_period=30&items_on_page=50&filter_exp_period=all_time&relocation=living_or_relocation&gender=unknown&text=&label=only_with_age&age_from=21&age_to=22\n",
            "Возрастная группа 23-23: 6148 резюме найдено. Проверить: https://hh.ru/search/resume?exp_period=all_time&filter_exp_industry=7.540&logic=normal&no_magic=true&order_by=publication_time&ored_clusters=true&pos=full_text&search_period=30&items_on_page=50&filter_exp_period=all_time&relocation=living_or_relocation&gender=unknown&text=&label=only_with_age&age_from=23&age_to=23\n",
            "Возрастная группа 24-24: 6264 резюме найдено. Проверить: https://hh.ru/search/resume?exp_period=all_time&filter_exp_industry=7.540&logic=normal&no_magic=true&order_by=publication_time&ored_clusters=true&pos=full_text&search_period=30&items_on_page=50&filter_exp_period=all_time&relocation=living_or_relocation&gender=unknown&text=&label=only_with_age&age_from=24&age_to=24\n",
            "Возрастная группа 25-25: 6894 резюме найдено. Проверить: https://hh.ru/search/resume?exp_period=all_time&filter_exp_industry=7.540&logic=normal&no_magic=true&order_by=publication_time&ored_clusters=true&pos=full_text&search_period=30&items_on_page=50&filter_exp_period=all_time&relocation=living_or_relocation&gender=unknown&text=&label=only_with_age&age_from=25&age_to=25\n",
            "Возрастная группа 26-26: 6904 резюме найдено. Проверить: https://hh.ru/search/resume?exp_period=all_time&filter_exp_industry=7.540&logic=normal&no_magic=true&order_by=publication_time&ored_clusters=true&pos=full_text&search_period=30&items_on_page=50&filter_exp_period=all_time&relocation=living_or_relocation&gender=unknown&text=&label=only_with_age&age_from=26&age_to=26\n",
            "Возрастная группа 27-27: 7123 резюме найдено. Проверить: https://hh.ru/search/resume?exp_period=all_time&filter_exp_industry=7.540&logic=normal&no_magic=true&order_by=publication_time&ored_clusters=true&pos=full_text&search_period=30&items_on_page=50&filter_exp_period=all_time&relocation=living_or_relocation&gender=unknown&text=&label=only_with_age&age_from=27&age_to=27\n",
            "Возрастная группа 28-28: 7071 резюме найдено. Проверить: https://hh.ru/search/resume?exp_period=all_time&filter_exp_industry=7.540&logic=normal&no_magic=true&order_by=publication_time&ored_clusters=true&pos=full_text&search_period=30&items_on_page=50&filter_exp_period=all_time&relocation=living_or_relocation&gender=unknown&text=&label=only_with_age&age_from=28&age_to=28\n",
            "Возрастная группа 29-29: 7023 резюме найдено. Проверить: https://hh.ru/search/resume?exp_period=all_time&filter_exp_industry=7.540&logic=normal&no_magic=true&order_by=publication_time&ored_clusters=true&pos=full_text&search_period=30&items_on_page=50&filter_exp_period=all_time&relocation=living_or_relocation&gender=unknown&text=&label=only_with_age&age_from=29&age_to=29\n",
            "Возрастная группа 30-30: 6759 резюме найдено. Проверить: https://hh.ru/search/resume?exp_period=all_time&filter_exp_industry=7.540&logic=normal&no_magic=true&order_by=publication_time&ored_clusters=true&pos=full_text&search_period=30&items_on_page=50&filter_exp_period=all_time&relocation=living_or_relocation&gender=unknown&text=&label=only_with_age&age_from=30&age_to=30\n",
            "Возрастная группа 31-31: 6767 резюме найдено. Проверить: https://hh.ru/search/resume?exp_period=all_time&filter_exp_industry=7.540&logic=normal&no_magic=true&order_by=publication_time&ored_clusters=true&pos=full_text&search_period=30&items_on_page=50&filter_exp_period=all_time&relocation=living_or_relocation&gender=unknown&text=&label=only_with_age&age_from=31&age_to=31\n",
            "Возрастная группа 32-32: 7080 резюме найдено. Проверить: https://hh.ru/search/resume?exp_period=all_time&filter_exp_industry=7.540&logic=normal&no_magic=true&order_by=publication_time&ored_clusters=true&pos=full_text&search_period=30&items_on_page=50&filter_exp_period=all_time&relocation=living_or_relocation&gender=unknown&text=&label=only_with_age&age_from=32&age_to=32\n",
            "Возрастная группа 33-33: 6899 резюме найдено. Проверить: https://hh.ru/search/resume?exp_period=all_time&filter_exp_industry=7.540&logic=normal&no_magic=true&order_by=publication_time&ored_clusters=true&pos=full_text&search_period=30&items_on_page=50&filter_exp_period=all_time&relocation=living_or_relocation&gender=unknown&text=&label=only_with_age&age_from=33&age_to=33\n",
            "Возрастная группа 34-34: 7024 резюме найдено. Проверить: https://hh.ru/search/resume?exp_period=all_time&filter_exp_industry=7.540&logic=normal&no_magic=true&order_by=publication_time&ored_clusters=true&pos=full_text&search_period=30&items_on_page=50&filter_exp_period=all_time&relocation=living_or_relocation&gender=unknown&text=&label=only_with_age&age_from=34&age_to=34\n",
            "Возрастная группа 35-35: 6694 резюме найдено. Проверить: https://hh.ru/search/resume?exp_period=all_time&filter_exp_industry=7.540&logic=normal&no_magic=true&order_by=publication_time&ored_clusters=true&pos=full_text&search_period=30&items_on_page=50&filter_exp_period=all_time&relocation=living_or_relocation&gender=unknown&text=&label=only_with_age&age_from=35&age_to=35\n",
            "Возрастная группа 36-36: 6127 резюме найдено. Проверить: https://hh.ru/search/resume?exp_period=all_time&filter_exp_industry=7.540&logic=normal&no_magic=true&order_by=publication_time&ored_clusters=true&pos=full_text&search_period=30&items_on_page=50&filter_exp_period=all_time&relocation=living_or_relocation&gender=unknown&text=&label=only_with_age&age_from=36&age_to=36\n",
            "Возрастная группа 37-37: 5794 резюме найдено. Проверить: https://hh.ru/search/resume?exp_period=all_time&filter_exp_industry=7.540&logic=normal&no_magic=true&order_by=publication_time&ored_clusters=true&pos=full_text&search_period=30&items_on_page=50&filter_exp_period=all_time&relocation=living_or_relocation&gender=unknown&text=&label=only_with_age&age_from=37&age_to=37\n",
            "Возрастная группа 38-38: 4877 резюме найдено. Проверить: https://hh.ru/search/resume?exp_period=all_time&filter_exp_industry=7.540&logic=normal&no_magic=true&order_by=publication_time&ored_clusters=true&pos=full_text&search_period=30&items_on_page=50&filter_exp_period=all_time&relocation=living_or_relocation&gender=unknown&text=&label=only_with_age&age_from=38&age_to=38\n",
            "Возрастная группа 39-39: 4782 резюме найдено. Проверить: https://hh.ru/search/resume?exp_period=all_time&filter_exp_industry=7.540&logic=normal&no_magic=true&order_by=publication_time&ored_clusters=true&pos=full_text&search_period=30&items_on_page=50&filter_exp_period=all_time&relocation=living_or_relocation&gender=unknown&text=&label=only_with_age&age_from=39&age_to=39\n",
            "Возрастная группа 40-40: 4157 резюме найдено. Проверить: https://hh.ru/search/resume?exp_period=all_time&filter_exp_industry=7.540&logic=normal&no_magic=true&order_by=publication_time&ored_clusters=true&pos=full_text&search_period=30&items_on_page=50&filter_exp_period=all_time&relocation=living_or_relocation&gender=unknown&text=&label=only_with_age&age_from=40&age_to=40\n",
            "Возрастная группа 41-41: 3670 резюме найдено. Проверить: https://hh.ru/search/resume?exp_period=all_time&filter_exp_industry=7.540&logic=normal&no_magic=true&order_by=publication_time&ored_clusters=true&pos=full_text&search_period=30&items_on_page=50&filter_exp_period=all_time&relocation=living_or_relocation&gender=unknown&text=&label=only_with_age&age_from=41&age_to=41\n",
            "Возрастная группа 42-42: 3266 резюме найдено. Проверить: https://hh.ru/search/resume?exp_period=all_time&filter_exp_industry=7.540&logic=normal&no_magic=true&order_by=publication_time&ored_clusters=true&pos=full_text&search_period=30&items_on_page=50&filter_exp_period=all_time&relocation=living_or_relocation&gender=unknown&text=&label=only_with_age&age_from=42&age_to=42\n",
            "Возрастная группа 43-43: 3089 резюме найдено. Проверить: https://hh.ru/search/resume?exp_period=all_time&filter_exp_industry=7.540&logic=normal&no_magic=true&order_by=publication_time&ored_clusters=true&pos=full_text&search_period=30&items_on_page=50&filter_exp_period=all_time&relocation=living_or_relocation&gender=unknown&text=&label=only_with_age&age_from=43&age_to=43\n",
            "Возрастная группа 44-44: 2611 резюме найдено. Проверить: https://hh.ru/search/resume?exp_period=all_time&filter_exp_industry=7.540&logic=normal&no_magic=true&order_by=publication_time&ored_clusters=true&pos=full_text&search_period=30&items_on_page=50&filter_exp_period=all_time&relocation=living_or_relocation&gender=unknown&text=&label=only_with_age&age_from=44&age_to=44\n",
            "Возрастная группа 45-46: 4492 резюме найдено. Проверить: https://hh.ru/search/resume?exp_period=all_time&filter_exp_industry=7.540&logic=normal&no_magic=true&order_by=publication_time&ored_clusters=true&pos=full_text&search_period=30&items_on_page=50&filter_exp_period=all_time&relocation=living_or_relocation&gender=unknown&text=&label=only_with_age&age_from=45&age_to=46\n",
            "Возрастная группа 47-49: 4672 резюме найдено. Проверить: https://hh.ru/search/resume?exp_period=all_time&filter_exp_industry=7.540&logic=normal&no_magic=true&order_by=publication_time&ored_clusters=true&pos=full_text&search_period=30&items_on_page=50&filter_exp_period=all_time&relocation=living_or_relocation&gender=unknown&text=&label=only_with_age&age_from=47&age_to=49\n",
            "Возрастная группа 50-54: 4735 резюме найдено. Проверить: https://hh.ru/search/resume?exp_period=all_time&filter_exp_industry=7.540&logic=normal&no_magic=true&order_by=publication_time&ored_clusters=true&pos=full_text&search_period=30&items_on_page=50&filter_exp_period=all_time&relocation=living_or_relocation&gender=unknown&text=&label=only_with_age&age_from=50&age_to=54\n",
            "Возрастная группа 55-100: 2830 резюме найдено. Проверить: https://hh.ru/search/resume?exp_period=all_time&filter_exp_industry=7.540&logic=normal&no_magic=true&order_by=publication_time&ored_clusters=true&pos=full_text&search_period=30&items_on_page=50&filter_exp_period=all_time&relocation=living_or_relocation&gender=unknown&text=&label=only_with_age&age_from=55&age_to=100\n",
            "Ссылки и данные сохранены в файл 'age_group_links.csv'\n"
          ]
        }
      ]
    },
    {
      "cell_type": "code",
      "source": [
        "import requests\n",
        "from bs4 import BeautifulSoup\n",
        "import fake_useragent\n",
        "import time\n",
        "\n",
        "def parse_resumes(base_url):\n",
        "    ua = fake_useragent.UserAgent()\n",
        "    headers = {\"User-Agent\": ua.random}\n",
        "\n",
        "    # Получаем количество страниц для обхода\n",
        "    response = requests.get(f\"{base_url}&page=1\", headers=headers)\n",
        "    if response.status_code != 200:\n",
        "        print(f\"Ошибка доступа к странице: {response.status_code}\")\n",
        "        return\n",
        "\n",
        "    soup = BeautifulSoup(response.content, 'lxml')\n",
        "    try:\n",
        "        page_count = int(soup.find(\"div\", attrs={\"class\":\"pager\"}).find_all(\"span\", recursive=False)[-1].find(\"a\").find(\"span\").text)\n",
        "    except Exception as e:\n",
        "        print(f\"Ошибка при получении количества страниц: {e}\")\n",
        "        page_count = 1  # Если не удалось определить количество, пробуем хотя бы одну страницу\n",
        "\n",
        "    # Обход каждой страницы для парсинга данных\n",
        "    for page in range(1, page_count + 1):\n",
        "        response = requests.get(f\"{base_url}&page={page}\", headers=headers)\n",
        "        if response.status_code != 200:\n",
        "            print(f\"Ошибка при доступе к странице {page}: {response.status_code}\")\n",
        "            continue\n",
        "\n",
        "        soup = BeautifulSoup(response.content, 'lxml')\n",
        "        links = [f\"https://hh.ru{a.attrs['href'].split('?')[0]}\" for a in soup.find_all(\"a\", attrs={\"data-qa\": \"serp-item__title\"})]\n",
        "        print(f\"Ссылки на странице {page}:\")\n",
        "        for link in links:\n",
        "            print(link)\n",
        "        time.sleep(1)  # Задержка между запросами для избежания блокировки\n",
        "\n",
        "# Пример использования\n",
        "base_url = input(\"Введите базовую ссылку для парсинга резюме: \")\n",
        "parse_resumes(base_url)\n"
      ],
      "metadata": {
        "colab": {
          "base_uri": "https://localhost:8080/"
        },
        "id": "cMWwMyKzoSdP",
        "outputId": "c3828e4b-d377-4845-b504-e1a91bb8d56c"
      },
      "execution_count": 28,
      "outputs": [
        {
          "output_type": "stream",
          "name": "stdout",
          "text": [
            "Введите базовую ссылку для парсинга резюме: \thttps://hh.ru/search/resume?exp_period=all_time&filter_exp_industry=7.540&logic=normal&no_magic=true&order_by=publication_time&ored_clusters=true&pos=full_text&search_period=30&items_on_page=50&filter_exp_period=all_time&relocation=living_or_relocation&gender=unknown&text=&label=only_with_age&age_from=0&age_to=19\n",
            "Ошибка при получении количества страниц: 'NoneType' object has no attribute 'find_all'\n",
            "Ссылки на странице 1:\n"
          ]
        }
      ]
    },
    {
      "cell_type": "markdown",
      "source": [
        "\n",
        "    # Собираем базовую информацию\n",
        "    resume = {\n",
        "        \"gender\": get_detailed_info(soup, \"resume-personal-gender\"),\n",
        "        \"age\": get_detailed_info(soup, \"resume-personal-age\"),\n",
        "        \"city\": get_detailed_info(soup, \"resume-personal-address\"),\n",
        "        \"desired_salary\": get_detailed_info(soup, \"resume-block__salary\"),\n",
        "        \"relocation\": get_detailed_info(soup, \"resume-personal-relocation\"),\n",
        "        \"specializations\": get_detailed_info(soup, \"resume-block-specialization\", \"class\"),\n",
        "        \"employment\": get_detailed_info(soup, \"resume-block-employment\", \"data-qa\"),\n",
        "        \"work_schedule\": get_detailed_info(soup, \"resume-block-schedule\", \"data-qa\"),\n",
        "        \"experience\": get_detailed_info(soup, \"resume-block-experience\"),\n",
        "        \"key_skills\": [tag.text for tag in soup.find_all(attrs={\"class\": \"bloko-tag__section_text\"})],\n",
        "        \"about_me\": get_detailed_info(soup, \"resume-block-skills-content\"),\n",
        "        \"languages\": get_detailed_info(soup, \"resume-block-languages\"),\n",
        "        \"citizenship\": get_detailed_info(soup, \"resume-personal-citizenship\"),\n",
        "        \"education\": get_detailed_info(soup, \"resume-block-education-content\"),\n",
        "        \"link\": link\n",
        "    }"
      ],
      "metadata": {
        "id": "48J2tvQBtImk"
      }
    }
  ]
}