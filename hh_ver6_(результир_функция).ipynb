{
  "nbformat": 4,
  "nbformat_minor": 0,
  "metadata": {
    "colab": {
      "provenance": [],
      "collapsed_sections": [
        "VeWLjMoRk7dD",
        "mSOzjEdoya7u",
        "3w_qJlCmObTv",
        "19aeaPv1bRwS",
        "4KD-BwsRwKQr",
        "MYLalSF4GC1z"
      ],
      "include_colab_link": true
    },
    "kernelspec": {
      "name": "python3",
      "display_name": "Python 3"
    },
    "language_info": {
      "name": "python"
    }
  },
  "cells": [
    {
      "cell_type": "markdown",
      "metadata": {
        "id": "view-in-github",
        "colab_type": "text"
      },
      "source": [
        "<a href=\"https://colab.research.google.com/github/FIJY/hh/blob/master/hh_ver6_(%D1%80%D0%B5%D0%B7%D1%83%D0%BB%D1%8C%D1%82%D0%B8%D1%80_%D1%84%D1%83%D0%BD%D0%BA%D1%86%D0%B8%D1%8F).ipynb\" target=\"_parent\"><img src=\"https://colab.research.google.com/assets/colab-badge.svg\" alt=\"Open In Colab\"/></a>"
      ]
    },
    {
      "cell_type": "markdown",
      "source": [
        "Парсинг с сайта hh <br>\n",
        "Ссылка на видео парсинга hh https://yandex.ru/video/preview/11468178118806870731"
      ],
      "metadata": {
        "id": "WGrBVg9vACoL"
      }
    },
    {
      "cell_type": "markdown",
      "source": [
        "## Устанавливаем и импортируем библиотеки и модули, подключаем гугл диск"
      ],
      "metadata": {
        "id": "VeWLjMoRk7dD"
      }
    },
    {
      "cell_type": "code",
      "execution_count": null,
      "metadata": {
        "colab": {
          "base_uri": "https://localhost:8080/"
        },
        "id": "JUiF1qq59ISY",
        "outputId": "748af969-b274-49e5-888d-297881b10cf2"
      },
      "outputs": [
        {
          "output_type": "stream",
          "name": "stdout",
          "text": [
            "Collecting bs4\n",
            "  Downloading bs4-0.0.2-py2.py3-none-any.whl (1.2 kB)\n",
            "Requirement already satisfied: beautifulsoup4 in /usr/local/lib/python3.10/dist-packages (from bs4) (4.12.3)\n",
            "Requirement already satisfied: soupsieve>1.2 in /usr/local/lib/python3.10/dist-packages (from beautifulsoup4->bs4) (2.5)\n",
            "Installing collected packages: bs4\n",
            "Successfully installed bs4-0.0.2\n",
            "Collecting fake_useragent\n",
            "  Downloading fake_useragent-1.5.1-py3-none-any.whl (17 kB)\n",
            "Installing collected packages: fake_useragent\n",
            "Successfully installed fake_useragent-1.5.1\n"
          ]
        }
      ],
      "source": [
        "# Устанавливаем библиотеки\n",
        "# requests для отправки запросов\n",
        "# BeautifulSoup для разбора полученных данных\n",
        "# lxml для парсинга\n",
        "# fake_useragent для создания заголовков\n",
        "# !pip install requests (requests в colab можно не устанавливать)\n",
        "!pip install bs4\n",
        "# !pip install lxml (lxml в colab можно не устанавливать)\n",
        "!pip install fake_useragent"
      ]
    },
    {
      "cell_type": "code",
      "source": [
        "# Импортируем библиотеки\n",
        "import requests\n",
        "from bs4 import BeautifulSoup\n",
        "import fake_useragent\n",
        "import time\n",
        "import json\n",
        "import pandas as pd\n",
        "import re\n",
        "import csv\n",
        "import os\n",
        "from tqdm import tqdm"
      ],
      "metadata": {
        "id": "_wajGQRbAL4g"
      },
      "execution_count": null,
      "outputs": []
    },
    {
      "cell_type": "code",
      "source": [
        "# Подключаем гугл диск\n",
        "from google.colab import drive\n",
        "drive.mount('/content/drive')"
      ],
      "metadata": {
        "colab": {
          "base_uri": "https://localhost:8080/"
        },
        "id": "IyvK3gOoMy5I",
        "outputId": "05da52e6-dfe7-4709-cbdc-c010c27cd474"
      },
      "execution_count": null,
      "outputs": [
        {
          "output_type": "stream",
          "name": "stdout",
          "text": [
            "Mounted at /content/drive\n"
          ]
        }
      ]
    },
    {
      "cell_type": "markdown",
      "source": [
        "## Парсинг hh"
      ],
      "metadata": {
        "id": "I0ypGExmme6i"
      }
    },
    {
      "cell_type": "markdown",
      "source": [
        "### Создание параметров поиска резюме, <br>получение ссылки-запроса для последующего парсинга ссылок резюме.  <br><br> Источник параметров поиска <br> https://github.com/EvgenyTerebenin/hh-api/blob/master/docs/resumes_search.md"
      ],
      "metadata": {
        "id": "mSOzjEdoya7u"
      }
    },
    {
      "cell_type": "code",
      "source": [
        "# Функция создания ссылки для поиска резюме по заданным параметрам\n",
        "\n",
        "def ref_search_resume (text: str, what_search = 'normal', list_search = ['full_text'],\n",
        "                       sorting = 'relevance', date_period = 30, date_min = None,\n",
        "                       date_max = None, quantity_items = 20, areas = [113],\n",
        "                       arg_relocation = \"living_or_relocation\", exp_industry = None,\n",
        "                       exp_period = 'all_time', job_search = None, age_min = None,\n",
        "                       age_max = None, age_if = False, employments = None,\n",
        "                       schedules = None, experiences = None, prof_roles = None,\n",
        "                       gen = \"unknown\", gender_if = False, salary_min = None,\n",
        "                       salary_max = None, currency = \"RUB\", salary_if = False,\n",
        "                       countries = None, foto_if = False, vehicle_if = False,\n",
        "                       educations = None, universities = None, ver_skills = None,\n",
        "                       key_skills = None, work_countries = None,\n",
        "                       driver_types = None, languages = None,\n",
        "                       verif_languages = None):\n",
        "\n",
        "  '''\n",
        "  Функция создания ссылки для поиска резюме по заданным параметрам.\n",
        "\n",
        "  :text: Слово или фраза для поиска резюме.\n",
        "\n",
        "  :what_search = 'normal': Какие слова использовать в поиске\n",
        "  \"Все слова\": normal,\n",
        "  \"Любое из слов\": any,\n",
        "  \"Точная фраза\": phrase,\n",
        "  \"Не встречаются\": except\n",
        "\n",
        "  :list_search = ['full_text']: Где искать указанные слова\n",
        "  \"Везде\": full_text,\n",
        "  \"В названии резюме\": position,\n",
        "  \"В образовании\": education,\n",
        "  \"В ключевых навыках\": keywords,\n",
        "  \"В опыте работы\": workplaces\n",
        "  При уточнении можно подавать несколько, списком, но не более трех,\n",
        "  иначе будет вариант \"Везде\".\n",
        "\n",
        "  :sorting = 'relevance': Способ сортировки списка резюме.\n",
        "  \"По дате изменения\": publication_time,\n",
        "  \"По убыванию зарплат\": salary_desc,\n",
        "  \"По возрастанию зарплаты\": salary_asc,\n",
        "  \"По соответствию\": relevance\n",
        "\n",
        "  :date_period = 0: За какой период искать\n",
        "  \"За все время\": 0,\n",
        "  \"За сутки\": 1,\n",
        "  \"За последние три дня\": 3,\n",
        "  \"За неделю\": 7,\n",
        "  \"За месяц\": 30,\n",
        "  \"За год\": 365\n",
        "\n",
        "  :date_min = None  date_max = None: Интервал поиска между датами\n",
        "  Формат указания дат ДД.ММ.ГГГГ\n",
        "\n",
        "  :quantity_items = 20: Количество резюме на одной странице\n",
        "  Можно указывать любое количество. Стандартный выбор: 20, 50, 70, 100\n",
        "\n",
        "  :areas = [113]: Регион поиска\n",
        "  Можно выбирать несколько, подается список кодов регионов\n",
        "  Источник https://api.hh.ru/areas\n",
        "  Обозначения некоторых регионов:\n",
        "  Россия: 113,\n",
        "  Москва: 1, Московская область: 2019,\n",
        "  Санкт-Петербург: 2, Ленинградская область: 145,\n",
        "  Екатеринбург: 3, Свердловская область: 1261,\n",
        "  Новосибирск: 4, Новосибирская область: 1202,\n",
        "  Нижний Новгород: 66, Красноярск: 54, Челябинск: 104, Самара: 78, Уфа: 99,\n",
        "  Краснодар: 53, Ростов-на-Дону: 76, Омск: 68, Воронеж: 26, Пермь: 72, Волгоград: 24,\n",
        "  Татарстан: 1624, Казань: 88\n",
        "\n",
        "  :arg_relocation = \"living_or_relocation\": Переезд\n",
        "  Источник\n",
        "  https://api.hh.ru/openapi/redoc#tag/Obshie-spravochniki/operation/get-dictionaries\n",
        "  Варианты, подается один из вариантов:\n",
        "  \"living_or_relocation\" - Живут в указанном регионе или готовы переехать в него,\n",
        "  \"living\" - Живут в указанном регионе,\n",
        "  \"living_but_relocation\" - Живут в указанном регионе и готовы к переезду куда-либо,\n",
        "  \"relocation\" - \"Не живут в указанном регионе, но готовы переехать в него\"\n",
        "\n",
        "  :exp_industry = None: Опыт работы в отрасли\n",
        "  Указывается требуемая отрасль;\n",
        "  По умолчанию выбраны все отрасли\n",
        "  Можно выбирать несколько, подается списком кодов отраслей\n",
        "  Источник https://api.hh.ru/industries\n",
        "  \"Информационные технологии, системная интеграция, интернет\": \"7\",\n",
        "  включает в себя:\n",
        "  \"Интернет-провайдер\": \"7.538\",\n",
        "  \"Системная интеграция,  автоматизации технологических и\n",
        "  бизнес-процессов предприятия, ИТ-консалтинг\": \"7.539\",\n",
        "  \"Разработка программного обеспечения\": \"7.540\",\n",
        "  \"Интернет-компания (поисковики, платежные системы, соц.сети,\n",
        "  информационно-познавательные и развлекательные ресурсы,\n",
        "  продвижение сайтов и прочее)\": \"7.541\"\n",
        "\n",
        "  :exp_period = 'all_time': Период работы в отрасли, указывается вместе с опытом работы\n",
        "  Источник\n",
        "  https://api.hh.ru/openapi/redoc#tag/Poisk-rezyume/operation/search-for-resumes\n",
        "  Варианты, выбирается один из вариантов:\n",
        "  \"all_time\" - за всё время работы;\n",
        "  \"last_year\" - за последний год;\n",
        "  \"last_three_years\" - за последние 3 года;\n",
        "  \"last_six_years\" - за последние 6 лет\n",
        "\n",
        "  :job_search = None: Статус поиска работы\n",
        "  Варианты, можно выбирать несколько, подается списком:\n",
        "  \"unknown\" - Без статуса поиска;\n",
        "  \"not_looking_for_job\" - Не ищет работу;\n",
        "  \"looking_for_offers\" - Рассматривает предложения;\n",
        "  \"active_search\" - Активно ищет работу;\n",
        "  \"has_job_offer\" - Предложили работу, решает;\n",
        "  \"accepted_job_offer\" - Вышел на новое место\n",
        "\n",
        "  :age_min = None  age_max = None: Возраст, от и до\n",
        "  :age_if = False: Найти резюме только с возрастом\n",
        "  (по умолчанию фильтр отсутствует)\n",
        "\n",
        "  :employments = None: Тип занятости\n",
        "  По умолчанию не указан\n",
        "  Варианты, можно выбирать несколько, подается списком:\n",
        "  \"full\" - Полная занятость;\n",
        "  \"part\" - Частичная занятость;\n",
        "  \"project\" - Проектная работа;\n",
        "  \"probation\" - Стажировка;\n",
        "  \"volunteer\" - Волонтерство\n",
        "\n",
        "  :schedules = None: График работы\n",
        "  По умолчанию не указан\n",
        "  Варианты, можно выбирать несколько, подается списком:\n",
        "  \"fullDay\" - Полный день;\n",
        "  \"remote\" - Удаленная работа;\n",
        "  \"flexible\" - Гибкий график;\n",
        "  \"shift\" - Сменный график;\n",
        "  \"flyInFlyOut\" - Вахтовый метод\n",
        "\n",
        "  :experiences = None: Опыт работы\n",
        "  По умолчанию не указан\n",
        "  Варианты, можно выбирать несколько, подается списком:\n",
        "  \"moreThan6\" - Более 6 лет;\n",
        "  \"between3And6\" - От 3 до 6 лет;\n",
        "  \"noExperience\" - Нет опыта;\n",
        "  \"between1And3\" - От 1 года до 3 лет\n",
        "\n",
        "  :prof_roles = None: Специализации\n",
        "  По умолчанию не указаны\n",
        "  Перечень кодов специализаций (направление \"Информационные технологии\"),\n",
        "  можно выбирать несколько, подается список кодов:\n",
        "  Источник https://api.hh.ru/professional_roles\n",
        "  \"BI-аналитик, аналитик данных\": 156,\n",
        "  \"DevOps-инженер\": 160,\n",
        "  \"Аналитик\": 10,\n",
        "  \"Арт-директор, креативный директор\": 12,\n",
        "  \"Бизнес-аналитик\": 150,\n",
        "  \"Гейм-дизайнер\": 25,\n",
        "  \"Дата-сайентист\": 165,\n",
        "  \"Дизайнер, художник\": 34,\n",
        "  \"Директор по информационным технологиям (CIO)\": 36,\n",
        "  \"Менеджер продукта\": 73,\n",
        "  \"Методолог\": 155,\n",
        "  \"Программист, разработчик\": 96,\n",
        "  \"Продуктовый аналитик\": 164,\n",
        "  \"Руководитель группы разработки\": 104,\n",
        "  \"Руководитель отдела аналитики\": 157,\n",
        "  \"Руководитель проектов\": 107,\n",
        "  \"Сетевой инженер\": 112,\n",
        "  \"Системный администратор\": 113,\n",
        "  \"Системный аналитик\": 148,\n",
        "  \"Системный инженер\": 114,\n",
        "  \"Специалист по информационной безопасности\": 116,\n",
        "  \"Специалист технической поддержки\": 121,\n",
        "  \"Тестировщик\": 124,\n",
        "  \"Технический директор (CTO)\": 125,\n",
        "  \"Технический писатель\": 126,\n",
        "  \"Другое\": 40\n",
        "\n",
        "  :gen = \"unknown\": Пол\n",
        "  \"unknown\" - не имеет значения;\n",
        "  \"male\" - мужской;\n",
        "  \"female\" - женский\n",
        "\n",
        "  :gender_if = False: Показать резюме с указанием пола\n",
        "  По умолчанию фильтр отсутствует\n",
        "\n",
        "  :salary_min = None: Зарплата от\n",
        "  :salary_max = None: Зарплата до\n",
        "  :currency = \"RUB\": Валюта\n",
        "  Можно задать в евро EUR или в долларах USD\n",
        "\n",
        "  :salary_if = False: Показать резюме только где указан доход\n",
        "  По умолчанию фильтр отсутствует\n",
        "\n",
        "  :countries = None: Гражданство, страна\n",
        "  Перечень некоторых кодов стран, можно выбирать несколько, подается список кодов:\n",
        "  Источник https://api.hh.ru/areas/countries\n",
        "  Россия: 113,\n",
        "  Беларусь: 16,\n",
        "  Китай: 50,\n",
        "  Греция: 213,\n",
        "  Другое: 6868\n",
        "\n",
        "  :foto_if = False  vehicle_if = False: Есть фото, автомобиль\n",
        "  По умолчанию фильтры отсутствуют\n",
        "\n",
        "  :educations = None: Образование\n",
        "  Перечень видов образования, можно выбирать несколько, подается список названий:\n",
        "  \"Среднее\": secondary,\n",
        "  \"Среднее специальное\": special_secondary,\n",
        "  \"Незаконченное высшее\": unfinished_higher,\n",
        "  \"Бакалавр\": bachelor,\n",
        "  \"Магистр\": master,\n",
        "  \"Высшее\": higher,\n",
        "  \"Кандидат наук\": candidate,\n",
        "  \"Доктор наук\": doctor\n",
        "\n",
        "  :universities = None: Учебное заведение\n",
        "  Перечень кодов некоторых учебных заведений, можно выбирать несколько,\n",
        "  подается список кодов:\n",
        "  Источник https://app.psal.ru/api/university/\n",
        "  \"МГУ\": 39144,\n",
        "  \"Национальный исследовательский университет ИТМО\": 39872,\n",
        "  \"НИЯУ МИФИ\": 39650,\n",
        "  \"МГТУ им. Н.Э. Баумана\": 38921\n",
        "\n",
        "  :ver_skills = None: Подтвержденные навыки\n",
        "  Перечень кодов навыков, можно выбирать несколько, подается список кодов:\n",
        "  \"Python\": 1114,\n",
        "  \"MS Excel\": 845,\n",
        "  \"SQL\": 1252,\n",
        "  \"Git\": 3215,\n",
        "  \"HTML\": 598,\n",
        "  \"ООП\": 2350,\n",
        "  \"JavaScript\": 674,\n",
        "  \"Agile Project Management\": 998,\n",
        "  \"Scrum\": 3193,\n",
        "  \"Копирайтинг\": 2097,\n",
        "  \"AutoCAD\": 153\n",
        "\n",
        "  :key_skills = None: Ключевые навыки\n",
        "  Перечень кодов навыков, можно выбирать несколько, подается список кодов:\n",
        "  'Python': 1114, 'SQL': 1252, 'Git': 3215, 'Linux': 730, 'Английский язык': 5488,\n",
        "  'HTML': 598, 'MS Excel': 845, 'JavaScript': 674, 'Работа в команде': 4118,\n",
        "  'MySQL': 893, 'PostgreSQL': 1063, 'MS PowerPoint': 866, 'C++': 231, 'CSS': 351,\n",
        "  'Управление проектами': 2924, 'ООП': 2350, 'Пользователь ПК': 3864,\n",
        "  'Adobe Photoshop': 87, 'Java': 3093, 'Организаторские навыки': 2366,\n",
        "  'Грамотная речь': 1827, 'C#': 230, 'HTML5': 7161, 'Ведение переговоров': 1691,\n",
        "  'PHP': 3750, 'Работа с большим объемом информации': 6958, 'C/C++': 144745,\n",
        "  'MS Word': 883, 'Деловая переписка': 1855, 'Django Framework': 416,\n",
        "  'Atlassian Jira': 142, 'Анализ данных': 1534, 'MS SQL': 871,\n",
        "  'Аналитическое мышление': 14886, 'MATLAB': 791, 'Bash': 4070, 'CSS3': 3512,\n",
        "  'Деловое общение': 1857, 'Математическая статистика': 2190, 'MS Outlook': 860,\n",
        "  'AutoCAD': 153, 'Data Analysis': 372, 'jQuery': 687,\n",
        "  'Управление персоналом': 2917, 'Scrum': 3193, 'Базы данных': 8540,\n",
        "  'Работа с базами данных': 17049, 'Проведение презентаций': 2514,\n",
        "  'Деловая коммуникация': 1853, 'Agile Project Management': 99\n",
        "\n",
        "  :work_countries = None: Разрешение на работу, страна\n",
        "  Источник https://api.hh.ru/areas/countries\n",
        "  Россия: 113,\n",
        "  Беларусь: 16,\n",
        "  Китай: 50,\n",
        "  Греция: 213,\n",
        "  Другое: 6868\n",
        "\n",
        "  :driver_types = None: Категория прав\n",
        "  Перечень категорий, можно выбирать несколько, подается список категорий:\n",
        "  B, C, A, BE, D, E, CE, DE, Tm (трамвай), Tb (троллейбус)\n",
        "\n",
        "  :languages = None: Знание языков, уровень\n",
        "  Можно выбирать несколько, подается список языков\n",
        "  Перечень некоторых языков:\n",
        "  Источник https://api.hh.ru/languages\n",
        "  \"Русский\": rus, 34;\n",
        "  \"Английский\": eng, 57;\n",
        "  \"Французский\": fra, 59;\n",
        "  \"Немецкий\": deu, 58;\n",
        "  \"Белорусский\": bel, 7;\n",
        "  \"Китайский\": zho, 20\n",
        "  С языком указывается уровень владения, например \"eng.a1\"\n",
        "  Перечень уровней владения языком:\n",
        "  a1 - Начальный, a2 - Элементарный,\n",
        "  b1 - Средний, b2 - Средне-продвинутый,\n",
        "  c1 - Продвинутый, c2 - В совершенстве,\n",
        "  l1 - Родной язык\n",
        "\n",
        "  :verif_languages = None: Подтвержденные знания\n",
        "  (указываются только по английскому языку)\n",
        "  Перечень кодов подтвержденных знаний:\n",
        "  \"a1 Начальный\": 57.1;\n",
        "  \"a2 Элементарный\": 57.2;\n",
        "  \"b1 Средний\": 57.3;\n",
        "  \"b2 Средне-продвинутый\": 57.4;\n",
        "  \"c1 Продвинутый\": 57.5;\n",
        "  \"c2 В совершенстве\": 57.6\n",
        "  '''\n",
        "  # Слово/фраза для поиска резюме\n",
        "  # Перед подачей в url заменим в text пробелы и другие символы (,;) на url-коды\n",
        "  text = text.replace(\" \", \"+\").replace(\",\", \"%2C\").replace(\";\", \"%3B\")\n",
        "\n",
        "  # Какие слова использовать в поиске\n",
        "  # what_search = 'any'\n",
        "  # what_search = 'phrase'\n",
        "  # what_search = 'except'\n",
        "  logic = f'&logic={what_search}'\n",
        "\n",
        "  # Где искать указанные слова\n",
        "  # list_search = ['keywords', 'position']\n",
        "  # list_search = ['keywords', 'position', 'education', 'workplaces']\n",
        "  # list_search = ['keywords']\n",
        "  if (len(list_search) < 4):\n",
        "    where_search = '%2C'.join(list_search)\n",
        "  else:\n",
        "    where_search = 'full_text'\n",
        "  pos = f'&pos={where_search}'\n",
        "\n",
        "  # Способ сортировки списка резюме\n",
        "  # sorting = 'salary_desc'\n",
        "  order_by = f'&order_by={sorting}'\n",
        "\n",
        "  # За какой период искать\n",
        "  # date_period = 30\n",
        "\n",
        "  # Интервал поиска между датами\n",
        "  # date_min = '01.03.2024'\n",
        "  # date_max = '15.03.2024'\n",
        "  if (date_min and date_max):\n",
        "    search_period = f'&search_period=-1&date_from={date_min}&date_to={date_max}'\n",
        "  else:\n",
        "    search_period = f'&search_period={date_period}'\n",
        "\n",
        "  # Количество резюме на одной странице\n",
        "  # quantity_items = 5\n",
        "  items_on_page = f'&items_on_page={quantity_items}'\n",
        "\n",
        "  # Регион поиска\n",
        "  # areas = [113, 4]\n",
        "  area = ''.join(f'&area={region}' for region in areas)\n",
        "\n",
        "  # Переезд\n",
        "  # arg_relocation = \"living\"\n",
        "  relocation = f'&relocation={arg_relocation}'\n",
        "\n",
        "  # Опыт работы в отрасли\n",
        "  # exp_industry = [7] # Подается списком кодов отраслей\n",
        "  # exp_industry = [7.538, 7.540, 7.541]\n",
        "  filter_exp_industry = ''\n",
        "  if exp_industry:\n",
        "    filter_exp_industry = ''.join(f'&filter_exp_industry={exp_industry:.3f}'\n",
        "                                  if isinstance(exp_industry, float)\n",
        "                                  else f'&filter_exp_industry={int(exp_industry)}'\n",
        "                                  for exp_industry in exp_industry)\n",
        "\n",
        "  # Период опыта работы в отрасли\n",
        "  # exp_period = \"last_year\"\n",
        "  filter_exp_period = f'&filter_exp_period={exp_period}'\n",
        "\n",
        "  # Статус поиска работы\n",
        "  # job_search = [\"looking_for_offers\", \"has_job_offer\"]\n",
        "  job_search_status = ''\n",
        "  if job_search:\n",
        "    job_search_status = ''.join(f'&job_search_status={search}'\n",
        "                                for search in job_search)\n",
        "\n",
        "  # Возраст\n",
        "  # age_min = 35\n",
        "  # age_max = 45\n",
        "  # age_if = True\n",
        "  age_from = ''\n",
        "  age_to = ''\n",
        "  label_age = ''\n",
        "  if age_min: age_from = f'&age_from={age_min}'\n",
        "  if age_max: age_to = f'&age_to={age_max}'\n",
        "  if age_if: label_age = f'&label=only_with_age'\n",
        "\n",
        "  # Тип занятости\n",
        "  # employments = ['part', 'probation']\n",
        "  employment = ''\n",
        "  if employments:\n",
        "    employment = ''.join(f'&employment={empl}' for empl in employments)\n",
        "\n",
        "  # График работы\n",
        "  # schedules = ['remote', 'flexible']\n",
        "  schedule = ''\n",
        "  if schedules:\n",
        "    schedule = ''.join(f'&schedule={sched}' for sched in schedules)\n",
        "\n",
        "  # Опыт работы\n",
        "  # experiences = ['between1And3']\n",
        "  experience = ''\n",
        "  if experiences:\n",
        "    experience = ''.join(f'&experience={exper}' for exper in experiences)\n",
        "\n",
        "  # Специализации\n",
        "  # prof_roles = [96, 40, 156]\n",
        "  professional_role = ''\n",
        "  if prof_roles:\n",
        "    professional_role = ''.join(f'&professional_role={prof_role}'\n",
        "                                for prof_role in prof_roles)\n",
        "\n",
        "  # Пол\n",
        "  # gen = \"male\"\n",
        "  # gen = \"female\"\n",
        "  # gender_if = True\n",
        "  gender = f'&gender={gen}'\n",
        "  label_gender = ''\n",
        "  if gender_if: label_gender = f'&label=only_with_gender'\n",
        "\n",
        "  # Уровень дохода\n",
        "  # salary_min = 500\n",
        "  # salary_max = 1000\n",
        "  # currency = 'EUR'\n",
        "  # currency = 'USD'\n",
        "  # salary_if = True\n",
        "  salary_from = ''\n",
        "  salary_to = ''\n",
        "  label_salary = ''\n",
        "  currency_code = ''\n",
        "  if currency in ['EUR', 'USD']: currency_code = f'&currency_code={currency}'\n",
        "  if salary_min: salary_from = f'&salary_from={salary_min}'\n",
        "  if salary_max: salary_to = f'&salary_to={salary_max}'\n",
        "  if salary_if: label_salary = f'&label=only_with_salary'\n",
        "\n",
        "  # Гражданство, страна\n",
        "  # countries = [113, 16]\n",
        "  citizenship = ''\n",
        "  if countries:\n",
        "    citizenship = ''.join(f'&citizenship={country}' for country in countries)\n",
        "\n",
        "  # Есть фото, есть  автомобиль\n",
        "  # foto_if = True\n",
        "  # vehicle_if = True\n",
        "  label_foto = ''\n",
        "  label_vehicle = ''\n",
        "  if foto_if: label_foto = f'&label=only_with_photo'\n",
        "  if vehicle_if: label_vehicle = f'&label=only_with_vehicle'\n",
        "\n",
        "  # Образование\n",
        "  # educations = ['higher', 'candidate']\n",
        "  education_level = ''\n",
        "  if educations:\n",
        "    education_level = ''.join(f'&education_level={education}'\n",
        "                              for education in educations)\n",
        "\n",
        "  # Учебное заведение\n",
        "  # universities = [39872, 39650]\n",
        "  university = ''\n",
        "  if universities:\n",
        "    university = ''.join(f'&university={univer}' for univer in universities)\n",
        "\n",
        "  # Подтвержденные навыки\n",
        "  # ver_skills = [1114, 845, 2350]\n",
        "  verified_skills = ''\n",
        "  if ver_skills:\n",
        "    verified_skills = ''.join(f'&verified_skills={verif_skill}'\n",
        "                              for verif_skill in ver_skills)\n",
        "\n",
        "  # Ключевые навыки\n",
        "  # key_skills = [3093, 6958, 14886, 1114]\n",
        "  skill = ''\n",
        "  if key_skills:\n",
        "    skill = ''.join(f'&skill={key_skill}' for key_skill in key_skills)\n",
        "\n",
        "  # Разрешение на работу, страна\n",
        "  # work_countries = [16, 213]\n",
        "  work_ticket = ''\n",
        "  if work_countries:\n",
        "    work_ticket = ''.join(f'&work_ticket={work_country}'\n",
        "                          for work_country in work_countries)\n",
        "\n",
        "  # Категория прав\n",
        "  # driver_types = ['B', 'C']\n",
        "  driver_license_types = ''\n",
        "  if driver_types:\n",
        "    driver_license_types = ''.join(f'&driver_license_types={type_drive}'\n",
        "                                   for type_drive in driver_types)\n",
        "\n",
        "  # Знание языков, уровень\n",
        "  # Дополнительно по английскому языку можно указать подтвержденные знания\n",
        "  # languages = ['rus.l1', 'bel.c2', 'eng.c1', 'zho.b1']\n",
        "  # verif_languages = '57.5'\n",
        "  language = ''\n",
        "  if languages:\n",
        "    language = ''.join(f'&language={lang}' for lang in languages)\n",
        "  verified_languages = ''\n",
        "  if languages:\n",
        "    verified_languages = f'&verified_languages={verif_languages}'\n",
        "\n",
        "  # Создаем ссылку для поиска резюме по заданным параметрам\n",
        "  base_url=\\\n",
        "  f\"https://hh.ru/search/resume?text={text}{area}&isDefaultArea=true\\\n",
        "&exp_period=all_time{logic}{pos}{order_by}{search_period}{items_on_page}{relocation}\\\n",
        "{filter_exp_industry}{filter_exp_period}{job_search_status}{age_from}{age_to}\\\n",
        "{label_age}{employment}{schedule}{experience}{professional_role}{gender}\\\n",
        "{label_gender}{currency_code}{salary_from}{salary_to}{label_salary}\\\n",
        "{citizenship}{label_foto}{label_vehicle}{education_level}{university}\\\n",
        "{verified_skills}{skill}{work_ticket}{driver_license_types}{language}\\\n",
        "{verified_languages}\"\n",
        "\n",
        "  return base_url"
      ],
      "metadata": {
        "id": "epuEwtds1PZ7"
      },
      "execution_count": 43,
      "outputs": []
    },
    {
      "cell_type": "markdown",
      "source": [
        "### Функция парсинга ссылок резюме"
      ],
      "metadata": {
        "id": "3w_qJlCmObTv"
      }
    },
    {
      "cell_type": "code",
      "source": [
        "  # Создаем объект для передачи заголовка\n",
        "  # Создадим юзер-агента, общего для всех запросов\n",
        "  ua = fake_useragent.UserAgent()"
      ],
      "metadata": {
        "id": "eY4juyhaL61g"
      },
      "execution_count": 44,
      "outputs": []
    },
    {
      "cell_type": "code",
      "source": [
        "# Функция для получения ссылок по запросу\n",
        "def get_links(base_url):\n",
        "\n",
        "  data = requests.get(\n",
        "      url=base_url,\n",
        "      headers = {\"user-agent\":ua.random})\n",
        "\n",
        "  # Если произошла ошибка, выходим из функции\n",
        "  if data.status_code != 200:\n",
        "    print(f\"Ошибка запроса: HTTP {data.status_code}\")\n",
        "    return\n",
        "\n",
        "  # В переменную soup передаем содержание полученной страницы\n",
        "  soup = BeautifulSoup(data.content, \"lxml\")\n",
        "  # Найдем количество страниц\n",
        "  # Внизу открытой страницы hh находим количество страниц 250; нажимаем правой кнопкой мыши и далее \"Проверить\"\n",
        "  # В открывшемся справа окне, вверху нажимаем кнопку проверить и выбираем количество страниц (250)\n",
        "  # Находим div class = \"pager\", и вводим его в attrs\n",
        "  # Далее надо найти все \"span\" и взять последний, т.к. там указано 250\n",
        "  # Далее у последнего span надо получить ссылку \"a\"\n",
        "  # В ссылке надо взять \"span\", и в \"span\" взять текст\n",
        "  # Полученное значение переводим в int\n",
        "  try:\n",
        "    page_count = int(soup.find(\"div\", attrs={\"class\":\"pager\"}).find_all(\"span\",recursive=False)[-1].find(\"a\").find(\"span\").text)\n",
        "  except Exception as e:\n",
        "    print(\"Ошибка при получении количества страниц: \", e)\n",
        "    return\n",
        "\n",
        "  print (f'Всего найдено страниц: {page_count}')\n",
        "\n",
        "  for page in range(page_count):\n",
        "    try:\n",
        "      # Создаем заголовок и передаем туда случайный заголовок из созданного объекта\n",
        "      # В запрос передаем страницу\n",
        "      data = requests.get(\n",
        "        url=f\"{base_url}&page={page}\",\n",
        "        headers = {\"user-agent\":ua.random}\n",
        "      )\n",
        "\n",
        "      if data.status_code != 200:\n",
        "        print(f\"Пропуск страницы {page} из-за ошибки HTTP {data.status_code}\")\n",
        "        continue\n",
        "      soup = BeautifulSoup(data.content, \"lxml\")\n",
        "      # Выбираем на hh любое резюме, нам нужна ссылка \"a\", у нее нужен атрибут \"data-qa\"; этот атрибут вставляем в soup\n",
        "      # Проходим по всем ссылкам\n",
        "      for a in soup.find_all(\"a\", attrs={\"data-qa\":\"serp-item__title\"}):\n",
        "        # в каждой ссылке \"a\" нам нужен адрес сайта в \"attrs\"\n",
        "        # в адресе сайта нужно всё до знака \"?\", поэтому разбиваем ссылку по знаку \"?\" и берем первый элемент\n",
        "        yield f\"https://hh.ru{a.attrs['href'].split('?')[0]}\"\n",
        "\n",
        "      print (f'Обработана страница: {page}')\n",
        "    except Exception as e:\n",
        "      print(f\"Ошибка при обработке страницы {page}: {e}\")\n",
        "    time.sleep(1)"
      ],
      "metadata": {
        "id": "r2yMwz-6Ao9n"
      },
      "execution_count": 45,
      "outputs": []
    },
    {
      "cell_type": "markdown",
      "source": [
        "### Функция парсинга информации из каждого резюме"
      ],
      "metadata": {
        "id": "19aeaPv1bRwS"
      }
    },
    {
      "cell_type": "code",
      "source": [
        "# Функция для получения данных резюме\n",
        "def get_resume(link_resume):\n",
        "\n",
        "  # Делаем запрос к переданной ссылке\n",
        "  data = requests.get(\n",
        "      url = link_resume,\n",
        "      headers={\"user-agent\":ua.random}\n",
        "  )\n",
        "  if data.status_code != 200:\n",
        "    return\n",
        "\n",
        "  soup = BeautifulSoup(data.content, \"lxml\")\n",
        "\n",
        "  # Для обеспечения стабильной работы сразу инициализируем переменные\n",
        "  id_link = \"\",\n",
        "  gender = \"\",\n",
        "  age = \"\",\n",
        "  date_of_birth = \"\",\n",
        "  about_me = \"\",\n",
        "  education = \"\",\n",
        "  language = \"\",\n",
        "  job_search_status = \"\",\n",
        "  place_of_residence = \"\",\n",
        "  moving = \"\",\n",
        "  business_trip = \"\",\n",
        "  name = \"\",\n",
        "  salary = \"\",\n",
        "  specialization_schedule = \"\",\n",
        "  experience_all_period = \"\",\n",
        "  experience = \"\",\n",
        "  tags = \"\"\n",
        "  link = \"\"\n",
        "\n",
        "  # Вытащим из ссылки id резюме\n",
        "  id_link = link_resume.split(\"/\")[-1]\n",
        "\n",
        "  # Спарсим пол (мужчина / женщина)\n",
        "  try:\n",
        "    gender = soup.find(\"span\", attrs={\"data-qa\": \"resume-personal-gender\"}).text.replace(\"\\u2009\",\"\").replace(\"\\xa0\", \" \")\n",
        "  except:\n",
        "    gender = \"\"\n",
        "\n",
        "  # Спарсим возраст\n",
        "  try:\n",
        "    age = soup.find(\"span\", attrs={\"data-qa\": \"resume-personal-age\"}).text.replace(\"\\u2009\",\"\").replace(\"\\xa0\", \" \")\n",
        "  except:\n",
        "    age = \"\"\n",
        "\n",
        "  # Спарсим дату рождения\n",
        "  try:\n",
        "    date_of_birth = soup.find(\"span\", attrs={\"data-qa\":\"resume-personal-birthday\"}).text.replace(\"\\xa0\", \" \")\n",
        "  except:\n",
        "    date_of_birth = \"\"\n",
        "\n",
        "  # Спарсим статус поиска работы (Активно ищет работу / Не ищет работу / Рассматривает предложения / и т.д.)\n",
        "  try:\n",
        "    job_search_status = soup.find(\"span\", attrs={\"data-qa\": \"job-search-status\"}).text\n",
        "  except:\n",
        "    job_search_status = \"\"\n",
        "\n",
        "  # Спарсим информацию \"О себе\"\n",
        "  try:\n",
        "    about_me = soup.find(\"div\", attrs={\"data-qa\": \"resume-block-skills-content\"}).text.strip()\n",
        "  except:\n",
        "    about_me = \"\"\n",
        "\n",
        "  # Спарсим информацию об образовании\n",
        "  try:\n",
        "    # Находим блок образования и извлекаем из него текст\n",
        "    education_blocks = soup.find_all(\"div\", attrs={\"data-qa\": \"resume-block-education\"})\n",
        "    education = []\n",
        "    for block in education_blocks:\n",
        "      education_info = block.text.strip().replace(\"\\n\", \" \").replace(\"\\xa0\", \" \")\n",
        "      education.append(education_info)\n",
        "  except:\n",
        "    education = []\n",
        "\n",
        "  # Спарсим информацию о знании языков\n",
        "  try:\n",
        "    language_blocks = soup.find_all(\"div\", attrs={\"data-qa\": \"resume-block-languages\"})\n",
        "    language = []\n",
        "    for block in language_blocks:\n",
        "      lang_info = block.text.strip().replace(\"\\n\", \" \").replace(\"\\xa0\", \" \")\n",
        "      language.append(lang_info)\n",
        "  except:\n",
        "    language = []\n",
        "\n",
        "\n",
        "  # Спарсим место проживания (город, метро)\n",
        "  # Создадим пустой список, куда будем добавлять \"Город\", \"Метро\"\n",
        "  list_of_residence = []\n",
        "  # Парсим \"Город\" и при удачном парсинге добавляем его в пустой список\n",
        "  city = soup.find(\"span\", attrs={\"data-qa\":\"resume-personal-address\"})\n",
        "  if city: list_of_residence.append(city.text.replace(\"\\xa0\", \" \"))\n",
        "  # Парсим \"Метро\" и при удачном парсинге добавляем его в пустой список\n",
        "  # Не во всех резюме есть \"Метро\", поэтому делаем проверку удачного парсинга\n",
        "  metro = soup.find(\"span\", attrs={\"data-qa\":\"resume-personal-metro\"})\n",
        "  if metro: list_of_residence.append(metro.text.replace(\"\\xa0\", \" \"))\n",
        "  # Соединяем город и метро, и получаем место проживания\n",
        "  place_of_residence = ', '.join(part_residence for part_residence in list_of_residence).strip()\n",
        "\n",
        "  # Спарсим готовность к переезду, командировкам\n",
        "  try:\n",
        "    # Находим весь текст в блоке \"Готовность к переезду/командировкам\"\n",
        "    movings = soup.find(attrs={\"class\":\"bloko-translate-guard\"}).text.replace(\"\\xa0\", \" \")\n",
        "    # Разделяем текст на части по запятой\n",
        "    parts = movings.split(',')\n",
        "    # Создадим пустой список, куда будем добавлять фразы касательно переезда\n",
        "    moving_list = []\n",
        "    # Проходимся по частям текста за исключением последней,\n",
        "    # т.к. последняя часть - это готовность к командировкам\n",
        "    for part in parts[:-1]:\n",
        "      # Если часть текста не содержится в \"Место проживания\"\n",
        "      # добавляем ее в пустой список\n",
        "      if part not in place_of_residence:\n",
        "        moving_list.append(part)\n",
        "    # Полученный список соединяем и получаем \"Готовность к переезду\"\n",
        "    moving = ','.join(part_moving for part_moving in moving_list).strip()\n",
        "    # Берем последнюю часть, получаем готовность к командировкам\n",
        "    business_trip = parts[-1].strip()\n",
        "  except:\n",
        "    moving = \"\"\n",
        "    business_trip = \"\"\n",
        "\n",
        "  # Спарсим название позиции\n",
        "  try:\n",
        "    name = soup.find(attrs={\"class\":\"resume-block__title-text\"}).text\n",
        "  except:\n",
        "    name = \"\"\n",
        "\n",
        "  # Спарсим зарплату и уберем лишние символы (\\u2009, \\xa0)\n",
        "  try:\n",
        "    salary = soup.find(attrs={\"class\":\"resume-block__salary\"}).text.replace(\"\\u2009\",\"\").replace(\"\\xa0\", \" \")\n",
        "  except:\n",
        "    salary = \"\"\n",
        "\n",
        "  # Спарсим специализации и график работы\n",
        "  try:\n",
        "    # Находим все блоки с class \"resume-block-container\"\n",
        "    specialized_blocks = soup.find_all(attrs={\"class\":\"resume-block-container\"})\n",
        "    # Проверим каждый блок и найдем блок в котором есть class \"resume-block__specialization\"\n",
        "    for block in specialized_blocks:\n",
        "      if block.find(attrs={\"class\":\"resume-block__specialization\"}):\n",
        "        # Запишем в переменную текст найденного блока\n",
        "        # Предварительно добавив пробелы перед заглавными буквами и затем удалив лишние пробелы (в начале)\n",
        "        specialization_schedule = re.sub(r'([А-ЯA-Z])', r' \\1', block.text).strip()\n",
        "  except:\n",
        "    specialization_schedule = \"\"\n",
        "\n",
        "  # Спарсим общее время опыта работы\n",
        "  try:\n",
        "    experience_all_period = soup.find(attrs={\"class\":\"resume-block__title-text resume-block__title-text_sub\"}).text.replace(\"\\xa0\", \" \")\n",
        "  except:\n",
        "    experience_all_period = \"\"\n",
        "\n",
        "  # Спарсим опыт работы\n",
        "  try:\n",
        "    # Найдем все блоки с class=\"resume-block-item-gap\" в блоке с \"data-qa\":\"resume-block-experience\"\n",
        "    # В самом первом блоке информация дублируется, поэтому список создадим без самого первого элемента\n",
        "    blocks_item_gap = soup.find(attrs={\"data-qa\":\"resume-block-experience\"}).find_all(attrs={\"class\":\"resume-block-item-gap\"})[1:]\n",
        "    # Создадим паттерн для последующего поиска блоков\n",
        "    reexp = re.compile('bloko-column.*')\n",
        "    blocks_all = [] # Сюда будем складывать найденные блоки\n",
        "    experience = [] # Сюда будем складывать итоговый текст\n",
        "    # Проходимся по каждому вышенайденному блоку и находим все блоки с атрибутом class по заданному паттерну\n",
        "    for block_item in blocks_item_gap:\n",
        "      blocks_all.append (block_item.find_all(class_=reexp)[1:]) # Аналогично нам нужен список без самого первого элемента\n",
        "    # Проходимся по каждому списку блоков в общем списке blocks_all\n",
        "    for block in blocks_all:\n",
        "      # Проходимся по каждому элементу\n",
        "      for data in block:\n",
        "        # print(data.text.replace(\"\\xa0\", \" \"))\n",
        "        # Полученный текст из каждого элемента складываем в итоговый список\n",
        "        experience.append(data.text.replace(\"\\xa0\", \" \"))\n",
        "  except:\n",
        "    experience = \"\"\n",
        "\n",
        "  # Спарсим ключевые навыки\n",
        "  # Находим атрибут, где находятся все ключевые навыки (data-qa = \"skills-table); далее находим class для каждого отдельного навыка, оставляем class с text\n",
        "  try:\n",
        "    tags = [tag.text for tag in soup.find(attrs={\"data-qa\":\"skills-table\"}).find_all(attrs={\"class\":\"bloko-tag__section_text\"})]\n",
        "  except:\n",
        "    tags = []\n",
        "\n",
        "\n",
        "  # Собираем все найденные атрибуты в словарь, в конце словаря добавляем url-адрес резюме\n",
        "  resume = {\n",
        "      \"id\":id_link,\n",
        "      \"gender\":gender,\n",
        "      \"age\":age,\n",
        "      \"date_of_birth\":date_of_birth,\n",
        "      \"about_me\": about_me,\n",
        "      \"education\": education,\n",
        "      \"language\": language,\n",
        "      \"job_search_status\":job_search_status,\n",
        "      \"place_of_residence\":place_of_residence,\n",
        "      \"moving\":moving,\n",
        "      \"business_trip\":business_trip,\n",
        "      \"name\":name,\n",
        "      \"salary\":salary,\n",
        "      \"specialization_schedule\":specialization_schedule,\n",
        "      \"experience_all_period\":experience_all_period,\n",
        "      \"experience\":experience,\n",
        "      \"tags\":tags,\n",
        "      \"link\":link_resume\n",
        "  }\n",
        "  return resume"
      ],
      "metadata": {
        "id": "ijbkVNPxA4c5"
      },
      "execution_count": 46,
      "outputs": []
    },
    {
      "cell_type": "markdown",
      "source": [
        "### Функция парсинга и запись результата в csv файл"
      ],
      "metadata": {
        "id": "4KD-BwsRwKQr"
      }
    },
    {
      "cell_type": "code",
      "source": [
        "# Функция парсинга резюме по ссылкам и записи результатов в файл\n",
        "search = \"\"\n",
        "def result_resumes(link_resume: list,\n",
        "                   file_path = f'/content/drive/MyDrive/Practice2/parsinghh/result_resumes_{search}.csv',\n",
        "                   fieldnames = ['id', 'gender', 'age', 'date_of_birth', 'about_me',\n",
        "                    'education', 'language', 'job_search_status',\n",
        "                    'place_of_residence', 'moving', 'business_trip', 'name',\n",
        "                    'salary', 'specialization_schedule',\n",
        "                    'experience_all_period', 'experience', 'tags', 'link']):\n",
        "  '''\n",
        "  :link_resume: список ссылок резюме\n",
        "  :file_path: путь к файлу для сохранения результатов парсинга\n",
        "  :fieldnames: названия столбцов в файле\n",
        "  '''\n",
        "\n",
        "  # Проверяем наличие файла\n",
        "  if not os.path.isfile(file_path):\n",
        "    # Если файла не существует, создаем новый файл\n",
        "    with open(file_path, 'w', newline='', encoding='utf-8') as res_file:\n",
        "      writer = csv.DictWriter(res_file, fieldnames=fieldnames)\n",
        "      # Записываем заголовки столбцов\n",
        "      writer.writeheader()\n",
        "\n",
        "  # Для отображения прогресса разделим количество ссылок на группы по 20 штук\n",
        "  groups = [link_resume[i:i+20] for i in range(0, len(link_resume), 20)]\n",
        "\n",
        "\n",
        "  # Функция для создания синего прогресс-бара\n",
        "  def blue_bar(iterable, **kwargs):\n",
        "      # Создаем прогресс-бар tqdm\n",
        "      bar = tqdm(iterable, **kwargs)\n",
        "      # Устанавливаем цвет текста и прогресс-бара в синий\n",
        "      bar.bar_format = \"\\033[34m{l_bar}{bar}{r_bar}\\033[0m\"\n",
        "      return bar\n",
        "\n",
        "  # открываем файл в режиме добавления (a - append)\n",
        "  with open(file_path, 'a', newline='', encoding='utf-8') as res_file:\n",
        "    writer = csv.DictWriter(res_file, fieldnames=fieldnames)\n",
        "    # Прогресс-бар для каждой группы ссылок\n",
        "    for idx, group in enumerate(groups[:-1], start=1):\n",
        "      # Используем tqdm для отслеживания прогресса обработки\n",
        "      for link in blue_bar(group, desc=f'Обработка {idx} группы резюме', unit='резюме'):\n",
        "        resume_data = get_resume(link)\n",
        "        if resume_data: # При успешном парсинге резюме\n",
        "          # # открываем файл в режиме добавления (a - append)\n",
        "          # with open(file_path, 'a', newline='', encoding='utf-8') as res_file:\n",
        "            # writer = csv.DictWriter(res_file, fieldnames=fieldnames)\n",
        "          writer.writerow(resume_data)  # Записываем данные в CSV\n",
        "          # print (resume_data)\n",
        "        time.sleep(1)\n",
        "      print(f\"Группа {idx} обработана!\")\n",
        "\n",
        "    # Отдельно обрабатываем последнюю группу\n",
        "    last_idx = len(groups)\n",
        "    for link in blue_bar(groups[-1], desc=f'Обработка {last_idx} группы резюме', unit='резюме'):\n",
        "        resume_data = get_resume(link)\n",
        "        if resume_data: # При успешном парсинге резюме\n",
        "          # # открываем файл в режиме добавления (a - append)\n",
        "          # with open(file_path, 'a', newline='', encoding='utf-8') as res_file:\n",
        "          #   writer = csv.DictWriter(res_file, fieldnames=fieldnames)\n",
        "          writer.writerow(resume_data)  # Записываем данные в CSV\n",
        "        time.sleep(1)\n",
        "    print(f\"Последняя группа ({last_idx}) обработана!\")\n"
      ],
      "metadata": {
        "id": "AgrBQNNEv-Kw"
      },
      "execution_count": 47,
      "outputs": []
    },
    {
      "cell_type": "markdown",
      "source": [
        "### Результирующая функция. <br><br>На входе ключевое слово/фраза для поиска и путь к файлам, <br> на выходе два файла csv: <br>1. перечень ссылок резюме; 2. результат парсинга резюме"
      ],
      "metadata": {
        "id": "-h3qCpCm8JHT"
      }
    },
    {
      "cell_type": "code",
      "source": [
        "def links_and_resumes (search,\n",
        "                       link_path = f'/content/drive/MyDrive/Practice2/parsinghh/link_resume_{search}.csv',\n",
        "                       resume_path = f'/content/drive/MyDrive/Practice2/parsinghh/result_resumes_{search}.csv'):\n",
        "                      #  link_path = \"/content/drive/MyDrive/Practice2/parsinghh/link_resume_test.csv\",\n",
        "                      #  resume_path = '/content/drive/MyDrive/Practice2/parsinghh/result_resumes_test.csv'):\n",
        "\n",
        "  '''\n",
        "  :search: ключевое слово / фраза для поиска ссылок резюме\n",
        "  :link_path: путь к файлу со списком ссылок резюме\n",
        "  :resume_path: путь к файлу с результатами парсинга каждого резюме\n",
        "  '''\n",
        "\n",
        "  # Получаем ссылку-запрос для последующего парсинга ссылок резюме\n",
        "  base_url = ref_search_resume(search)\n",
        "\n",
        "  # Полученные ссылки соберем в список link_resume\n",
        "  link_resume = [a for a in get_links(base_url)]\n",
        "\n",
        "  # Записываем полученные ссылки в csv-файл\n",
        "  with open(\n",
        "      link_path,\n",
        "      'w', newline='', encoding='utf-8') as file:\n",
        "      writer = csv.writer(file)\n",
        "      for resume in link_resume:\n",
        "          writer.writerow([resume])  # Каждая ссылка записывается в новую строку\n",
        "\n",
        "  # Парсим резюме и записываем в файл\n",
        "  result_resumes(link_resume, file_path = resume_path)"
      ],
      "metadata": {
        "id": "DLteNzz88lVh"
      },
      "execution_count": 48,
      "outputs": []
    },
    {
      "cell_type": "markdown",
      "source": [
        "### Запуск результирующей функции"
      ],
      "metadata": {
        "id": "BdZVyFUAKZZh"
      }
    },
    {
      "cell_type": "code",
      "source": [
        "# Запускаем функцию\n",
        "links_and_resumes (\"git\")"
      ],
      "metadata": {
        "colab": {
          "base_uri": "https://localhost:8080/"
        },
        "id": "WAndUBBKDG95",
        "outputId": "24d62060-7dd1-49c5-927f-ea937981f00e"
      },
      "execution_count": 49,
      "outputs": [
        {
          "output_type": "stream",
          "name": "stdout",
          "text": [
            "Всего найдено страниц: 120\n",
            "Обработана страница: 0\n",
            "Обработана страница: 1\n",
            "Обработана страница: 2\n",
            "Обработана страница: 3\n",
            "Обработана страница: 4\n",
            "Обработана страница: 5\n",
            "Обработана страница: 6\n",
            "Обработана страница: 7\n",
            "Обработана страница: 8\n",
            "Обработана страница: 9\n",
            "Обработана страница: 10\n",
            "Обработана страница: 11\n",
            "Обработана страница: 12\n",
            "Обработана страница: 13\n",
            "Обработана страница: 14\n",
            "Обработана страница: 15\n",
            "Обработана страница: 16\n",
            "Обработана страница: 17\n",
            "Обработана страница: 18\n",
            "Обработана страница: 19\n",
            "Обработана страница: 20\n",
            "Обработана страница: 21\n",
            "Обработана страница: 22\n",
            "Обработана страница: 23\n",
            "Обработана страница: 24\n",
            "Обработана страница: 25\n",
            "Обработана страница: 26\n",
            "Обработана страница: 27\n",
            "Обработана страница: 28\n",
            "Обработана страница: 29\n",
            "Обработана страница: 30\n",
            "Обработана страница: 31\n",
            "Обработана страница: 32\n",
            "Обработана страница: 33\n",
            "Обработана страница: 34\n",
            "Обработана страница: 35\n",
            "Обработана страница: 36\n",
            "Обработана страница: 37\n",
            "Обработана страница: 38\n",
            "Обработана страница: 39\n",
            "Обработана страница: 40\n",
            "Обработана страница: 41\n",
            "Обработана страница: 42\n",
            "Обработана страница: 43\n",
            "Обработана страница: 44\n",
            "Обработана страница: 45\n",
            "Обработана страница: 46\n",
            "Обработана страница: 47\n",
            "Обработана страница: 48\n",
            "Обработана страница: 49\n",
            "Обработана страница: 50\n",
            "Обработана страница: 51\n",
            "Обработана страница: 52\n",
            "Обработана страница: 53\n",
            "Обработана страница: 54\n",
            "Обработана страница: 55\n",
            "Обработана страница: 56\n",
            "Обработана страница: 57\n",
            "Обработана страница: 58\n",
            "Обработана страница: 59\n",
            "Обработана страница: 60\n",
            "Обработана страница: 61\n",
            "Обработана страница: 62\n",
            "Обработана страница: 63\n",
            "Обработана страница: 64\n",
            "Обработана страница: 65\n",
            "Обработана страница: 66\n",
            "Обработана страница: 67\n",
            "Обработана страница: 68\n",
            "Обработана страница: 69\n",
            "Обработана страница: 70\n",
            "Обработана страница: 71\n",
            "Обработана страница: 72\n",
            "Обработана страница: 73\n",
            "Обработана страница: 74\n",
            "Обработана страница: 75\n",
            "Обработана страница: 76\n",
            "Обработана страница: 77\n",
            "Обработана страница: 78\n",
            "Обработана страница: 79\n",
            "Обработана страница: 80\n",
            "Обработана страница: 81\n",
            "Обработана страница: 82\n",
            "Обработана страница: 83\n",
            "Обработана страница: 84\n",
            "Обработана страница: 85\n",
            "Обработана страница: 86\n",
            "Обработана страница: 87\n",
            "Обработана страница: 88\n",
            "Обработана страница: 89\n",
            "Обработана страница: 90\n",
            "Обработана страница: 91\n",
            "Обработана страница: 92\n",
            "Обработана страница: 93\n",
            "Обработана страница: 94\n",
            "Обработана страница: 95\n",
            "Обработана страница: 96\n",
            "Обработана страница: 97\n",
            "Обработана страница: 98\n",
            "Обработана страница: 99\n",
            "Обработана страница: 100\n",
            "Обработана страница: 101\n",
            "Обработана страница: 102\n",
            "Обработана страница: 103\n",
            "Обработана страница: 104\n",
            "Обработана страница: 105\n",
            "Обработана страница: 106\n",
            "Обработана страница: 107\n",
            "Обработана страница: 108\n",
            "Обработана страница: 109\n",
            "Обработана страница: 110\n",
            "Обработана страница: 111\n",
            "Обработана страница: 112\n",
            "Обработана страница: 113\n",
            "Обработана страница: 114\n",
            "Обработана страница: 115\n",
            "Обработана страница: 116\n",
            "Обработана страница: 117\n",
            "Обработана страница: 118\n",
            "Обработана страница: 119\n"
          ]
        },
        {
          "output_type": "stream",
          "name": "stderr",
          "text": [
            "\u001b[34mОбработка 1 группы резюме: 100%|██████████| 20/20 [00:48<00:00,  2.43s/резюме]\u001b[0m\n"
          ]
        },
        {
          "output_type": "stream",
          "name": "stdout",
          "text": [
            "Группа 1 обработана!\n"
          ]
        },
        {
          "output_type": "stream",
          "name": "stderr",
          "text": [
            "\u001b[34mОбработка 2 группы резюме: 100%|██████████| 20/20 [00:51<00:00,  2.58s/резюме]\u001b[0m\n"
          ]
        },
        {
          "output_type": "stream",
          "name": "stdout",
          "text": [
            "Группа 2 обработана!\n"
          ]
        },
        {
          "output_type": "stream",
          "name": "stderr",
          "text": [
            "\u001b[34mОбработка 3 группы резюме: 100%|██████████| 20/20 [00:48<00:00,  2.43s/резюме]\u001b[0m\n"
          ]
        },
        {
          "output_type": "stream",
          "name": "stdout",
          "text": [
            "Группа 3 обработана!\n"
          ]
        },
        {
          "output_type": "stream",
          "name": "stderr",
          "text": [
            "\u001b[34mОбработка 4 группы резюме: 100%|██████████| 20/20 [00:49<00:00,  2.47s/резюме]\u001b[0m\n"
          ]
        },
        {
          "output_type": "stream",
          "name": "stdout",
          "text": [
            "Группа 4 обработана!\n"
          ]
        },
        {
          "output_type": "stream",
          "name": "stderr",
          "text": [
            "\u001b[34mОбработка 5 группы резюме: 100%|██████████| 20/20 [00:48<00:00,  2.44s/резюме]\u001b[0m\n"
          ]
        },
        {
          "output_type": "stream",
          "name": "stdout",
          "text": [
            "Группа 5 обработана!\n"
          ]
        },
        {
          "output_type": "stream",
          "name": "stderr",
          "text": [
            "\u001b[34mОбработка 6 группы резюме: 100%|██████████| 20/20 [00:48<00:00,  2.43s/резюме]\u001b[0m\n"
          ]
        },
        {
          "output_type": "stream",
          "name": "stdout",
          "text": [
            "Группа 6 обработана!\n"
          ]
        },
        {
          "output_type": "stream",
          "name": "stderr",
          "text": [
            "\u001b[34mОбработка 7 группы резюме: 100%|██████████| 20/20 [00:48<00:00,  2.41s/резюме]\u001b[0m\n"
          ]
        },
        {
          "output_type": "stream",
          "name": "stdout",
          "text": [
            "Группа 7 обработана!\n"
          ]
        },
        {
          "output_type": "stream",
          "name": "stderr",
          "text": [
            "\u001b[34mОбработка 8 группы резюме: 100%|██████████| 20/20 [00:48<00:00,  2.40s/резюме]\u001b[0m\n"
          ]
        },
        {
          "output_type": "stream",
          "name": "stdout",
          "text": [
            "Группа 8 обработана!\n"
          ]
        },
        {
          "output_type": "stream",
          "name": "stderr",
          "text": [
            "\u001b[34mОбработка 9 группы резюме: 100%|██████████| 20/20 [00:49<00:00,  2.46s/резюме]\u001b[0m\n"
          ]
        },
        {
          "output_type": "stream",
          "name": "stdout",
          "text": [
            "Группа 9 обработана!\n"
          ]
        },
        {
          "output_type": "stream",
          "name": "stderr",
          "text": [
            "\u001b[34mОбработка 10 группы резюме: 100%|██████████| 20/20 [00:48<00:00,  2.45s/резюме]\u001b[0m\n"
          ]
        },
        {
          "output_type": "stream",
          "name": "stdout",
          "text": [
            "Группа 10 обработана!\n"
          ]
        },
        {
          "output_type": "stream",
          "name": "stderr",
          "text": [
            "\u001b[34mОбработка 11 группы резюме: 100%|██████████| 20/20 [00:54<00:00,  2.72s/резюме]\u001b[0m\n"
          ]
        },
        {
          "output_type": "stream",
          "name": "stdout",
          "text": [
            "Группа 11 обработана!\n"
          ]
        },
        {
          "output_type": "stream",
          "name": "stderr",
          "text": [
            "\u001b[34mОбработка 12 группы резюме: 100%|██████████| 20/20 [00:49<00:00,  2.48s/резюме]\u001b[0m\n"
          ]
        },
        {
          "output_type": "stream",
          "name": "stdout",
          "text": [
            "Группа 12 обработана!\n"
          ]
        },
        {
          "output_type": "stream",
          "name": "stderr",
          "text": [
            "\u001b[34mОбработка 13 группы резюме: 100%|██████████| 20/20 [00:49<00:00,  2.47s/резюме]\u001b[0m\n"
          ]
        },
        {
          "output_type": "stream",
          "name": "stdout",
          "text": [
            "Группа 13 обработана!\n"
          ]
        },
        {
          "output_type": "stream",
          "name": "stderr",
          "text": [
            "\u001b[34mОбработка 14 группы резюме: 100%|██████████| 20/20 [00:50<00:00,  2.54s/резюме]\u001b[0m\n"
          ]
        },
        {
          "output_type": "stream",
          "name": "stdout",
          "text": [
            "Группа 14 обработана!\n"
          ]
        },
        {
          "output_type": "stream",
          "name": "stderr",
          "text": [
            "\u001b[34mОбработка 15 группы резюме: 100%|██████████| 20/20 [00:49<00:00,  2.48s/резюме]\u001b[0m\n"
          ]
        },
        {
          "output_type": "stream",
          "name": "stdout",
          "text": [
            "Группа 15 обработана!\n"
          ]
        },
        {
          "output_type": "stream",
          "name": "stderr",
          "text": [
            "\u001b[34mОбработка 16 группы резюме: 100%|██████████| 20/20 [00:54<00:00,  2.74s/резюме]\u001b[0m\n"
          ]
        },
        {
          "output_type": "stream",
          "name": "stdout",
          "text": [
            "Группа 16 обработана!\n"
          ]
        },
        {
          "output_type": "stream",
          "name": "stderr",
          "text": [
            "\u001b[34mОбработка 17 группы резюме: 100%|██████████| 20/20 [00:51<00:00,  2.57s/резюме]\u001b[0m\n"
          ]
        },
        {
          "output_type": "stream",
          "name": "stdout",
          "text": [
            "Группа 17 обработана!\n"
          ]
        },
        {
          "output_type": "stream",
          "name": "stderr",
          "text": [
            "\u001b[34mОбработка 18 группы резюме: 100%|██████████| 20/20 [00:49<00:00,  2.47s/резюме]\u001b[0m\n"
          ]
        },
        {
          "output_type": "stream",
          "name": "stdout",
          "text": [
            "Группа 18 обработана!\n"
          ]
        },
        {
          "output_type": "stream",
          "name": "stderr",
          "text": [
            "\u001b[34mОбработка 19 группы резюме: 100%|██████████| 20/20 [00:50<00:00,  2.55s/резюме]\u001b[0m\n"
          ]
        },
        {
          "output_type": "stream",
          "name": "stdout",
          "text": [
            "Группа 19 обработана!\n"
          ]
        },
        {
          "output_type": "stream",
          "name": "stderr",
          "text": [
            "\u001b[34mОбработка 20 группы резюме: 100%|██████████| 20/20 [00:48<00:00,  2.44s/резюме]\u001b[0m\n"
          ]
        },
        {
          "output_type": "stream",
          "name": "stdout",
          "text": [
            "Группа 20 обработана!\n"
          ]
        },
        {
          "output_type": "stream",
          "name": "stderr",
          "text": [
            "\u001b[34mОбработка 21 группы резюме: 100%|██████████| 20/20 [00:47<00:00,  2.36s/резюме]\u001b[0m\n"
          ]
        },
        {
          "output_type": "stream",
          "name": "stdout",
          "text": [
            "Группа 21 обработана!\n"
          ]
        },
        {
          "output_type": "stream",
          "name": "stderr",
          "text": [
            "\u001b[34mОбработка 22 группы резюме: 100%|██████████| 20/20 [00:50<00:00,  2.54s/резюме]\u001b[0m\n"
          ]
        },
        {
          "output_type": "stream",
          "name": "stdout",
          "text": [
            "Группа 22 обработана!\n"
          ]
        },
        {
          "output_type": "stream",
          "name": "stderr",
          "text": [
            "\u001b[34mОбработка 23 группы резюме: 100%|██████████| 20/20 [00:49<00:00,  2.49s/резюме]\u001b[0m\n"
          ]
        },
        {
          "output_type": "stream",
          "name": "stdout",
          "text": [
            "Группа 23 обработана!\n"
          ]
        },
        {
          "output_type": "stream",
          "name": "stderr",
          "text": [
            "\u001b[34mОбработка 24 группы резюме: 100%|██████████| 20/20 [00:53<00:00,  2.67s/резюме]\u001b[0m\n"
          ]
        },
        {
          "output_type": "stream",
          "name": "stdout",
          "text": [
            "Группа 24 обработана!\n"
          ]
        },
        {
          "output_type": "stream",
          "name": "stderr",
          "text": [
            "\u001b[34mОбработка 25 группы резюме: 100%|██████████| 20/20 [00:52<00:00,  2.64s/резюме]\u001b[0m\n"
          ]
        },
        {
          "output_type": "stream",
          "name": "stdout",
          "text": [
            "Группа 25 обработана!\n"
          ]
        },
        {
          "output_type": "stream",
          "name": "stderr",
          "text": [
            "\u001b[34mОбработка 26 группы резюме: 100%|██████████| 20/20 [00:49<00:00,  2.48s/резюме]\u001b[0m\n"
          ]
        },
        {
          "output_type": "stream",
          "name": "stdout",
          "text": [
            "Группа 26 обработана!\n"
          ]
        },
        {
          "output_type": "stream",
          "name": "stderr",
          "text": [
            "\u001b[34mОбработка 27 группы резюме: 100%|██████████| 20/20 [00:49<00:00,  2.48s/резюме]\u001b[0m\n"
          ]
        },
        {
          "output_type": "stream",
          "name": "stdout",
          "text": [
            "Группа 27 обработана!\n"
          ]
        },
        {
          "output_type": "stream",
          "name": "stderr",
          "text": [
            "\u001b[34mОбработка 28 группы резюме: 100%|██████████| 20/20 [00:48<00:00,  2.45s/резюме]\u001b[0m\n"
          ]
        },
        {
          "output_type": "stream",
          "name": "stdout",
          "text": [
            "Группа 28 обработана!\n"
          ]
        },
        {
          "output_type": "stream",
          "name": "stderr",
          "text": [
            "\u001b[34mОбработка 29 группы резюме: 100%|██████████| 20/20 [00:49<00:00,  2.49s/резюме]\u001b[0m\n"
          ]
        },
        {
          "output_type": "stream",
          "name": "stdout",
          "text": [
            "Группа 29 обработана!\n"
          ]
        },
        {
          "output_type": "stream",
          "name": "stderr",
          "text": [
            "\u001b[34mОбработка 30 группы резюме: 100%|██████████| 20/20 [00:47<00:00,  2.40s/резюме]\u001b[0m\n"
          ]
        },
        {
          "output_type": "stream",
          "name": "stdout",
          "text": [
            "Группа 30 обработана!\n"
          ]
        },
        {
          "output_type": "stream",
          "name": "stderr",
          "text": [
            "\u001b[34mОбработка 31 группы резюме: 100%|██████████| 20/20 [00:49<00:00,  2.47s/резюме]\u001b[0m\n"
          ]
        },
        {
          "output_type": "stream",
          "name": "stdout",
          "text": [
            "Группа 31 обработана!\n"
          ]
        },
        {
          "output_type": "stream",
          "name": "stderr",
          "text": [
            "\u001b[34mОбработка 32 группы резюме: 100%|██████████| 20/20 [00:49<00:00,  2.47s/резюме]\u001b[0m\n"
          ]
        },
        {
          "output_type": "stream",
          "name": "stdout",
          "text": [
            "Группа 32 обработана!\n"
          ]
        },
        {
          "output_type": "stream",
          "name": "stderr",
          "text": [
            "\u001b[34mОбработка 33 группы резюме: 100%|██████████| 20/20 [00:51<00:00,  2.59s/резюме]\u001b[0m\n"
          ]
        },
        {
          "output_type": "stream",
          "name": "stdout",
          "text": [
            "Группа 33 обработана!\n"
          ]
        },
        {
          "output_type": "stream",
          "name": "stderr",
          "text": [
            "\u001b[34mОбработка 34 группы резюме: 100%|██████████| 20/20 [00:52<00:00,  2.63s/резюме]\u001b[0m\n"
          ]
        },
        {
          "output_type": "stream",
          "name": "stdout",
          "text": [
            "Группа 34 обработана!\n"
          ]
        },
        {
          "output_type": "stream",
          "name": "stderr",
          "text": [
            "\u001b[34mОбработка 35 группы резюме: 100%|██████████| 20/20 [00:49<00:00,  2.46s/резюме]\u001b[0m\n"
          ]
        },
        {
          "output_type": "stream",
          "name": "stdout",
          "text": [
            "Группа 35 обработана!\n"
          ]
        },
        {
          "output_type": "stream",
          "name": "stderr",
          "text": [
            "\u001b[34mОбработка 36 группы резюме: 100%|██████████| 20/20 [00:50<00:00,  2.50s/резюме]\u001b[0m\n"
          ]
        },
        {
          "output_type": "stream",
          "name": "stdout",
          "text": [
            "Группа 36 обработана!\n"
          ]
        },
        {
          "output_type": "stream",
          "name": "stderr",
          "text": [
            "\u001b[34mОбработка 37 группы резюме: 100%|██████████| 20/20 [00:49<00:00,  2.47s/резюме]\u001b[0m\n"
          ]
        },
        {
          "output_type": "stream",
          "name": "stdout",
          "text": [
            "Группа 37 обработана!\n"
          ]
        },
        {
          "output_type": "stream",
          "name": "stderr",
          "text": [
            "\u001b[34mОбработка 38 группы резюме: 100%|██████████| 20/20 [00:50<00:00,  2.50s/резюме]\u001b[0m\n"
          ]
        },
        {
          "output_type": "stream",
          "name": "stdout",
          "text": [
            "Группа 38 обработана!\n"
          ]
        },
        {
          "output_type": "stream",
          "name": "stderr",
          "text": [
            "\u001b[34mОбработка 39 группы резюме: 100%|██████████| 20/20 [00:54<00:00,  2.71s/резюме]\u001b[0m\n"
          ]
        },
        {
          "output_type": "stream",
          "name": "stdout",
          "text": [
            "Группа 39 обработана!\n"
          ]
        },
        {
          "output_type": "stream",
          "name": "stderr",
          "text": [
            "\u001b[34mОбработка 40 группы резюме: 100%|██████████| 20/20 [00:56<00:00,  2.81s/резюме]\u001b[0m\n"
          ]
        },
        {
          "output_type": "stream",
          "name": "stdout",
          "text": [
            "Группа 40 обработана!\n"
          ]
        },
        {
          "output_type": "stream",
          "name": "stderr",
          "text": [
            "\u001b[34mОбработка 41 группы резюме: 100%|██████████| 20/20 [00:49<00:00,  2.49s/резюме]\u001b[0m\n"
          ]
        },
        {
          "output_type": "stream",
          "name": "stdout",
          "text": [
            "Группа 41 обработана!\n"
          ]
        },
        {
          "output_type": "stream",
          "name": "stderr",
          "text": [
            "\u001b[34mОбработка 42 группы резюме: 100%|██████████| 20/20 [00:48<00:00,  2.42s/резюме]\u001b[0m\n"
          ]
        },
        {
          "output_type": "stream",
          "name": "stdout",
          "text": [
            "Группа 42 обработана!\n"
          ]
        },
        {
          "output_type": "stream",
          "name": "stderr",
          "text": [
            "\u001b[34mОбработка 43 группы резюме: 100%|██████████| 20/20 [00:49<00:00,  2.45s/резюме]\u001b[0m\n"
          ]
        },
        {
          "output_type": "stream",
          "name": "stdout",
          "text": [
            "Группа 43 обработана!\n"
          ]
        },
        {
          "output_type": "stream",
          "name": "stderr",
          "text": [
            "\u001b[34mОбработка 44 группы резюме: 100%|██████████| 20/20 [00:50<00:00,  2.53s/резюме]\u001b[0m\n"
          ]
        },
        {
          "output_type": "stream",
          "name": "stdout",
          "text": [
            "Группа 44 обработана!\n"
          ]
        },
        {
          "output_type": "stream",
          "name": "stderr",
          "text": [
            "\u001b[34mОбработка 45 группы резюме: 100%|██████████| 20/20 [00:49<00:00,  2.46s/резюме]\u001b[0m\n"
          ]
        },
        {
          "output_type": "stream",
          "name": "stdout",
          "text": [
            "Группа 45 обработана!\n"
          ]
        },
        {
          "output_type": "stream",
          "name": "stderr",
          "text": [
            "\u001b[34mОбработка 46 группы резюме: 100%|██████████| 20/20 [00:50<00:00,  2.51s/резюме]\u001b[0m\n"
          ]
        },
        {
          "output_type": "stream",
          "name": "stdout",
          "text": [
            "Группа 46 обработана!\n"
          ]
        },
        {
          "output_type": "stream",
          "name": "stderr",
          "text": [
            "\u001b[34mОбработка 47 группы резюме: 100%|██████████| 20/20 [00:49<00:00,  2.47s/резюме]\u001b[0m\n"
          ]
        },
        {
          "output_type": "stream",
          "name": "stdout",
          "text": [
            "Группа 47 обработана!\n"
          ]
        },
        {
          "output_type": "stream",
          "name": "stderr",
          "text": [
            "\u001b[34mОбработка 48 группы резюме: 100%|██████████| 20/20 [00:51<00:00,  2.58s/резюме]\u001b[0m\n"
          ]
        },
        {
          "output_type": "stream",
          "name": "stdout",
          "text": [
            "Группа 48 обработана!\n"
          ]
        },
        {
          "output_type": "stream",
          "name": "stderr",
          "text": [
            "\u001b[34mОбработка 49 группы резюме: 100%|██████████| 20/20 [00:50<00:00,  2.51s/резюме]\u001b[0m\n"
          ]
        },
        {
          "output_type": "stream",
          "name": "stdout",
          "text": [
            "Группа 49 обработана!\n"
          ]
        },
        {
          "output_type": "stream",
          "name": "stderr",
          "text": [
            "\u001b[34mОбработка 50 группы резюме: 100%|██████████| 20/20 [00:51<00:00,  2.58s/резюме]\u001b[0m\n"
          ]
        },
        {
          "output_type": "stream",
          "name": "stdout",
          "text": [
            "Группа 50 обработана!\n"
          ]
        },
        {
          "output_type": "stream",
          "name": "stderr",
          "text": [
            "\u001b[34mОбработка 51 группы резюме: 100%|██████████| 20/20 [00:51<00:00,  2.56s/резюме]\u001b[0m\n"
          ]
        },
        {
          "output_type": "stream",
          "name": "stdout",
          "text": [
            "Группа 51 обработана!\n"
          ]
        },
        {
          "output_type": "stream",
          "name": "stderr",
          "text": [
            "\u001b[34mОбработка 52 группы резюме: 100%|██████████| 20/20 [00:54<00:00,  2.72s/резюме]\u001b[0m\n"
          ]
        },
        {
          "output_type": "stream",
          "name": "stdout",
          "text": [
            "Группа 52 обработана!\n"
          ]
        },
        {
          "output_type": "stream",
          "name": "stderr",
          "text": [
            "\u001b[34mОбработка 53 группы резюме: 100%|██████████| 20/20 [00:52<00:00,  2.60s/резюме]\u001b[0m\n"
          ]
        },
        {
          "output_type": "stream",
          "name": "stdout",
          "text": [
            "Группа 53 обработана!\n"
          ]
        },
        {
          "output_type": "stream",
          "name": "stderr",
          "text": [
            "\u001b[34mОбработка 54 группы резюме: 100%|██████████| 20/20 [00:52<00:00,  2.60s/резюме]\u001b[0m\n"
          ]
        },
        {
          "output_type": "stream",
          "name": "stdout",
          "text": [
            "Группа 54 обработана!\n"
          ]
        },
        {
          "output_type": "stream",
          "name": "stderr",
          "text": [
            "\u001b[34mОбработка 55 группы резюме: 100%|██████████| 20/20 [00:50<00:00,  2.50s/резюме]\u001b[0m\n"
          ]
        },
        {
          "output_type": "stream",
          "name": "stdout",
          "text": [
            "Группа 55 обработана!\n"
          ]
        },
        {
          "output_type": "stream",
          "name": "stderr",
          "text": [
            "\u001b[34mОбработка 56 группы резюме: 100%|██████████| 20/20 [00:48<00:00,  2.44s/резюме]\u001b[0m\n"
          ]
        },
        {
          "output_type": "stream",
          "name": "stdout",
          "text": [
            "Группа 56 обработана!\n"
          ]
        },
        {
          "output_type": "stream",
          "name": "stderr",
          "text": [
            "\u001b[34mОбработка 57 группы резюме: 100%|██████████| 20/20 [00:50<00:00,  2.50s/резюме]\u001b[0m\n"
          ]
        },
        {
          "output_type": "stream",
          "name": "stdout",
          "text": [
            "Группа 57 обработана!\n"
          ]
        },
        {
          "output_type": "stream",
          "name": "stderr",
          "text": [
            "\u001b[34mОбработка 58 группы резюме: 100%|██████████| 20/20 [00:47<00:00,  2.40s/резюме]\u001b[0m\n"
          ]
        },
        {
          "output_type": "stream",
          "name": "stdout",
          "text": [
            "Группа 58 обработана!\n"
          ]
        },
        {
          "output_type": "stream",
          "name": "stderr",
          "text": [
            "\u001b[34mОбработка 59 группы резюме: 100%|██████████| 20/20 [00:49<00:00,  2.49s/резюме]\u001b[0m\n"
          ]
        },
        {
          "output_type": "stream",
          "name": "stdout",
          "text": [
            "Группа 59 обработана!\n"
          ]
        },
        {
          "output_type": "stream",
          "name": "stderr",
          "text": [
            "\u001b[34mОбработка 60 группы резюме: 100%|██████████| 20/20 [00:50<00:00,  2.54s/резюме]\u001b[0m\n"
          ]
        },
        {
          "output_type": "stream",
          "name": "stdout",
          "text": [
            "Группа 60 обработана!\n"
          ]
        },
        {
          "output_type": "stream",
          "name": "stderr",
          "text": [
            "\u001b[34mОбработка 61 группы резюме: 100%|██████████| 20/20 [00:52<00:00,  2.61s/резюме]\u001b[0m\n"
          ]
        },
        {
          "output_type": "stream",
          "name": "stdout",
          "text": [
            "Группа 61 обработана!\n"
          ]
        },
        {
          "output_type": "stream",
          "name": "stderr",
          "text": [
            "\u001b[34mОбработка 62 группы резюме: 100%|██████████| 20/20 [00:52<00:00,  2.60s/резюме]\u001b[0m\n"
          ]
        },
        {
          "output_type": "stream",
          "name": "stdout",
          "text": [
            "Группа 62 обработана!\n"
          ]
        },
        {
          "output_type": "stream",
          "name": "stderr",
          "text": [
            "\u001b[34mОбработка 63 группы резюме: 100%|██████████| 20/20 [00:51<00:00,  2.56s/резюме]\u001b[0m\n"
          ]
        },
        {
          "output_type": "stream",
          "name": "stdout",
          "text": [
            "Группа 63 обработана!\n"
          ]
        },
        {
          "output_type": "stream",
          "name": "stderr",
          "text": [
            "\u001b[34mОбработка 64 группы резюме: 100%|██████████| 20/20 [00:49<00:00,  2.50s/резюме]\u001b[0m\n"
          ]
        },
        {
          "output_type": "stream",
          "name": "stdout",
          "text": [
            "Группа 64 обработана!\n"
          ]
        },
        {
          "output_type": "stream",
          "name": "stderr",
          "text": [
            "\u001b[34mОбработка 65 группы резюме: 100%|██████████| 20/20 [00:49<00:00,  2.49s/резюме]\u001b[0m\n"
          ]
        },
        {
          "output_type": "stream",
          "name": "stdout",
          "text": [
            "Группа 65 обработана!\n"
          ]
        },
        {
          "output_type": "stream",
          "name": "stderr",
          "text": [
            "\u001b[34mОбработка 66 группы резюме: 100%|██████████| 20/20 [00:52<00:00,  2.63s/резюме]\u001b[0m\n"
          ]
        },
        {
          "output_type": "stream",
          "name": "stdout",
          "text": [
            "Группа 66 обработана!\n"
          ]
        },
        {
          "output_type": "stream",
          "name": "stderr",
          "text": [
            "\u001b[34mОбработка 67 группы резюме: 100%|██████████| 20/20 [00:51<00:00,  2.58s/резюме]\u001b[0m\n"
          ]
        },
        {
          "output_type": "stream",
          "name": "stdout",
          "text": [
            "Группа 67 обработана!\n"
          ]
        },
        {
          "output_type": "stream",
          "name": "stderr",
          "text": [
            "\u001b[34mОбработка 68 группы резюме: 100%|██████████| 20/20 [00:53<00:00,  2.69s/резюме]\u001b[0m\n"
          ]
        },
        {
          "output_type": "stream",
          "name": "stdout",
          "text": [
            "Группа 68 обработана!\n"
          ]
        },
        {
          "output_type": "stream",
          "name": "stderr",
          "text": [
            "\u001b[34mОбработка 69 группы резюме: 100%|██████████| 20/20 [00:53<00:00,  2.68s/резюме]\u001b[0m\n"
          ]
        },
        {
          "output_type": "stream",
          "name": "stdout",
          "text": [
            "Группа 69 обработана!\n"
          ]
        },
        {
          "output_type": "stream",
          "name": "stderr",
          "text": [
            "\u001b[34mОбработка 70 группы резюме: 100%|██████████| 20/20 [00:51<00:00,  2.55s/резюме]\u001b[0m\n"
          ]
        },
        {
          "output_type": "stream",
          "name": "stdout",
          "text": [
            "Группа 70 обработана!\n"
          ]
        },
        {
          "output_type": "stream",
          "name": "stderr",
          "text": [
            "\u001b[34mОбработка 71 группы резюме: 100%|██████████| 20/20 [00:55<00:00,  2.76s/резюме]\u001b[0m\n"
          ]
        },
        {
          "output_type": "stream",
          "name": "stdout",
          "text": [
            "Группа 71 обработана!\n"
          ]
        },
        {
          "output_type": "stream",
          "name": "stderr",
          "text": [
            "\u001b[34mОбработка 72 группы резюме: 100%|██████████| 20/20 [00:52<00:00,  2.62s/резюме]\u001b[0m\n"
          ]
        },
        {
          "output_type": "stream",
          "name": "stdout",
          "text": [
            "Группа 72 обработана!\n"
          ]
        },
        {
          "output_type": "stream",
          "name": "stderr",
          "text": [
            "\u001b[34mОбработка 73 группы резюме: 100%|██████████| 20/20 [00:51<00:00,  2.57s/резюме]\u001b[0m\n"
          ]
        },
        {
          "output_type": "stream",
          "name": "stdout",
          "text": [
            "Группа 73 обработана!\n"
          ]
        },
        {
          "output_type": "stream",
          "name": "stderr",
          "text": [
            "\u001b[34mОбработка 74 группы резюме: 100%|██████████| 20/20 [00:50<00:00,  2.52s/резюме]\u001b[0m\n"
          ]
        },
        {
          "output_type": "stream",
          "name": "stdout",
          "text": [
            "Группа 74 обработана!\n"
          ]
        },
        {
          "output_type": "stream",
          "name": "stderr",
          "text": [
            "\u001b[34mОбработка 75 группы резюме: 100%|██████████| 20/20 [00:52<00:00,  2.63s/резюме]\u001b[0m\n"
          ]
        },
        {
          "output_type": "stream",
          "name": "stdout",
          "text": [
            "Группа 75 обработана!\n"
          ]
        },
        {
          "output_type": "stream",
          "name": "stderr",
          "text": [
            "\u001b[34mОбработка 76 группы резюме: 100%|██████████| 20/20 [00:52<00:00,  2.63s/резюме]\u001b[0m\n"
          ]
        },
        {
          "output_type": "stream",
          "name": "stdout",
          "text": [
            "Группа 76 обработана!\n"
          ]
        },
        {
          "output_type": "stream",
          "name": "stderr",
          "text": [
            "\u001b[34mОбработка 77 группы резюме: 100%|██████████| 20/20 [00:49<00:00,  2.49s/резюме]\u001b[0m\n"
          ]
        },
        {
          "output_type": "stream",
          "name": "stdout",
          "text": [
            "Группа 77 обработана!\n"
          ]
        },
        {
          "output_type": "stream",
          "name": "stderr",
          "text": [
            "\u001b[34mОбработка 78 группы резюме: 100%|██████████| 20/20 [00:50<00:00,  2.54s/резюме]\u001b[0m\n"
          ]
        },
        {
          "output_type": "stream",
          "name": "stdout",
          "text": [
            "Группа 78 обработана!\n"
          ]
        },
        {
          "output_type": "stream",
          "name": "stderr",
          "text": [
            "\u001b[34mОбработка 79 группы резюме: 100%|██████████| 20/20 [00:50<00:00,  2.51s/резюме]\u001b[0m\n"
          ]
        },
        {
          "output_type": "stream",
          "name": "stdout",
          "text": [
            "Группа 79 обработана!\n"
          ]
        },
        {
          "output_type": "stream",
          "name": "stderr",
          "text": [
            "\u001b[34mОбработка 80 группы резюме: 100%|██████████| 20/20 [00:47<00:00,  2.40s/резюме]\u001b[0m\n"
          ]
        },
        {
          "output_type": "stream",
          "name": "stdout",
          "text": [
            "Группа 80 обработана!\n"
          ]
        },
        {
          "output_type": "stream",
          "name": "stderr",
          "text": [
            "\u001b[34mОбработка 81 группы резюме: 100%|██████████| 20/20 [00:48<00:00,  2.43s/резюме]\u001b[0m\n"
          ]
        },
        {
          "output_type": "stream",
          "name": "stdout",
          "text": [
            "Группа 81 обработана!\n"
          ]
        },
        {
          "output_type": "stream",
          "name": "stderr",
          "text": [
            "\u001b[34mОбработка 82 группы резюме: 100%|██████████| 20/20 [00:52<00:00,  2.61s/резюме]\u001b[0m\n"
          ]
        },
        {
          "output_type": "stream",
          "name": "stdout",
          "text": [
            "Группа 82 обработана!\n"
          ]
        },
        {
          "output_type": "stream",
          "name": "stderr",
          "text": [
            "\u001b[34mОбработка 83 группы резюме: 100%|██████████| 20/20 [00:49<00:00,  2.47s/резюме]\u001b[0m\n"
          ]
        },
        {
          "output_type": "stream",
          "name": "stdout",
          "text": [
            "Группа 83 обработана!\n"
          ]
        },
        {
          "output_type": "stream",
          "name": "stderr",
          "text": [
            "\u001b[34mОбработка 84 группы резюме: 100%|██████████| 20/20 [00:50<00:00,  2.52s/резюме]\u001b[0m\n"
          ]
        },
        {
          "output_type": "stream",
          "name": "stdout",
          "text": [
            "Группа 84 обработана!\n"
          ]
        },
        {
          "output_type": "stream",
          "name": "stderr",
          "text": [
            "\u001b[34mОбработка 85 группы резюме: 100%|██████████| 20/20 [00:50<00:00,  2.51s/резюме]\u001b[0m\n"
          ]
        },
        {
          "output_type": "stream",
          "name": "stdout",
          "text": [
            "Группа 85 обработана!\n"
          ]
        },
        {
          "output_type": "stream",
          "name": "stderr",
          "text": [
            "\u001b[34mОбработка 86 группы резюме: 100%|██████████| 20/20 [00:49<00:00,  2.48s/резюме]\u001b[0m\n"
          ]
        },
        {
          "output_type": "stream",
          "name": "stdout",
          "text": [
            "Группа 86 обработана!\n"
          ]
        },
        {
          "output_type": "stream",
          "name": "stderr",
          "text": [
            "\u001b[34mОбработка 87 группы резюме: 100%|██████████| 20/20 [00:50<00:00,  2.51s/резюме]\u001b[0m\n"
          ]
        },
        {
          "output_type": "stream",
          "name": "stdout",
          "text": [
            "Группа 87 обработана!\n"
          ]
        },
        {
          "output_type": "stream",
          "name": "stderr",
          "text": [
            "\u001b[34mОбработка 88 группы резюме: 100%|██████████| 20/20 [00:50<00:00,  2.52s/резюме]\u001b[0m\n"
          ]
        },
        {
          "output_type": "stream",
          "name": "stdout",
          "text": [
            "Группа 88 обработана!\n"
          ]
        },
        {
          "output_type": "stream",
          "name": "stderr",
          "text": [
            "\u001b[34mОбработка 89 группы резюме: 100%|██████████| 20/20 [00:48<00:00,  2.41s/резюме]\u001b[0m\n"
          ]
        },
        {
          "output_type": "stream",
          "name": "stdout",
          "text": [
            "Группа 89 обработана!\n"
          ]
        },
        {
          "output_type": "stream",
          "name": "stderr",
          "text": [
            "\u001b[34mОбработка 90 группы резюме: 100%|██████████| 20/20 [00:49<00:00,  2.49s/резюме]\u001b[0m\n"
          ]
        },
        {
          "output_type": "stream",
          "name": "stdout",
          "text": [
            "Группа 90 обработана!\n"
          ]
        },
        {
          "output_type": "stream",
          "name": "stderr",
          "text": [
            "\u001b[34mОбработка 91 группы резюме: 100%|██████████| 20/20 [00:48<00:00,  2.41s/резюме]\u001b[0m\n"
          ]
        },
        {
          "output_type": "stream",
          "name": "stdout",
          "text": [
            "Группа 91 обработана!\n"
          ]
        },
        {
          "output_type": "stream",
          "name": "stderr",
          "text": [
            "\u001b[34mОбработка 92 группы резюме: 100%|██████████| 20/20 [00:49<00:00,  2.49s/резюме]\u001b[0m\n"
          ]
        },
        {
          "output_type": "stream",
          "name": "stdout",
          "text": [
            "Группа 92 обработана!\n"
          ]
        },
        {
          "output_type": "stream",
          "name": "stderr",
          "text": [
            "\u001b[34mОбработка 93 группы резюме: 100%|██████████| 20/20 [00:49<00:00,  2.46s/резюме]\u001b[0m\n"
          ]
        },
        {
          "output_type": "stream",
          "name": "stdout",
          "text": [
            "Группа 93 обработана!\n"
          ]
        },
        {
          "output_type": "stream",
          "name": "stderr",
          "text": [
            "\u001b[34mОбработка 94 группы резюме: 100%|██████████| 20/20 [00:52<00:00,  2.62s/резюме]\u001b[0m\n"
          ]
        },
        {
          "output_type": "stream",
          "name": "stdout",
          "text": [
            "Группа 94 обработана!\n"
          ]
        },
        {
          "output_type": "stream",
          "name": "stderr",
          "text": [
            "\u001b[34mОбработка 95 группы резюме: 100%|██████████| 20/20 [00:50<00:00,  2.53s/резюме]\u001b[0m\n"
          ]
        },
        {
          "output_type": "stream",
          "name": "stdout",
          "text": [
            "Группа 95 обработана!\n"
          ]
        },
        {
          "output_type": "stream",
          "name": "stderr",
          "text": [
            "\u001b[34mОбработка 96 группы резюме: 100%|██████████| 20/20 [00:54<00:00,  2.72s/резюме]\u001b[0m\n"
          ]
        },
        {
          "output_type": "stream",
          "name": "stdout",
          "text": [
            "Группа 96 обработана!\n"
          ]
        },
        {
          "output_type": "stream",
          "name": "stderr",
          "text": [
            "\u001b[34mОбработка 97 группы резюме: 100%|██████████| 20/20 [00:50<00:00,  2.54s/резюме]\u001b[0m\n"
          ]
        },
        {
          "output_type": "stream",
          "name": "stdout",
          "text": [
            "Группа 97 обработана!\n"
          ]
        },
        {
          "output_type": "stream",
          "name": "stderr",
          "text": [
            "\u001b[34mОбработка 98 группы резюме: 100%|██████████| 20/20 [00:53<00:00,  2.69s/резюме]\u001b[0m\n"
          ]
        },
        {
          "output_type": "stream",
          "name": "stdout",
          "text": [
            "Группа 98 обработана!\n"
          ]
        },
        {
          "output_type": "stream",
          "name": "stderr",
          "text": [
            "\u001b[34mОбработка 99 группы резюме: 100%|██████████| 20/20 [00:51<00:00,  2.57s/резюме]\u001b[0m\n"
          ]
        },
        {
          "output_type": "stream",
          "name": "stdout",
          "text": [
            "Группа 99 обработана!\n"
          ]
        },
        {
          "output_type": "stream",
          "name": "stderr",
          "text": [
            "\u001b[34mОбработка 100 группы резюме: 100%|██████████| 20/20 [00:52<00:00,  2.62s/резюме]\u001b[0m\n"
          ]
        },
        {
          "output_type": "stream",
          "name": "stdout",
          "text": [
            "Группа 100 обработана!\n"
          ]
        },
        {
          "output_type": "stream",
          "name": "stderr",
          "text": [
            "\u001b[34mОбработка 101 группы резюме: 100%|██████████| 20/20 [00:52<00:00,  2.63s/резюме]\u001b[0m\n"
          ]
        },
        {
          "output_type": "stream",
          "name": "stdout",
          "text": [
            "Группа 101 обработана!\n"
          ]
        },
        {
          "output_type": "stream",
          "name": "stderr",
          "text": [
            "\u001b[34mОбработка 102 группы резюме: 100%|██████████| 20/20 [00:51<00:00,  2.59s/резюме]\u001b[0m\n"
          ]
        },
        {
          "output_type": "stream",
          "name": "stdout",
          "text": [
            "Группа 102 обработана!\n"
          ]
        },
        {
          "output_type": "stream",
          "name": "stderr",
          "text": [
            "\u001b[34mОбработка 103 группы резюме: 100%|██████████| 20/20 [00:52<00:00,  2.63s/резюме]\u001b[0m\n"
          ]
        },
        {
          "output_type": "stream",
          "name": "stdout",
          "text": [
            "Группа 103 обработана!\n"
          ]
        },
        {
          "output_type": "stream",
          "name": "stderr",
          "text": [
            "\u001b[34mОбработка 104 группы резюме: 100%|██████████| 20/20 [00:52<00:00,  2.61s/резюме]\u001b[0m\n"
          ]
        },
        {
          "output_type": "stream",
          "name": "stdout",
          "text": [
            "Группа 104 обработана!\n"
          ]
        },
        {
          "output_type": "stream",
          "name": "stderr",
          "text": [
            "\u001b[34mОбработка 105 группы резюме: 100%|██████████| 20/20 [00:52<00:00,  2.64s/резюме]\u001b[0m\n"
          ]
        },
        {
          "output_type": "stream",
          "name": "stdout",
          "text": [
            "Группа 105 обработана!\n"
          ]
        },
        {
          "output_type": "stream",
          "name": "stderr",
          "text": [
            "\u001b[34mОбработка 106 группы резюме: 100%|██████████| 20/20 [00:52<00:00,  2.63s/резюме]\u001b[0m\n"
          ]
        },
        {
          "output_type": "stream",
          "name": "stdout",
          "text": [
            "Группа 106 обработана!\n"
          ]
        },
        {
          "output_type": "stream",
          "name": "stderr",
          "text": [
            "\u001b[34mОбработка 107 группы резюме: 100%|██████████| 20/20 [00:57<00:00,  2.85s/резюме]\u001b[0m\n"
          ]
        },
        {
          "output_type": "stream",
          "name": "stdout",
          "text": [
            "Группа 107 обработана!\n"
          ]
        },
        {
          "output_type": "stream",
          "name": "stderr",
          "text": [
            "\u001b[34mОбработка 108 группы резюме: 100%|██████████| 20/20 [00:52<00:00,  2.64s/резюме]\u001b[0m\n"
          ]
        },
        {
          "output_type": "stream",
          "name": "stdout",
          "text": [
            "Группа 108 обработана!\n"
          ]
        },
        {
          "output_type": "stream",
          "name": "stderr",
          "text": [
            "\u001b[34mОбработка 109 группы резюме: 100%|██████████| 20/20 [00:56<00:00,  2.84s/резюме]\u001b[0m\n"
          ]
        },
        {
          "output_type": "stream",
          "name": "stdout",
          "text": [
            "Группа 109 обработана!\n"
          ]
        },
        {
          "output_type": "stream",
          "name": "stderr",
          "text": [
            "\u001b[34mОбработка 110 группы резюме: 100%|██████████| 20/20 [00:55<00:00,  2.78s/резюме]\u001b[0m\n"
          ]
        },
        {
          "output_type": "stream",
          "name": "stdout",
          "text": [
            "Группа 110 обработана!\n"
          ]
        },
        {
          "output_type": "stream",
          "name": "stderr",
          "text": [
            "\u001b[34mОбработка 111 группы резюме: 100%|██████████| 20/20 [00:55<00:00,  2.77s/резюме]\u001b[0m\n"
          ]
        },
        {
          "output_type": "stream",
          "name": "stdout",
          "text": [
            "Группа 111 обработана!\n"
          ]
        },
        {
          "output_type": "stream",
          "name": "stderr",
          "text": [
            "\u001b[34mОбработка 112 группы резюме: 100%|██████████| 20/20 [00:54<00:00,  2.72s/резюме]\u001b[0m\n"
          ]
        },
        {
          "output_type": "stream",
          "name": "stdout",
          "text": [
            "Группа 112 обработана!\n"
          ]
        },
        {
          "output_type": "stream",
          "name": "stderr",
          "text": [
            "\u001b[34mОбработка 113 группы резюме: 100%|██████████| 20/20 [00:52<00:00,  2.62s/резюме]\u001b[0m\n"
          ]
        },
        {
          "output_type": "stream",
          "name": "stdout",
          "text": [
            "Группа 113 обработана!\n"
          ]
        },
        {
          "output_type": "stream",
          "name": "stderr",
          "text": [
            "\u001b[34mОбработка 114 группы резюме: 100%|██████████| 20/20 [00:54<00:00,  2.71s/резюме]\u001b[0m\n"
          ]
        },
        {
          "output_type": "stream",
          "name": "stdout",
          "text": [
            "Группа 114 обработана!\n"
          ]
        },
        {
          "output_type": "stream",
          "name": "stderr",
          "text": [
            "\u001b[34mОбработка 115 группы резюме: 100%|██████████| 20/20 [00:53<00:00,  2.69s/резюме]\u001b[0m\n"
          ]
        },
        {
          "output_type": "stream",
          "name": "stdout",
          "text": [
            "Группа 115 обработана!\n"
          ]
        },
        {
          "output_type": "stream",
          "name": "stderr",
          "text": [
            "\u001b[34mОбработка 116 группы резюме: 100%|██████████| 20/20 [00:56<00:00,  2.81s/резюме]\u001b[0m\n"
          ]
        },
        {
          "output_type": "stream",
          "name": "stdout",
          "text": [
            "Группа 116 обработана!\n"
          ]
        },
        {
          "output_type": "stream",
          "name": "stderr",
          "text": [
            "\u001b[34mОбработка 117 группы резюме: 100%|██████████| 20/20 [00:55<00:00,  2.79s/резюме]\u001b[0m\n"
          ]
        },
        {
          "output_type": "stream",
          "name": "stdout",
          "text": [
            "Группа 117 обработана!\n"
          ]
        },
        {
          "output_type": "stream",
          "name": "stderr",
          "text": [
            "\u001b[34mОбработка 118 группы резюме: 100%|██████████| 20/20 [00:53<00:00,  2.66s/резюме]\u001b[0m\n"
          ]
        },
        {
          "output_type": "stream",
          "name": "stdout",
          "text": [
            "Группа 118 обработана!\n"
          ]
        },
        {
          "output_type": "stream",
          "name": "stderr",
          "text": [
            "\u001b[34mОбработка 119 группы резюме: 100%|██████████| 20/20 [00:53<00:00,  2.66s/резюме]\u001b[0m\n"
          ]
        },
        {
          "output_type": "stream",
          "name": "stdout",
          "text": [
            "Группа 119 обработана!\n"
          ]
        },
        {
          "output_type": "stream",
          "name": "stderr",
          "text": [
            "\u001b[34mОбработка 120 группы резюме: 100%|██████████| 4/4 [00:11<00:00,  2.82s/резюме]\u001b[0m"
          ]
        },
        {
          "output_type": "stream",
          "name": "stdout",
          "text": [
            "Последняя группа (120) обработана!\n"
          ]
        },
        {
          "output_type": "stream",
          "name": "stderr",
          "text": [
            "\n"
          ]
        }
      ]
    },
    {
      "cell_type": "markdown",
      "source": [
        "### Смотрим, что получилось (функцию запустил на примере 60 ссылок)"
      ],
      "metadata": {
        "id": "MYLalSF4GC1z"
      }
    },
    {
      "cell_type": "code",
      "source": [],
      "metadata": {
        "id": "Z4XSYRjBNiMm"
      },
      "execution_count": null,
      "outputs": []
    },
    {
      "cell_type": "code",
      "source": [
        "# Прочитаем ссылки из файла csv и сохраним в переменную link_resume_from_csv\n",
        "with open('/content/drive/MyDrive/Practice2/parsinghh/link_resume_git.csv', 'r') as link_csv:\n",
        "  links = [row[0] for row in csv.reader(link_csv)]"
      ],
      "metadata": {
        "id": "6WFIZevVE17e"
      },
      "execution_count": 50,
      "outputs": []
    },
    {
      "cell_type": "code",
      "source": [
        "len (links)"
      ],
      "metadata": {
        "colab": {
          "base_uri": "https://localhost:8080/"
        },
        "id": "1-PkJRatE-8p",
        "outputId": "20af59b5-c3c8-4546-f79b-821b5d2139ac"
      },
      "execution_count": null,
      "outputs": [
        {
          "output_type": "execute_result",
          "data": {
            "text/plain": [
              "166"
            ]
          },
          "metadata": {},
          "execution_count": 35
        }
      ]
    },
    {
      "cell_type": "code",
      "source": [
        "# Извлекаем информацию из файла с парсингом резюме при помощи pandas\n",
        "data_exam = pd.read_csv('/content/drive/MyDrive/Practice2/parsinghh/result_resumes_git.csv')"
      ],
      "metadata": {
        "id": "cvSTC4EYFIjD"
      },
      "execution_count": 52,
      "outputs": []
    },
    {
      "cell_type": "code",
      "source": [
        "len(data_exam)"
      ],
      "metadata": {
        "colab": {
          "base_uri": "https://localhost:8080/"
        },
        "id": "VIWKqSK3Fi9t",
        "outputId": "5667758c-9e3f-4d9a-cd5b-763b17cc74e2"
      },
      "execution_count": null,
      "outputs": [
        {
          "output_type": "execute_result",
          "data": {
            "text/plain": [
              "166"
            ]
          },
          "metadata": {},
          "execution_count": 20
        }
      ]
    },
    {
      "cell_type": "code",
      "source": [
        "data_exam.head()"
      ],
      "metadata": {
        "colab": {
          "base_uri": "https://localhost:8080/",
          "height": 556
        },
        "id": "GVkfAkvJFRBG",
        "outputId": "895d9b21-45c5-48bd-c25c-ef3c01aac127"
      },
      "execution_count": 53,
      "outputs": [
        {
          "output_type": "execute_result",
          "data": {
            "text/plain": [
              "   id   gender      age    date_of_birth  \\\n",
              "0 NaN  Мужчина      NaN              NaN   \n",
              "1 NaN  Мужчина  32 года  20 октября 1991   \n",
              "2 NaN  Мужчина  33 года     20 июня 1990   \n",
              "3 NaN  Мужчина   30 лет  23 февраля 1994   \n",
              "4 NaN  Мужчина   28 лет      20 мая 1995   \n",
              "\n",
              "                                            about_me  \\\n",
              "0  - Обладаю аналитическим складом ума, способен ...   \n",
              "1  Быстро обучаюсь и адаптируюсь в новых условиях...   \n",
              "2  https://github.com/Vasiliy9000 Рабочие задачи ...   \n",
              "3                                                NaN   \n",
              "4  Мой Github: https://github.com/Maden51\\nМой Gi...   \n",
              "\n",
              "                                           education  \\\n",
              "0  ['Высшее образование2023Тольяттинский государс...   \n",
              "1  ['Высшее образование2024SkyproКурс «Web-разраб...   \n",
              "2  ['Высшее образование (Бакалавр)2020Центр профе...   \n",
              "3  ['Высшее образование2020Тюменский государствен...   \n",
              "4       ['Среднее образование2013Физ-мат лицей 145']   \n",
              "\n",
              "                                            language  \\\n",
              "0  ['Знание языковРусский — РоднойАнглийский — A1...   \n",
              "1  ['Знание языковРусский — РоднойАнглийский — B2...   \n",
              "2  ['Знание языковРусский — РоднойАнглийский — A2...   \n",
              "3                  ['Знание языковРусский — Родной']   \n",
              "4  ['Знание языковРусский — РоднойАнглийский — B2...   \n",
              "\n",
              "           job_search_status           place_of_residence  \\\n",
              "0        Активно ищет работу                    Геленджик   \n",
              "1        Активно ищет работу                       Калуга   \n",
              "2        Активно ищет работу          Москва, м. Свиблово   \n",
              "3  Рассматривает предложения                       Тюмень   \n",
              "4        Активно ищет работу  Казань, м. Суконная слобода   \n",
              "\n",
              "                         moving                 business_trip  \\\n",
              "0           не готов к переезду  готов к редким командировкам   \n",
              "1              готов к переезду         готов к командировкам   \n",
              "2              готов к переезду  готов к редким командировкам   \n",
              "3           не готов к переезду         готов к командировкам   \n",
              "4  готов к переезду (Иннополис)         готов к командировкам   \n",
              "\n",
              "                                                name            salary  \\\n",
              "0  Python-разработчик (Git, Flask, Django, API, D...               NaN   \n",
              "1  Web-разработчик (JavaScript, GIT, клиент-серве...               NaN   \n",
              "2  Программист Bitrix24, PHP, mysql, html, CSS, g...  150000 ₽ на руки   \n",
              "3                                Менеджер по продаже   60000 ₽ на руки   \n",
              "4                              Разработчик фронтэнда   50000 ₽ на руки   \n",
              "\n",
              "                             specialization_schedule  \\\n",
              "0  Специализации: Программист, разработчик Занято...   \n",
              "1  Специализации: Программист, разработчик Занято...   \n",
              "2  Специализации: Программист, разработчик Занято...   \n",
              "3  Специализации: Программист, разработчик Занято...   \n",
              "4  Специализации: Программист, разработчик Занято...   \n",
              "\n",
              "           experience_all_period  \\\n",
              "0     Опыт работы 1 год 3 месяца   \n",
              "1    Опыт работы 11 лет 3 месяца   \n",
              "2  Опыт работы 13 лет 11 месяцев   \n",
              "3    Опыт работы 5 лет 5 месяцев   \n",
              "4   Опыт работы 2 года 5 месяцев   \n",
              "\n",
              "                                          experience  \\\n",
              "0  ['Январь 2022 — Март 20231 год 3 месяца', 'Sky...   \n",
              "1  ['Апрель 2023 — Апрель 20241 год 1 месяц', 'Sk...   \n",
              "2  ['Май 2023 — Апрель 20241 год', 'Адвинаfull st...   \n",
              "3  ['Апрель 2018 — Август 20235 лет 5 месяцев', '...   \n",
              "4  ['Март 2022 — Февраль 20231 год', 'Индивидуаль...   \n",
              "\n",
              "                                                tags  link  \n",
              "0  ['Пользователь Linux', 'Sqlalchemy', 'SQLite',...   NaN  \n",
              "1  ['JavaScript', 'HTML', 'CSS', 'Git', 'React', ...   NaN  \n",
              "2  ['https://github.com/Vasiliy9000 Рабочие задач...   NaN  \n",
              "3                                  ['Python', 'Git']   NaN  \n",
              "4  ['Исполнительность', 'JavaScript', 'Английский...   NaN  "
            ],
            "text/html": [
              "\n",
              "  <div id=\"df-ecd32b9c-b22d-41f1-a633-7387f8600afd\" class=\"colab-df-container\">\n",
              "    <div>\n",
              "<style scoped>\n",
              "    .dataframe tbody tr th:only-of-type {\n",
              "        vertical-align: middle;\n",
              "    }\n",
              "\n",
              "    .dataframe tbody tr th {\n",
              "        vertical-align: top;\n",
              "    }\n",
              "\n",
              "    .dataframe thead th {\n",
              "        text-align: right;\n",
              "    }\n",
              "</style>\n",
              "<table border=\"1\" class=\"dataframe\">\n",
              "  <thead>\n",
              "    <tr style=\"text-align: right;\">\n",
              "      <th></th>\n",
              "      <th>id</th>\n",
              "      <th>gender</th>\n",
              "      <th>age</th>\n",
              "      <th>date_of_birth</th>\n",
              "      <th>about_me</th>\n",
              "      <th>education</th>\n",
              "      <th>language</th>\n",
              "      <th>job_search_status</th>\n",
              "      <th>place_of_residence</th>\n",
              "      <th>moving</th>\n",
              "      <th>business_trip</th>\n",
              "      <th>name</th>\n",
              "      <th>salary</th>\n",
              "      <th>specialization_schedule</th>\n",
              "      <th>experience_all_period</th>\n",
              "      <th>experience</th>\n",
              "      <th>tags</th>\n",
              "      <th>link</th>\n",
              "    </tr>\n",
              "  </thead>\n",
              "  <tbody>\n",
              "    <tr>\n",
              "      <th>0</th>\n",
              "      <td>NaN</td>\n",
              "      <td>Мужчина</td>\n",
              "      <td>NaN</td>\n",
              "      <td>NaN</td>\n",
              "      <td>- Обладаю аналитическим складом ума, способен ...</td>\n",
              "      <td>['Высшее образование2023Тольяттинский государс...</td>\n",
              "      <td>['Знание языковРусский — РоднойАнглийский — A1...</td>\n",
              "      <td>Активно ищет работу</td>\n",
              "      <td>Геленджик</td>\n",
              "      <td>не готов к переезду</td>\n",
              "      <td>готов к редким командировкам</td>\n",
              "      <td>Python-разработчик (Git, Flask, Django, API, D...</td>\n",
              "      <td>NaN</td>\n",
              "      <td>Специализации: Программист, разработчик Занято...</td>\n",
              "      <td>Опыт работы 1 год 3 месяца</td>\n",
              "      <td>['Январь 2022 — Март 20231 год 3 месяца', 'Sky...</td>\n",
              "      <td>['Пользователь Linux', 'Sqlalchemy', 'SQLite',...</td>\n",
              "      <td>NaN</td>\n",
              "    </tr>\n",
              "    <tr>\n",
              "      <th>1</th>\n",
              "      <td>NaN</td>\n",
              "      <td>Мужчина</td>\n",
              "      <td>32 года</td>\n",
              "      <td>20 октября 1991</td>\n",
              "      <td>Быстро обучаюсь и адаптируюсь в новых условиях...</td>\n",
              "      <td>['Высшее образование2024SkyproКурс «Web-разраб...</td>\n",
              "      <td>['Знание языковРусский — РоднойАнглийский — B2...</td>\n",
              "      <td>Активно ищет работу</td>\n",
              "      <td>Калуга</td>\n",
              "      <td>готов к переезду</td>\n",
              "      <td>готов к командировкам</td>\n",
              "      <td>Web-разработчик (JavaScript, GIT, клиент-серве...</td>\n",
              "      <td>NaN</td>\n",
              "      <td>Специализации: Программист, разработчик Занято...</td>\n",
              "      <td>Опыт работы 11 лет 3 месяца</td>\n",
              "      <td>['Апрель 2023 — Апрель 20241 год 1 месяц', 'Sk...</td>\n",
              "      <td>['JavaScript', 'HTML', 'CSS', 'Git', 'React', ...</td>\n",
              "      <td>NaN</td>\n",
              "    </tr>\n",
              "    <tr>\n",
              "      <th>2</th>\n",
              "      <td>NaN</td>\n",
              "      <td>Мужчина</td>\n",
              "      <td>33 года</td>\n",
              "      <td>20 июня 1990</td>\n",
              "      <td>https://github.com/Vasiliy9000 Рабочие задачи ...</td>\n",
              "      <td>['Высшее образование (Бакалавр)2020Центр профе...</td>\n",
              "      <td>['Знание языковРусский — РоднойАнглийский — A2...</td>\n",
              "      <td>Активно ищет работу</td>\n",
              "      <td>Москва, м. Свиблово</td>\n",
              "      <td>готов к переезду</td>\n",
              "      <td>готов к редким командировкам</td>\n",
              "      <td>Программист Bitrix24, PHP, mysql, html, CSS, g...</td>\n",
              "      <td>150000 ₽ на руки</td>\n",
              "      <td>Специализации: Программист, разработчик Занято...</td>\n",
              "      <td>Опыт работы 13 лет 11 месяцев</td>\n",
              "      <td>['Май 2023 — Апрель 20241 год', 'Адвинаfull st...</td>\n",
              "      <td>['https://github.com/Vasiliy9000 Рабочие задач...</td>\n",
              "      <td>NaN</td>\n",
              "    </tr>\n",
              "    <tr>\n",
              "      <th>3</th>\n",
              "      <td>NaN</td>\n",
              "      <td>Мужчина</td>\n",
              "      <td>30 лет</td>\n",
              "      <td>23 февраля 1994</td>\n",
              "      <td>NaN</td>\n",
              "      <td>['Высшее образование2020Тюменский государствен...</td>\n",
              "      <td>['Знание языковРусский — Родной']</td>\n",
              "      <td>Рассматривает предложения</td>\n",
              "      <td>Тюмень</td>\n",
              "      <td>не готов к переезду</td>\n",
              "      <td>готов к командировкам</td>\n",
              "      <td>Менеджер по продаже</td>\n",
              "      <td>60000 ₽ на руки</td>\n",
              "      <td>Специализации: Программист, разработчик Занято...</td>\n",
              "      <td>Опыт работы 5 лет 5 месяцев</td>\n",
              "      <td>['Апрель 2018 — Август 20235 лет 5 месяцев', '...</td>\n",
              "      <td>['Python', 'Git']</td>\n",
              "      <td>NaN</td>\n",
              "    </tr>\n",
              "    <tr>\n",
              "      <th>4</th>\n",
              "      <td>NaN</td>\n",
              "      <td>Мужчина</td>\n",
              "      <td>28 лет</td>\n",
              "      <td>20 мая 1995</td>\n",
              "      <td>Мой Github: https://github.com/Maden51\\nМой Gi...</td>\n",
              "      <td>['Среднее образование2013Физ-мат лицей 145']</td>\n",
              "      <td>['Знание языковРусский — РоднойАнглийский — B2...</td>\n",
              "      <td>Активно ищет работу</td>\n",
              "      <td>Казань, м. Суконная слобода</td>\n",
              "      <td>готов к переезду (Иннополис)</td>\n",
              "      <td>готов к командировкам</td>\n",
              "      <td>Разработчик фронтэнда</td>\n",
              "      <td>50000 ₽ на руки</td>\n",
              "      <td>Специализации: Программист, разработчик Занято...</td>\n",
              "      <td>Опыт работы 2 года 5 месяцев</td>\n",
              "      <td>['Март 2022 — Февраль 20231 год', 'Индивидуаль...</td>\n",
              "      <td>['Исполнительность', 'JavaScript', 'Английский...</td>\n",
              "      <td>NaN</td>\n",
              "    </tr>\n",
              "  </tbody>\n",
              "</table>\n",
              "</div>\n",
              "    <div class=\"colab-df-buttons\">\n",
              "\n",
              "  <div class=\"colab-df-container\">\n",
              "    <button class=\"colab-df-convert\" onclick=\"convertToInteractive('df-ecd32b9c-b22d-41f1-a633-7387f8600afd')\"\n",
              "            title=\"Convert this dataframe to an interactive table.\"\n",
              "            style=\"display:none;\">\n",
              "\n",
              "  <svg xmlns=\"http://www.w3.org/2000/svg\" height=\"24px\" viewBox=\"0 -960 960 960\">\n",
              "    <path d=\"M120-120v-720h720v720H120Zm60-500h600v-160H180v160Zm220 220h160v-160H400v160Zm0 220h160v-160H400v160ZM180-400h160v-160H180v160Zm440 0h160v-160H620v160ZM180-180h160v-160H180v160Zm440 0h160v-160H620v160Z\"/>\n",
              "  </svg>\n",
              "    </button>\n",
              "\n",
              "  <style>\n",
              "    .colab-df-container {\n",
              "      display:flex;\n",
              "      gap: 12px;\n",
              "    }\n",
              "\n",
              "    .colab-df-convert {\n",
              "      background-color: #E8F0FE;\n",
              "      border: none;\n",
              "      border-radius: 50%;\n",
              "      cursor: pointer;\n",
              "      display: none;\n",
              "      fill: #1967D2;\n",
              "      height: 32px;\n",
              "      padding: 0 0 0 0;\n",
              "      width: 32px;\n",
              "    }\n",
              "\n",
              "    .colab-df-convert:hover {\n",
              "      background-color: #E2EBFA;\n",
              "      box-shadow: 0px 1px 2px rgba(60, 64, 67, 0.3), 0px 1px 3px 1px rgba(60, 64, 67, 0.15);\n",
              "      fill: #174EA6;\n",
              "    }\n",
              "\n",
              "    .colab-df-buttons div {\n",
              "      margin-bottom: 4px;\n",
              "    }\n",
              "\n",
              "    [theme=dark] .colab-df-convert {\n",
              "      background-color: #3B4455;\n",
              "      fill: #D2E3FC;\n",
              "    }\n",
              "\n",
              "    [theme=dark] .colab-df-convert:hover {\n",
              "      background-color: #434B5C;\n",
              "      box-shadow: 0px 1px 3px 1px rgba(0, 0, 0, 0.15);\n",
              "      filter: drop-shadow(0px 1px 2px rgba(0, 0, 0, 0.3));\n",
              "      fill: #FFFFFF;\n",
              "    }\n",
              "  </style>\n",
              "\n",
              "    <script>\n",
              "      const buttonEl =\n",
              "        document.querySelector('#df-ecd32b9c-b22d-41f1-a633-7387f8600afd button.colab-df-convert');\n",
              "      buttonEl.style.display =\n",
              "        google.colab.kernel.accessAllowed ? 'block' : 'none';\n",
              "\n",
              "      async function convertToInteractive(key) {\n",
              "        const element = document.querySelector('#df-ecd32b9c-b22d-41f1-a633-7387f8600afd');\n",
              "        const dataTable =\n",
              "          await google.colab.kernel.invokeFunction('convertToInteractive',\n",
              "                                                    [key], {});\n",
              "        if (!dataTable) return;\n",
              "\n",
              "        const docLinkHtml = 'Like what you see? Visit the ' +\n",
              "          '<a target=\"_blank\" href=https://colab.research.google.com/notebooks/data_table.ipynb>data table notebook</a>'\n",
              "          + ' to learn more about interactive tables.';\n",
              "        element.innerHTML = '';\n",
              "        dataTable['output_type'] = 'display_data';\n",
              "        await google.colab.output.renderOutput(dataTable, element);\n",
              "        const docLink = document.createElement('div');\n",
              "        docLink.innerHTML = docLinkHtml;\n",
              "        element.appendChild(docLink);\n",
              "      }\n",
              "    </script>\n",
              "  </div>\n",
              "\n",
              "\n",
              "<div id=\"df-e959d59a-4ca4-48b9-8d66-5654f350f633\">\n",
              "  <button class=\"colab-df-quickchart\" onclick=\"quickchart('df-e959d59a-4ca4-48b9-8d66-5654f350f633')\"\n",
              "            title=\"Suggest charts\"\n",
              "            style=\"display:none;\">\n",
              "\n",
              "<svg xmlns=\"http://www.w3.org/2000/svg\" height=\"24px\"viewBox=\"0 0 24 24\"\n",
              "     width=\"24px\">\n",
              "    <g>\n",
              "        <path d=\"M19 3H5c-1.1 0-2 .9-2 2v14c0 1.1.9 2 2 2h14c1.1 0 2-.9 2-2V5c0-1.1-.9-2-2-2zM9 17H7v-7h2v7zm4 0h-2V7h2v10zm4 0h-2v-4h2v4z\"/>\n",
              "    </g>\n",
              "</svg>\n",
              "  </button>\n",
              "\n",
              "<style>\n",
              "  .colab-df-quickchart {\n",
              "      --bg-color: #E8F0FE;\n",
              "      --fill-color: #1967D2;\n",
              "      --hover-bg-color: #E2EBFA;\n",
              "      --hover-fill-color: #174EA6;\n",
              "      --disabled-fill-color: #AAA;\n",
              "      --disabled-bg-color: #DDD;\n",
              "  }\n",
              "\n",
              "  [theme=dark] .colab-df-quickchart {\n",
              "      --bg-color: #3B4455;\n",
              "      --fill-color: #D2E3FC;\n",
              "      --hover-bg-color: #434B5C;\n",
              "      --hover-fill-color: #FFFFFF;\n",
              "      --disabled-bg-color: #3B4455;\n",
              "      --disabled-fill-color: #666;\n",
              "  }\n",
              "\n",
              "  .colab-df-quickchart {\n",
              "    background-color: var(--bg-color);\n",
              "    border: none;\n",
              "    border-radius: 50%;\n",
              "    cursor: pointer;\n",
              "    display: none;\n",
              "    fill: var(--fill-color);\n",
              "    height: 32px;\n",
              "    padding: 0;\n",
              "    width: 32px;\n",
              "  }\n",
              "\n",
              "  .colab-df-quickchart:hover {\n",
              "    background-color: var(--hover-bg-color);\n",
              "    box-shadow: 0 1px 2px rgba(60, 64, 67, 0.3), 0 1px 3px 1px rgba(60, 64, 67, 0.15);\n",
              "    fill: var(--button-hover-fill-color);\n",
              "  }\n",
              "\n",
              "  .colab-df-quickchart-complete:disabled,\n",
              "  .colab-df-quickchart-complete:disabled:hover {\n",
              "    background-color: var(--disabled-bg-color);\n",
              "    fill: var(--disabled-fill-color);\n",
              "    box-shadow: none;\n",
              "  }\n",
              "\n",
              "  .colab-df-spinner {\n",
              "    border: 2px solid var(--fill-color);\n",
              "    border-color: transparent;\n",
              "    border-bottom-color: var(--fill-color);\n",
              "    animation:\n",
              "      spin 1s steps(1) infinite;\n",
              "  }\n",
              "\n",
              "  @keyframes spin {\n",
              "    0% {\n",
              "      border-color: transparent;\n",
              "      border-bottom-color: var(--fill-color);\n",
              "      border-left-color: var(--fill-color);\n",
              "    }\n",
              "    20% {\n",
              "      border-color: transparent;\n",
              "      border-left-color: var(--fill-color);\n",
              "      border-top-color: var(--fill-color);\n",
              "    }\n",
              "    30% {\n",
              "      border-color: transparent;\n",
              "      border-left-color: var(--fill-color);\n",
              "      border-top-color: var(--fill-color);\n",
              "      border-right-color: var(--fill-color);\n",
              "    }\n",
              "    40% {\n",
              "      border-color: transparent;\n",
              "      border-right-color: var(--fill-color);\n",
              "      border-top-color: var(--fill-color);\n",
              "    }\n",
              "    60% {\n",
              "      border-color: transparent;\n",
              "      border-right-color: var(--fill-color);\n",
              "    }\n",
              "    80% {\n",
              "      border-color: transparent;\n",
              "      border-right-color: var(--fill-color);\n",
              "      border-bottom-color: var(--fill-color);\n",
              "    }\n",
              "    90% {\n",
              "      border-color: transparent;\n",
              "      border-bottom-color: var(--fill-color);\n",
              "    }\n",
              "  }\n",
              "</style>\n",
              "\n",
              "  <script>\n",
              "    async function quickchart(key) {\n",
              "      const quickchartButtonEl =\n",
              "        document.querySelector('#' + key + ' button');\n",
              "      quickchartButtonEl.disabled = true;  // To prevent multiple clicks.\n",
              "      quickchartButtonEl.classList.add('colab-df-spinner');\n",
              "      try {\n",
              "        const charts = await google.colab.kernel.invokeFunction(\n",
              "            'suggestCharts', [key], {});\n",
              "      } catch (error) {\n",
              "        console.error('Error during call to suggestCharts:', error);\n",
              "      }\n",
              "      quickchartButtonEl.classList.remove('colab-df-spinner');\n",
              "      quickchartButtonEl.classList.add('colab-df-quickchart-complete');\n",
              "    }\n",
              "    (() => {\n",
              "      let quickchartButtonEl =\n",
              "        document.querySelector('#df-e959d59a-4ca4-48b9-8d66-5654f350f633 button');\n",
              "      quickchartButtonEl.style.display =\n",
              "        google.colab.kernel.accessAllowed ? 'block' : 'none';\n",
              "    })();\n",
              "  </script>\n",
              "</div>\n",
              "\n",
              "    </div>\n",
              "  </div>\n"
            ],
            "application/vnd.google.colaboratory.intrinsic+json": {
              "type": "dataframe",
              "variable_name": "data_exam",
              "summary": "{\n  \"name\": \"data_exam\",\n  \"rows\": 2438,\n  \"fields\": [\n    {\n      \"column\": \"id\",\n      \"properties\": {\n        \"dtype\": \"number\",\n        \"std\": null,\n        \"min\": null,\n        \"max\": null,\n        \"num_unique_values\": 0,\n        \"samples\": [],\n        \"semantic_type\": \"\",\n        \"description\": \"\"\n      }\n    },\n    {\n      \"column\": \"gender\",\n      \"properties\": {\n        \"dtype\": \"category\",\n        \"num_unique_values\": 4,\n        \"samples\": [],\n        \"semantic_type\": \"\",\n        \"description\": \"\"\n      }\n    },\n    {\n      \"column\": \"age\",\n      \"properties\": {\n        \"dtype\": \"category\",\n        \"num_unique_values\": 76,\n        \"samples\": [],\n        \"semantic_type\": \"\",\n        \"description\": \"\"\n      }\n    },\n    {\n      \"column\": \"date_of_birth\",\n      \"properties\": {\n        \"dtype\": \"string\",\n        \"num_unique_values\": 2027,\n        \"samples\": [],\n        \"semantic_type\": \"\",\n        \"description\": \"\"\n      }\n    },\n    {\n      \"column\": \"about_me\",\n      \"properties\": {\n        \"dtype\": \"string\",\n        \"num_unique_values\": 2239,\n        \"samples\": [],\n        \"semantic_type\": \"\",\n        \"description\": \"\"\n      }\n    },\n    {\n      \"column\": \"education\",\n      \"properties\": {\n        \"dtype\": \"string\",\n        \"num_unique_values\": 2366,\n        \"samples\": [],\n        \"semantic_type\": \"\",\n        \"description\": \"\"\n      }\n    },\n    {\n      \"column\": \"language\",\n      \"properties\": {\n        \"dtype\": \"category\",\n        \"num_unique_values\": 337,\n        \"samples\": [],\n        \"semantic_type\": \"\",\n        \"description\": \"\"\n      }\n    },\n    {\n      \"column\": \"job_search_status\",\n      \"properties\": {\n        \"dtype\": \"category\",\n        \"num_unique_values\": 9,\n        \"samples\": [],\n        \"semantic_type\": \"\",\n        \"description\": \"\"\n      }\n    },\n    {\n      \"column\": \"place_of_residence\",\n      \"properties\": {\n        \"dtype\": \"category\",\n        \"num_unique_values\": 543,\n        \"samples\": [],\n        \"semantic_type\": \"\",\n        \"description\": \"\"\n      }\n    },\n    {\n      \"column\": \"moving\",\n      \"properties\": {\n        \"dtype\": \"category\",\n        \"num_unique_values\": 254,\n        \"samples\": [],\n        \"semantic_type\": \"\",\n        \"description\": \"\"\n      }\n    },\n    {\n      \"column\": \"business_trip\",\n      \"properties\": {\n        \"dtype\": \"category\",\n        \"num_unique_values\": 9,\n        \"samples\": [],\n        \"semantic_type\": \"\",\n        \"description\": \"\"\n      }\n    },\n    {\n      \"column\": \"name\",\n      \"properties\": {\n        \"dtype\": \"string\",\n        \"num_unique_values\": 1397,\n        \"samples\": [],\n        \"semantic_type\": \"\",\n        \"description\": \"\"\n      }\n    },\n    {\n      \"column\": \"salary\",\n      \"properties\": {\n        \"dtype\": \"category\",\n        \"num_unique_values\": 136,\n        \"samples\": [],\n        \"semantic_type\": \"\",\n        \"description\": \"\"\n      }\n    },\n    {\n      \"column\": \"specialization_schedule\",\n      \"properties\": {\n        \"dtype\": \"category\",\n        \"num_unique_values\": 905,\n        \"samples\": [],\n        \"semantic_type\": \"\",\n        \"description\": \"\"\n      }\n    },\n    {\n      \"column\": \"experience_all_period\",\n      \"properties\": {\n        \"dtype\": \"category\",\n        \"num_unique_values\": 432,\n        \"samples\": [],\n        \"semantic_type\": \"\",\n        \"description\": \"\"\n      }\n    },\n    {\n      \"column\": \"experience\",\n      \"properties\": {\n        \"dtype\": \"string\",\n        \"num_unique_values\": 2367,\n        \"samples\": [],\n        \"semantic_type\": \"\",\n        \"description\": \"\"\n      }\n    },\n    {\n      \"column\": \"tags\",\n      \"properties\": {\n        \"dtype\": \"string\",\n        \"num_unique_values\": 2388,\n        \"samples\": [],\n        \"semantic_type\": \"\",\n        \"description\": \"\"\n      }\n    },\n    {\n      \"column\": \"link\",\n      \"properties\": {\n        \"dtype\": \"number\",\n        \"std\": null,\n        \"min\": null,\n        \"max\": null,\n        \"num_unique_values\": 0,\n        \"samples\": [],\n        \"semantic_type\": \"\",\n        \"description\": \"\"\n      }\n    }\n  ]\n}"
            }
          },
          "metadata": {},
          "execution_count": 53
        }
      ]
    },
    {
      "cell_type": "code",
      "source": [
        "\n",
        "\n",
        "directory_path = '/content/drive/MyDrive/Practice2/parsinghh'\n",
        "\n",
        "# Перебор файлов в директории\n",
        "for filename in os.listdir(directory_path):\n",
        "    if filename.startswith(\"result_\") and filename.endswith(\".csv\"):\n",
        "        file_path = os.path.join(directory_path, filename)\n",
        "\n",
        "        # Проверка, не пуст ли файл\n",
        "        if os.stat(file_path).st_size > 0:  # Проверяем размер файла\n",
        "            try:\n",
        "                df = pd.read_csv(file_path)\n",
        "                rows_count = len(df)\n",
        "                print(f\"Файл {filename} содержит {rows_count} строк.\")\n",
        "            except pd.errors.EmptyDataError:\n",
        "                print(f\"Файл {filename} пуст.\")\n",
        "        else:\n",
        "            print(f\"Файл {filename} пуст.\")\n",
        "# Перебор файлов в директории\n",
        "for filename in os.listdir(directory_path):\n",
        "    if filename.startswith(\"link_\") and filename.endswith(\".csv\"):\n",
        "        file_path = os.path.join(directory_path, filename)\n",
        "\n",
        "        # Проверка, не пуст ли файл\n",
        "        if os.stat(file_path).st_size > 0:  # Проверяем размер файла\n",
        "            try:\n",
        "                df = pd.read_csv(file_path)\n",
        "                rows_count = len(df)\n",
        "                print(f\"Файл {filename} содержит {rows_count} строк.\")\n",
        "            except pd.errors.EmptyDataError:\n",
        "                print(f\"Файл {filename} пуст.\")\n",
        "        else:\n",
        "            print(f\"Файл {filename} пуст.\")"
      ],
      "metadata": {
        "colab": {
          "base_uri": "https://localhost:8080/"
        },
        "id": "-elMm0u6W9KC",
        "outputId": "c97d6295-0df0-4598-b998-0b9a26fa2dd3"
      },
      "execution_count": 54,
      "outputs": [
        {
          "output_type": "stream",
          "name": "stdout",
          "text": [
            "Файл result_resumes_Kubernetes.csv содержит 230 строк.\n",
            "Файл result_resumes_Docker.csv содержит 233 строк.\n",
            "Файл result_resumes_AWS.csv содержит 166 строк.\n",
            "Файл result_resumes_SQL.csv содержит 780 строк.\n",
            "Файл result_resumes_python.csv содержит 465 строк.\n",
            "Файл result_resumes_linux.csv содержит 663 строк.\n",
            "Файл result_resumes_git.csv содержит 2438 строк.\n",
            "Файл result_resumes_C#.csv содержит 7982 строк.\n",
            "Файл result_resumes_frontend.csv содержит 1200 строк.\n",
            "Файл result_resumes_lastday.csv содержит 727 строк.\n",
            "Файл result_resumes_UI_Designer.csv содержит 2 строк.\n",
            "Файл result_resumes_.csv содержит 2550 строк.\n",
            "Файл result_resumes_figma.csv содержит 1338 строк.\n",
            "Файл link_resume_Kubernetes.csv содержит 232 строк.\n",
            "Файл link_resume_AWS.csv содержит 165 строк.\n",
            "Файл link_resume_SQL.csv содержит 4275 строк.\n",
            "Файл link_resume_python.csv содержит 4275 строк.\n",
            "Файл link_resume_linux.csv содержит 3132 строк.\n",
            "Файл link_resume_git.csv содержит 2438 строк.\n",
            "Файл link_resume_C#.csv содержит 3163 строк.\n",
            "Файл link_resume_UI_Designer.csv содержит 530 строк.\n",
            "Файл link_resume_frontend.csv содержит 1199 строк.\n",
            "Файл link_resume_lastday.csv содержит 1168 строк.\n",
            "Файл link_resume_.csv содержит 2383 строк.\n"
          ]
        }
      ]
    },
    {
      "cell_type": "code",
      "source": [
        "import pandas as pd\n",
        "import os\n",
        "\n",
        "directory_path = '/content/drive/MyDrive/Practice2/parsinghh'\n",
        "\n",
        "# Перебор файлов в директории\n",
        "for filename in os.listdir(directory_path):\n",
        "    if filename.startswith(\"result_\") and filename.endswith(\".csv\"):\n",
        "        file_path = os.path.join(directory_path, filename)\n",
        "\n",
        "        # Проверка, не пуст ли файл\n",
        "        if os.stat(file_path).st_size > 0:  # Проверяем размер файла\n",
        "            try:\n",
        "                df = pd.read_csv(file_path)\n",
        "                rows_count = len(df)\n",
        "                print(f\"Файл {filename} содержит {rows_count} строк.\")\n",
        "            except pd.errors.EmptyDataError:\n",
        "                print(f\"Файл {filename} пуст.\")\n",
        "        else:\n",
        "            print(f\"Файл {filename} пуст.\")\n",
        "# Перебор файлов в директории\n",
        "for filename in os.listdir(directory_path):\n",
        "    if filename.startswith(\"link_\") and filename.endswith(\".csv\"):\n",
        "        file_path = os.path.join(directory_path, filename)\n",
        "\n",
        "        # Проверка, не пуст ли файл\n",
        "        if os.stat(file_path).st_size > 0:  # Проверяем размер файла\n",
        "            try:\n",
        "                df = pd.read_csv(file_path)\n",
        "                rows_count = len(df)\n",
        "                print(f\"Файл {filename} содержит {rows_count} строк.\")\n",
        "            except pd.errors.EmptyDataError:\n",
        "                print(f\"Файл {filename} пуст.\")\n",
        "        else:\n",
        "            print(f\"Файл {filename} пуст.\")"
      ],
      "metadata": {
        "colab": {
          "base_uri": "https://localhost:8080/"
        },
        "id": "BfJFSCBrXBKi",
        "outputId": "12a0e9cf-c29b-42a4-afb7-5a5d3e0c01e8"
      },
      "execution_count": 55,
      "outputs": [
        {
          "output_type": "stream",
          "name": "stdout",
          "text": [
            "Файл result_resumes_Kubernetes.csv содержит 230 строк.\n",
            "Файл result_resumes_Docker.csv содержит 233 строк.\n",
            "Файл result_resumes_AWS.csv содержит 166 строк.\n",
            "Файл result_resumes_SQL.csv содержит 780 строк.\n",
            "Файл result_resumes_python.csv содержит 465 строк.\n",
            "Файл result_resumes_linux.csv содержит 663 строк.\n",
            "Файл result_resumes_git.csv содержит 2438 строк.\n",
            "Файл result_resumes_C#.csv содержит 7982 строк.\n",
            "Файл result_resumes_frontend.csv содержит 1200 строк.\n",
            "Файл result_resumes_lastday.csv содержит 727 строк.\n",
            "Файл result_resumes_UI_Designer.csv содержит 2 строк.\n",
            "Файл result_resumes_.csv содержит 2550 строк.\n",
            "Файл result_resumes_figma.csv содержит 1338 строк.\n",
            "Файл link_resume_Kubernetes.csv содержит 232 строк.\n",
            "Файл link_resume_AWS.csv содержит 165 строк.\n",
            "Файл link_resume_SQL.csv содержит 4275 строк.\n",
            "Файл link_resume_python.csv содержит 4275 строк.\n",
            "Файл link_resume_linux.csv содержит 3132 строк.\n",
            "Файл link_resume_git.csv содержит 2438 строк.\n",
            "Файл link_resume_C#.csv содержит 3163 строк.\n",
            "Файл link_resume_UI_Designer.csv содержит 530 строк.\n",
            "Файл link_resume_frontend.csv содержит 1199 строк.\n",
            "Файл link_resume_lastday.csv содержит 1168 строк.\n",
            "Файл link_resume_.csv содержит 2383 строк.\n"
          ]
        }
      ]
    },
    {
      "cell_type": "code",
      "source": [
        "import pandas as pd\n",
        "import os\n",
        "\n",
        "# Путь к директории с файлами\n",
        "directory_path = '/content/drive/MyDrive/Practice2/parsinghh'\n",
        "\n",
        "# Список для хранения данных из всех файлов\n",
        "all_data = []\n",
        "\n",
        "# Перебор файлов в директории\n",
        "for filename in os.listdir(directory_path):\n",
        "    if filename.startswith(\"result_\") and filename.endswith(\".csv\"):\n",
        "        file_path = os.path.join(directory_path, filename)\n",
        "        # Считывание файла в DataFrame\n",
        "        df = pd.read_csv(file_path)\n",
        "        # Добавление DataFrame в список\n",
        "        all_data.append(df)\n",
        "\n",
        "# Объединение всех DataFrame в один\n",
        "combined_df = pd.concat(all_data, ignore_index=True)\n",
        "\n",
        "# Подсчет строк до удаления дубликатов\n",
        "original_rows_count = len(combined_df)\n",
        "print(f\"Количество строк до удаления дубликатов: {original_rows_count}\")\n",
        "\n",
        "# Удаление дубликатов\n",
        "combined_df = combined_df.drop_duplicates()\n",
        "\n",
        "# Подсчет строк после удаления дубликатов\n",
        "final_rows_count = len(combined_df)\n",
        "print(f\"Количество строк после удаления дубликатов: {final_rows_count}\")\n",
        "\n",
        "# Сохранение итогового DataFrame в новый CSV файл\n",
        "output_file_path = os.path.join(directory_path, 'combined_result.csv')\n",
        "combined_df.to_csv(output_file_path, index=False)\n"
      ],
      "metadata": {
        "colab": {
          "base_uri": "https://localhost:8080/"
        },
        "id": "tWQ5sPge6Fps",
        "outputId": "902845bc-121b-4efe-e981-31242bf6a933"
      },
      "execution_count": 56,
      "outputs": [
        {
          "output_type": "stream",
          "name": "stdout",
          "text": [
            "Количество строк до удаления дубликатов: 18774\n",
            "Количество строк после удаления дубликатов: 10766\n"
          ]
        }
      ]
    }
  ]
}