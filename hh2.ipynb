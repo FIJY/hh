{
  "nbformat": 4,
  "nbformat_minor": 0,
  "metadata": {
    "colab": {
      "provenance": [],
      "authorship_tag": "ABX9TyPTlwHz21431zpm0rrttlyG",
      "include_colab_link": true
    },
    "kernelspec": {
      "name": "python3",
      "display_name": "Python 3"
    },
    "language_info": {
      "name": "python"
    }
  },
  "cells": [
    {
      "cell_type": "markdown",
      "metadata": {
        "id": "view-in-github",
        "colab_type": "text"
      },
      "source": [
        "<a href=\"https://colab.research.google.com/github/FIJY/hh/blob/master/hh2.ipynb\" target=\"_parent\"><img src=\"https://colab.research.google.com/assets/colab-badge.svg\" alt=\"Open In Colab\"/></a>"
      ]
    },
    {
      "cell_type": "code",
      "execution_count": 1,
      "metadata": {
        "colab": {
          "base_uri": "https://localhost:8080/"
        },
        "id": "bFo8eimuVRuH",
        "outputId": "885b1021-6ced-4558-b996-0fa182ca843a"
      },
      "outputs": [
        {
          "output_type": "stream",
          "name": "stdout",
          "text": [
            "Requirement already satisfied: requests in /usr/local/lib/python3.10/dist-packages (2.31.0)\n",
            "Collecting bs4\n",
            "  Downloading bs4-0.0.2-py2.py3-none-any.whl (1.2 kB)\n",
            "Requirement already satisfied: lxml in /usr/local/lib/python3.10/dist-packages (4.9.4)\n",
            "Collecting fake_useragent\n",
            "  Downloading fake_useragent-1.5.1-py3-none-any.whl (17 kB)\n",
            "Requirement already satisfied: pandas in /usr/local/lib/python3.10/dist-packages (2.0.3)\n",
            "Requirement already satisfied: charset-normalizer<4,>=2 in /usr/local/lib/python3.10/dist-packages (from requests) (3.3.2)\n",
            "Requirement already satisfied: idna<4,>=2.5 in /usr/local/lib/python3.10/dist-packages (from requests) (3.7)\n",
            "Requirement already satisfied: urllib3<3,>=1.21.1 in /usr/local/lib/python3.10/dist-packages (from requests) (2.0.7)\n",
            "Requirement already satisfied: certifi>=2017.4.17 in /usr/local/lib/python3.10/dist-packages (from requests) (2024.2.2)\n",
            "Requirement already satisfied: beautifulsoup4 in /usr/local/lib/python3.10/dist-packages (from bs4) (4.12.3)\n",
            "Requirement already satisfied: python-dateutil>=2.8.2 in /usr/local/lib/python3.10/dist-packages (from pandas) (2.8.2)\n",
            "Requirement already satisfied: pytz>=2020.1 in /usr/local/lib/python3.10/dist-packages (from pandas) (2023.4)\n",
            "Requirement already satisfied: tzdata>=2022.1 in /usr/local/lib/python3.10/dist-packages (from pandas) (2024.1)\n",
            "Requirement already satisfied: numpy>=1.21.0 in /usr/local/lib/python3.10/dist-packages (from pandas) (1.25.2)\n",
            "Requirement already satisfied: six>=1.5 in /usr/local/lib/python3.10/dist-packages (from python-dateutil>=2.8.2->pandas) (1.16.0)\n",
            "Requirement already satisfied: soupsieve>1.2 in /usr/local/lib/python3.10/dist-packages (from beautifulsoup4->bs4) (2.5)\n",
            "Installing collected packages: fake_useragent, bs4\n",
            "Successfully installed bs4-0.0.2 fake_useragent-1.5.1\n"
          ]
        }
      ],
      "source": [
        "!pip install requests bs4 lxml fake_useragent pandas\n"
      ]
    },
    {
      "cell_type": "code",
      "source": [
        "import requests\n",
        "from bs4 import BeautifulSoup\n",
        "from fake_useragent import UserAgent\n",
        "import pandas as pd\n",
        "import time\n"
      ],
      "metadata": {
        "id": "TMfuNQN4VS8Q"
      },
      "execution_count": 2,
      "outputs": []
    },
    {
      "cell_type": "code",
      "source": [
        "# Мы создаем сессию requests, которая позволит нам использовать один и тот же заголовок User-Agent для всех запросов. Это также улучшит производительность, поскольку сессия может переиспользовать соединения.\n",
        "\n",
        "session = requests.Session()\n",
        "ua = UserAgent()\n",
        "session.headers['User-Agent'] = ua.random\n"
      ],
      "metadata": {
        "id": "M_9FPACdVZHM"
      },
      "execution_count": 3,
      "outputs": []
    },
    {
      "cell_type": "code",
      "source": [
        "import requests\n",
        "from bs4 import BeautifulSoup\n",
        "import re\n",
        "import csv\n",
        "from fake_useragent import UserAgent\n",
        "\n",
        "session = requests.Session()\n",
        "ua = UserAgent()\n",
        "session.headers['User-Agent'] = ua.random\n",
        "\n",
        "def get_links(industry_code, age_from, age_to):\n",
        "    base_url = \"https://hh.ru/search/resume\"\n",
        "    params = {\n",
        "        #\"exp_period\": \"all_time\",\n",
        "        \"filter_exp_industry\": industry_code,\n",
        "        \"logic\": \"normal\",\n",
        "        \"no_magic\": \"true\",\n",
        "        \"order_by\": \"publication_time\",\n",
        "        \"ored_clusters\": \"true\",\n",
        "        #\"pos\": \"full_text\",\n",
        "        \"search_period\": \"30\",\n",
        "        \"items_on_page\": \"50\",\n",
        "        #\"filter_exp_period\": \"all_time\",\n",
        "        \"relocation\": \"living_or_relocation\",\n",
        "        \"gender\": \"unknown\",\n",
        "        \"text\": \"\",\n",
        "        \"label\": \"only_with_age\",\n",
        "        \"age_from\": str(age_from),\n",
        "        \"age_to\": str(age_to) if age_to is not None else \"\"\n",
        "    }\n",
        "\n",
        "    query_url = f\"{base_url}?{'&'.join(f'{k}={v}' for k, v in params.items() if v is not None)}\"\n",
        "    response = session.get(query_url)\n",
        "    soup = BeautifulSoup(response.content, 'lxml')\n",
        "    header = soup.find('h1', {'data-qa': 'bloko-header-3'})\n",
        "\n",
        "    if header:\n",
        "        total_resumes = header.get_text()\n",
        "        total_resumes = int(re.search(r'\\d+', total_resumes.replace('\\xa0', '')).group(0))\n",
        "    else:\n",
        "        total_resumes = 0  # Assume no resumes found if header is missing\n",
        "\n",
        "    return total_resumes, query_url\n",
        "\n",
        "industry_code = \"7.540\"\n",
        "age_ranges_results = []\n",
        "age_from = 0\n",
        "max_resumes = 4999\n",
        "\n",
        "while age_from < 100:\n",
        "    age_to = age_from\n",
        "    total_resumes = 0\n",
        "\n",
        "    # Expand age range until resumes exceed the maximum limit or the age range covers the remaining ages\n",
        "    while total_resumes <= max_resumes and age_to < 100:\n",
        "        age_to += 1\n",
        "        total_resumes, query_url = get_links(industry_code, age_from, age_to)\n",
        "        if total_resumes > max_resumes:\n",
        "            age_to -= 1  # Step back to the last valid group\n",
        "            total_resumes, query_url = get_links(industry_code, age_from, age_to)\n",
        "            break\n",
        "\n",
        "    # Append the results\n",
        "    age_ranges_results.append((age_from, age_to, total_resumes, query_url))\n",
        "    print(f\"Возрастная группа {age_from}-{age_to}: {total_resumes} резюме найдено. Проверить: {query_url}\")\n",
        "    age_from = age_to + 1  # Move to the next start age beyond the current range\n",
        "\n",
        "# Write the results to a CSV file\n",
        "with open('age_group_links.csv', 'w', newline='', encoding='utf-8') as file:\n",
        "    writer = csv.writer(file)\n",
        "    writer.writerow(['Age From', 'Age To', 'Total Resumes', 'URL'])\n",
        "    for age_from, age_to, total_resumes, url in age_ranges_results:\n",
        "        writer.writerow([age_from, age_to, total_resumes, url])\n",
        "\n",
        "print(\"Ссылки и данные сохранены в файл 'age_group_links2.csv'\")\n",
        "\n"
      ],
      "metadata": {
        "colab": {
          "base_uri": "https://localhost:8080/"
        },
        "id": "eb2f-6TjWzB8",
        "outputId": "d1d26dda-79bc-4e9e-a1a9-0c098a09afb7"
      },
      "execution_count": null,
      "outputs": [
        {
          "output_type": "stream",
          "name": "stdout",
          "text": [
            "Возрастная группа 0-19: 2616 резюме найдено. Проверить: https://hh.ru/search/resume?filter_exp_industry=7.540&logic=normal&no_magic=true&order_by=publication_time&ored_clusters=true&search_period=30&items_on_page=50&relocation=living_or_relocation&gender=unknown&text=&label=only_with_age&age_from=0&age_to=19\n",
            "Возрастная группа 20-20: 2730 резюме найдено. Проверить: https://hh.ru/search/resume?filter_exp_industry=7.540&logic=normal&no_magic=true&order_by=publication_time&ored_clusters=true&search_period=30&items_on_page=50&relocation=living_or_relocation&gender=unknown&text=&label=only_with_age&age_from=20&age_to=20\n",
            "Возрастная группа 21-21: 4156 резюме найдено. Проверить: https://hh.ru/search/resume?filter_exp_industry=7.540&logic=normal&no_magic=true&order_by=publication_time&ored_clusters=true&search_period=30&items_on_page=50&relocation=living_or_relocation&gender=unknown&text=&label=only_with_age&age_from=21&age_to=21\n",
            "Возрастная группа 22-22: 5251 резюме найдено. Проверить: https://hh.ru/search/resume?filter_exp_industry=7.540&logic=normal&no_magic=true&order_by=publication_time&ored_clusters=true&search_period=30&items_on_page=50&relocation=living_or_relocation&gender=unknown&text=&label=only_with_age&age_from=22&age_to=22\n",
            "Возрастная группа 23-23: 6120 резюме найдено. Проверить: https://hh.ru/search/resume?filter_exp_industry=7.540&logic=normal&no_magic=true&order_by=publication_time&ored_clusters=true&search_period=30&items_on_page=50&relocation=living_or_relocation&gender=unknown&text=&label=only_with_age&age_from=23&age_to=23\n",
            "Возрастная группа 24-24: 6253 резюме найдено. Проверить: https://hh.ru/search/resume?filter_exp_industry=7.540&logic=normal&no_magic=true&order_by=publication_time&ored_clusters=true&search_period=30&items_on_page=50&relocation=living_or_relocation&gender=unknown&text=&label=only_with_age&age_from=24&age_to=24\n",
            "Возрастная группа 25-25: 6881 резюме найдено. Проверить: https://hh.ru/search/resume?filter_exp_industry=7.540&logic=normal&no_magic=true&order_by=publication_time&ored_clusters=true&search_period=30&items_on_page=50&relocation=living_or_relocation&gender=unknown&text=&label=only_with_age&age_from=25&age_to=25\n",
            "Возрастная группа 26-26: 6891 резюме найдено. Проверить: https://hh.ru/search/resume?filter_exp_industry=7.540&logic=normal&no_magic=true&order_by=publication_time&ored_clusters=true&search_period=30&items_on_page=50&relocation=living_or_relocation&gender=unknown&text=&label=only_with_age&age_from=26&age_to=26\n",
            "Возрастная группа 27-27: 7090 резюме найдено. Проверить: https://hh.ru/search/resume?filter_exp_industry=7.540&logic=normal&no_magic=true&order_by=publication_time&ored_clusters=true&search_period=30&items_on_page=50&relocation=living_or_relocation&gender=unknown&text=&label=only_with_age&age_from=27&age_to=27\n",
            "Возрастная группа 28-28: 7056 резюме найдено. Проверить: https://hh.ru/search/resume?filter_exp_industry=7.540&logic=normal&no_magic=true&order_by=publication_time&ored_clusters=true&search_period=30&items_on_page=50&relocation=living_or_relocation&gender=unknown&text=&label=only_with_age&age_from=28&age_to=28\n",
            "Возрастная группа 29-29: 6991 резюме найдено. Проверить: https://hh.ru/search/resume?filter_exp_industry=7.540&logic=normal&no_magic=true&order_by=publication_time&ored_clusters=true&search_period=30&items_on_page=50&relocation=living_or_relocation&gender=unknown&text=&label=only_with_age&age_from=29&age_to=29\n",
            "Возрастная группа 30-30: 6740 резюме найдено. Проверить: https://hh.ru/search/resume?filter_exp_industry=7.540&logic=normal&no_magic=true&order_by=publication_time&ored_clusters=true&search_period=30&items_on_page=50&relocation=living_or_relocation&gender=unknown&text=&label=only_with_age&age_from=30&age_to=30\n",
            "Возрастная группа 31-31: 6754 резюме найдено. Проверить: https://hh.ru/search/resume?filter_exp_industry=7.540&logic=normal&no_magic=true&order_by=publication_time&ored_clusters=true&search_period=30&items_on_page=50&relocation=living_or_relocation&gender=unknown&text=&label=only_with_age&age_from=31&age_to=31\n",
            "Возрастная группа 32-32: 7061 резюме найдено. Проверить: https://hh.ru/search/resume?filter_exp_industry=7.540&logic=normal&no_magic=true&order_by=publication_time&ored_clusters=true&search_period=30&items_on_page=50&relocation=living_or_relocation&gender=unknown&text=&label=only_with_age&age_from=32&age_to=32\n",
            "Возрастная группа 33-33: 6889 резюме найдено. Проверить: https://hh.ru/search/resume?filter_exp_industry=7.540&logic=normal&no_magic=true&order_by=publication_time&ored_clusters=true&search_period=30&items_on_page=50&relocation=living_or_relocation&gender=unknown&text=&label=only_with_age&age_from=33&age_to=33\n",
            "Возрастная группа 34-34: 7005 резюме найдено. Проверить: https://hh.ru/search/resume?filter_exp_industry=7.540&logic=normal&no_magic=true&order_by=publication_time&ored_clusters=true&search_period=30&items_on_page=50&relocation=living_or_relocation&gender=unknown&text=&label=only_with_age&age_from=34&age_to=34\n",
            "Возрастная группа 35-35: 6668 резюме найдено. Проверить: https://hh.ru/search/resume?filter_exp_industry=7.540&logic=normal&no_magic=true&order_by=publication_time&ored_clusters=true&search_period=30&items_on_page=50&relocation=living_or_relocation&gender=unknown&text=&label=only_with_age&age_from=35&age_to=35\n",
            "Возрастная группа 36-36: 6105 резюме найдено. Проверить: https://hh.ru/search/resume?filter_exp_industry=7.540&logic=normal&no_magic=true&order_by=publication_time&ored_clusters=true&search_period=30&items_on_page=50&relocation=living_or_relocation&gender=unknown&text=&label=only_with_age&age_from=36&age_to=36\n",
            "Возрастная группа 37-37: 5773 резюме найдено. Проверить: https://hh.ru/search/resume?filter_exp_industry=7.540&logic=normal&no_magic=true&order_by=publication_time&ored_clusters=true&search_period=30&items_on_page=50&relocation=living_or_relocation&gender=unknown&text=&label=only_with_age&age_from=37&age_to=37\n",
            "Возрастная группа 38-38: 4867 резюме найдено. Проверить: https://hh.ru/search/resume?filter_exp_industry=7.540&logic=normal&no_magic=true&order_by=publication_time&ored_clusters=true&search_period=30&items_on_page=50&relocation=living_or_relocation&gender=unknown&text=&label=only_with_age&age_from=38&age_to=38\n",
            "Возрастная группа 39-39: 4774 резюме найдено. Проверить: https://hh.ru/search/resume?filter_exp_industry=7.540&logic=normal&no_magic=true&order_by=publication_time&ored_clusters=true&search_period=30&items_on_page=50&relocation=living_or_relocation&gender=unknown&text=&label=only_with_age&age_from=39&age_to=39\n",
            "Возрастная группа 40-40: 4146 резюме найдено. Проверить: https://hh.ru/search/resume?filter_exp_industry=7.540&logic=normal&no_magic=true&order_by=publication_time&ored_clusters=true&search_period=30&items_on_page=50&relocation=living_or_relocation&gender=unknown&text=&label=only_with_age&age_from=40&age_to=40\n",
            "Возрастная группа 41-41: 3662 резюме найдено. Проверить: https://hh.ru/search/resume?filter_exp_industry=7.540&logic=normal&no_magic=true&order_by=publication_time&ored_clusters=true&search_period=30&items_on_page=50&relocation=living_or_relocation&gender=unknown&text=&label=only_with_age&age_from=41&age_to=41\n",
            "Возрастная группа 42-42: 3257 резюме найдено. Проверить: https://hh.ru/search/resume?filter_exp_industry=7.540&logic=normal&no_magic=true&order_by=publication_time&ored_clusters=true&search_period=30&items_on_page=50&relocation=living_or_relocation&gender=unknown&text=&label=only_with_age&age_from=42&age_to=42\n",
            "Возрастная группа 43-43: 3084 резюме найдено. Проверить: https://hh.ru/search/resume?filter_exp_industry=7.540&logic=normal&no_magic=true&order_by=publication_time&ored_clusters=true&search_period=30&items_on_page=50&relocation=living_or_relocation&gender=unknown&text=&label=only_with_age&age_from=43&age_to=43\n",
            "Возрастная группа 44-44: 2609 резюме найдено. Проверить: https://hh.ru/search/resume?filter_exp_industry=7.540&logic=normal&no_magic=true&order_by=publication_time&ored_clusters=true&search_period=30&items_on_page=50&relocation=living_or_relocation&gender=unknown&text=&label=only_with_age&age_from=44&age_to=44\n",
            "Возрастная группа 45-46: 4476 резюме найдено. Проверить: https://hh.ru/search/resume?filter_exp_industry=7.540&logic=normal&no_magic=true&order_by=publication_time&ored_clusters=true&search_period=30&items_on_page=50&relocation=living_or_relocation&gender=unknown&text=&label=only_with_age&age_from=45&age_to=46\n",
            "Возрастная группа 47-49: 4665 резюме найдено. Проверить: https://hh.ru/search/resume?filter_exp_industry=7.540&logic=normal&no_magic=true&order_by=publication_time&ored_clusters=true&search_period=30&items_on_page=50&relocation=living_or_relocation&gender=unknown&text=&label=only_with_age&age_from=47&age_to=49\n",
            "Возрастная группа 50-54: 4721 резюме найдено. Проверить: https://hh.ru/search/resume?filter_exp_industry=7.540&logic=normal&no_magic=true&order_by=publication_time&ored_clusters=true&search_period=30&items_on_page=50&relocation=living_or_relocation&gender=unknown&text=&label=only_with_age&age_from=50&age_to=54\n"
          ]
        }
      ]
    },
    {
      "cell_type": "code",
      "source": [
        "import requests\n",
        "from bs4 import BeautifulSoup\n",
        "import fake_useragent\n",
        "import time\n",
        "\n",
        "def parse_resumes(base_url):\n",
        "    ua = fake_useragent.UserAgent()\n",
        "    headers = {\"User-Agent\": ua.random}\n",
        "\n",
        "    # Получаем количество страниц для обхода\n",
        "    response = requests.get(f\"{base_url}&page=1\", headers=headers)\n",
        "    if response.status_code != 200:\n",
        "        print(f\"Ошибка доступа к странице: {response.status_code}\")\n",
        "        return\n",
        "\n",
        "    soup = BeautifulSoup(response.content, 'lxml')\n",
        "    try:\n",
        "        page_count = int(soup.find(\"div\", attrs={\"class\":\"pager\"}).find_all(\"span\", recursive=False)[-1].find(\"a\").find(\"span\").text)\n",
        "    except Exception as e:\n",
        "        print(f\"Ошибка при получении количества страниц: {e}\")\n",
        "        page_count = 1  # Если не удалось определить количество, пробуем хотя бы одну страницу\n",
        "\n",
        "    # Обход каждой страницы для парсинга данных\n",
        "    for page in range(1, page_count + 1):\n",
        "        response = requests.get(f\"{base_url}&page={page}\", headers=headers)\n",
        "        if response.status_code != 200:\n",
        "            print(f\"Ошибка при доступе к странице {page}: {response.status_code}\")\n",
        "            continue\n",
        "\n",
        "        soup = BeautifulSoup(response.content, 'lxml')\n",
        "        links = [f\"https://hh.ru{a.attrs['href'].split('?')[0]}\" for a in soup.find_all(\"a\", attrs={\"data-qa\": \"serp-item__title\"})]\n",
        "        print(f\"Ссылки на странице {page}:\")\n",
        "        for link in links:\n",
        "            print(link)\n",
        "        time.sleep(1)  # Задержка между запросами для избежания блокировки\n",
        "\n",
        "# Пример использования\n",
        "base_url = input(\"Введите базовую ссылку для парсинга резюме: \")\n",
        "parse_resumes(base_url)\n"
      ],
      "metadata": {
        "colab": {
          "base_uri": "https://localhost:8080/"
        },
        "id": "cMWwMyKzoSdP",
        "outputId": "a90bf3b0-c823-4e6a-fe1a-49da3c325c9b"
      },
      "execution_count": 5,
      "outputs": [
        {
          "output_type": "stream",
          "name": "stdout",
          "text": [
            "Введите базовую ссылку для парсинга резюме: https://hh.ru/search/resume?exp_period=all_time&filter_exp_industry=7.540&logic=normal&no_magic=true&order_by=publication_time&ored_clusters=true&pos=full_text&search_period=30&items_on_page=50&filter_exp_period=all_time&relocation=living_or_relocation&gender=unknown&text=&label=only_with_age&age_from=0&age_to=19\n",
            "Ошибка при получении количества страниц: 'NoneType' object has no attribute 'find_all'\n",
            "Ссылки на странице 1:\n"
          ]
        }
      ]
    },
    {
      "cell_type": "markdown",
      "source": [
        "\n",
        "    # Собираем базовую информацию\n",
        "    resume = {\n",
        "        \"gender\": get_detailed_info(soup, \"resume-personal-gender\"),\n",
        "        \"age\": get_detailed_info(soup, \"resume-personal-age\"),\n",
        "        \"city\": get_detailed_info(soup, \"resume-personal-address\"),\n",
        "        \"desired_salary\": get_detailed_info(soup, \"resume-block__salary\"),\n",
        "        \"relocation\": get_detailed_info(soup, \"resume-personal-relocation\"),\n",
        "        \"specializations\": get_detailed_info(soup, \"resume-block-specialization\", \"class\"),\n",
        "        \"employment\": get_detailed_info(soup, \"resume-block-employment\", \"data-qa\"),\n",
        "        \"work_schedule\": get_detailed_info(soup, \"resume-block-schedule\", \"data-qa\"),\n",
        "        \"experience\": get_detailed_info(soup, \"resume-block-experience\"),\n",
        "        \"key_skills\": [tag.text for tag in soup.find_all(attrs={\"class\": \"bloko-tag__section_text\"})],\n",
        "        \"about_me\": get_detailed_info(soup, \"resume-block-skills-content\"),\n",
        "        \"languages\": get_detailed_info(soup, \"resume-block-languages\"),\n",
        "        \"citizenship\": get_detailed_info(soup, \"resume-personal-citizenship\"),\n",
        "        \"education\": get_detailed_info(soup, \"resume-block-education-content\"),\n",
        "        \"link\": link\n",
        "    }"
      ],
      "metadata": {
        "id": "48J2tvQBtImk"
      }
    },
    {
      "cell_type": "code",
      "source": [
        "import requests\n",
        "from bs4 import BeautifulSoup\n",
        "import fake_useragent\n",
        "import random\n",
        "import time\n",
        "\n",
        "def parse_resumes(base_url, login, password, filename):\n",
        "    session = requests.Session()\n",
        "    ua = fake_useragent.UserAgent()\n",
        "    session.headers.update({\"User-Agent\": ua.random})\n",
        "\n",
        "    login_url = \"https://hh.ru/account/login\"\n",
        "    login_data = {'username': login, 'password': password}\n",
        "    session.post(login_url, data=login_data)\n",
        "\n",
        "    with open(filename, 'w') as file:\n",
        "        response = session.get(f\"{base_url}&page=1\")\n",
        "        if response.status_code != 200:\n",
        "            print(f\"Ошибка доступа к странице: {response.status_code}\")\n",
        "            return\n",
        "\n",
        "        soup = BeautifulSoup(response.content, 'lxml')\n",
        "        try:\n",
        "            page_count = int(soup.find(\"div\", attrs={\"class\": \"pager\"}).find_all(\"span\", recursive=False)[-1].find(\"a\").find(\"span\").text)\n",
        "        except Exception as e:\n",
        "            print(f\"Не удалось определить количество страниц, используем одну страницу для парсинга. Ошибка: {e}\")\n",
        "            page_count = 1\n",
        "\n",
        "        for page in range(1, page_count + 1):\n",
        "            response = session.get(f\"{base_url}&page={page}\")\n",
        "            if response.status_code != 200:\n",
        "                print(f\"Ошибка при доступе к странице {page}: {response.status_code}\")\n",
        "                continue\n",
        "\n",
        "            soup = BeautifulSoup(response.content, 'lxml')\n",
        "            links = [f\"https://hh.ru{a.attrs['href'].split('?')[0]}\" for a in soup.find_all(\"a\", attrs={\"data-qa\": \"serp-item__title\"})]\n",
        "            print(f\"Обрабатывается страница {page}, найдено {len(links)} ссылок\")\n",
        "            for link in links:\n",
        "                file.write(link + '\\n')\n",
        "            time.sleep(random.uniform(3, 8))  # Рандомная задержка между запросами\n",
        "\n",
        "        print(f\"Ссылки были сохранены в файл {filename}\")\n",
        "\n",
        "# Используйте значения по умолчанию для упрощения вызова функции\n",
        "login = \"sivilio@sivilio.by\"\n",
        "password = \"Sivilio4UII\"\n",
        "base_url = \"https://hh.ru/search/resume?exp_period=all_time&filter_exp_industry=7.540&logic=normal&no_magic=true&order_by=publication_time&ored_clusters=true&pos=full_text&search_period=30&items_on_page=50&filter_exp_period=all_time&relocation=living_or_relocation&gender=unknown&text=&label=only_with_age&age_from=0&age_to=19\"\n",
        "filename = \"/content/it_age_0_19_v3\"\n",
        "\n",
        "parse_resumes(base_url, login, password, filename)\n"
      ],
      "metadata": {
        "colab": {
          "base_uri": "https://localhost:8080/",
          "height": 376
        },
        "id": "5UlMixyh2kKg",
        "outputId": "eaf7e5ad-9412-4b63-c985-e58e560e5e82"
      },
      "execution_count": 20,
      "outputs": [
        {
          "output_type": "stream",
          "name": "stdout",
          "text": [
            "Обрабатывается страница 1, найдено 20 ссылок\n",
            "Обрабатывается страница 2, найдено 20 ссылок\n"
          ]
        },
        {
          "output_type": "error",
          "ename": "KeyboardInterrupt",
          "evalue": "",
          "traceback": [
            "\u001b[0;31m---------------------------------------------------------------------------\u001b[0m",
            "\u001b[0;31mKeyboardInterrupt\u001b[0m                         Traceback (most recent call last)",
            "\u001b[0;32m<ipython-input-20-9c904eab3161>\u001b[0m in \u001b[0;36m<cell line: 50>\u001b[0;34m()\u001b[0m\n\u001b[1;32m     48\u001b[0m \u001b[0mfilename\u001b[0m \u001b[0;34m=\u001b[0m \u001b[0;34m\"/content/it_age_0_19_v3\"\u001b[0m\u001b[0;34m\u001b[0m\u001b[0;34m\u001b[0m\u001b[0m\n\u001b[1;32m     49\u001b[0m \u001b[0;34m\u001b[0m\u001b[0m\n\u001b[0;32m---> 50\u001b[0;31m \u001b[0mparse_resumes\u001b[0m\u001b[0;34m(\u001b[0m\u001b[0mbase_url\u001b[0m\u001b[0;34m,\u001b[0m \u001b[0mlogin\u001b[0m\u001b[0;34m,\u001b[0m \u001b[0mpassword\u001b[0m\u001b[0;34m,\u001b[0m \u001b[0mfilename\u001b[0m\u001b[0;34m)\u001b[0m\u001b[0;34m\u001b[0m\u001b[0;34m\u001b[0m\u001b[0m\n\u001b[0m",
            "\u001b[0;32m<ipython-input-20-9c904eab3161>\u001b[0m in \u001b[0;36mparse_resumes\u001b[0;34m(base_url, login, password, filename)\u001b[0m\n\u001b[1;32m     38\u001b[0m             \u001b[0;32mfor\u001b[0m \u001b[0mlink\u001b[0m \u001b[0;32min\u001b[0m \u001b[0mlinks\u001b[0m\u001b[0;34m:\u001b[0m\u001b[0;34m\u001b[0m\u001b[0;34m\u001b[0m\u001b[0m\n\u001b[1;32m     39\u001b[0m                 \u001b[0mfile\u001b[0m\u001b[0;34m.\u001b[0m\u001b[0mwrite\u001b[0m\u001b[0;34m(\u001b[0m\u001b[0mlink\u001b[0m \u001b[0;34m+\u001b[0m \u001b[0;34m'\\n'\u001b[0m\u001b[0;34m)\u001b[0m\u001b[0;34m\u001b[0m\u001b[0;34m\u001b[0m\u001b[0m\n\u001b[0;32m---> 40\u001b[0;31m             \u001b[0mtime\u001b[0m\u001b[0;34m.\u001b[0m\u001b[0msleep\u001b[0m\u001b[0;34m(\u001b[0m\u001b[0mrandom\u001b[0m\u001b[0;34m.\u001b[0m\u001b[0muniform\u001b[0m\u001b[0;34m(\u001b[0m\u001b[0;36m3\u001b[0m\u001b[0;34m,\u001b[0m \u001b[0;36m8\u001b[0m\u001b[0;34m)\u001b[0m\u001b[0;34m)\u001b[0m  \u001b[0;31m# Рандомная задержка между запросами\u001b[0m\u001b[0;34m\u001b[0m\u001b[0;34m\u001b[0m\u001b[0m\n\u001b[0m\u001b[1;32m     41\u001b[0m \u001b[0;34m\u001b[0m\u001b[0m\n\u001b[1;32m     42\u001b[0m         \u001b[0mprint\u001b[0m\u001b[0;34m(\u001b[0m\u001b[0;34mf\"Ссылки были сохранены в файл {filename}\"\u001b[0m\u001b[0;34m)\u001b[0m\u001b[0;34m\u001b[0m\u001b[0;34m\u001b[0m\u001b[0m\n",
            "\u001b[0;31mKeyboardInterrupt\u001b[0m: "
          ]
        }
      ]
    },
    {
      "cell_type": "code",
      "source": [
        "import requests\n",
        "from bs4 import BeautifulSoup\n",
        "import fake_useragent\n",
        "import random\n",
        "import time\n",
        "\n",
        "def parse_resumes(base_url, login, password, filename):\n",
        "    session = requests.Session()\n",
        "    ua = fake_useragent.UserAgent()\n",
        "    session.headers.update({\"User-Agent\": ua.random})\n",
        "\n",
        "    login_url = \"https://hh.ru/account/login\"\n",
        "    login_data = {'username': login, 'password': password}\n",
        "    session.post(login_url, data=login_data)\n",
        "\n",
        "    with open(filename, 'w') as file:\n",
        "        response = session.get(f\"{base_url}&page=1\")\n",
        "        if response.status_code != 200:\n",
        "            print(f\"Ошибка доступа к странице: {response.status_code}\")\n",
        "            return\n",
        "\n",
        "        soup = BeautifulSoup(response.content, 'lxml')\n",
        "        # Логирование для диагностики\n",
        "        with open(\"debug.html\", \"w\") as debug_file:\n",
        "            debug_file.write(response.text)\n",
        "\n",
        "        try:\n",
        "            page_count = int(soup.find(\"div\", attrs={\"class\": \"pager\"}).find_all(\"span\", recursive=False)[-1].find(\"a\").find(\"span\").text)\n",
        "        except Exception as e:\n",
        "            print(f\"Не удалось определить количество страниц, используем одну страницу для парсинга. Ошибка: {e}\")\n",
        "            page_count = 1\n",
        "\n",
        "        for page in range(1, page_count + 1):\n",
        "            response = session.get(f\"{base_url}&page={page}\")\n",
        "            soup = BeautifulSoup(response.content, 'lxml')\n",
        "            links = [f\"https://hh.ru{a.attrs['href'].split('?')[0]}\" for a in soup.find_all(\"a\", attrs={\"data-qa\": \"serp-item__title\"})]\n",
        "            print(f\"Обрабатывается страница {page}, найдено {len(links)} ссылок\")\n",
        "            for link in links:\n",
        "                file.write(link + '\\n')\n",
        "            time.sleep(random.uniform(1, 5))  # Рандомная задержка между запросами\n",
        "\n",
        "        print(f\"Ссылки были сохранены в файл {filename}\")\n",
        "\n",
        "login = \"sivilio@sivilio.by\"\n",
        "password = \"Sivilio4UII\"\n",
        "base_url = \"https://hh.ru/search/resume?exp_period=all_time&filter_exp_industry=7.540&logic=normal&no_magic=true&order_by=publication_time&ored_clusters=true&pos=full_text&search_period=30&items_on_page=20&filter_exp_period=all_time&relocation=living_or_relocation&gender=unknown&text=&label=only_with_age&age_from=0&age_to=19\"\n",
        "filename = \"/content/it_age_0_19_v4\"\n",
        "\n",
        "parse_resumes(base_url, login, password, filename)\n"
      ],
      "metadata": {
        "colab": {
          "base_uri": "https://localhost:8080/"
        },
        "id": "8a50wtA9Dp20",
        "outputId": "0bff9626-0527-4c95-c9ad-71269ce927b4"
      },
      "execution_count": 22,
      "outputs": [
        {
          "output_type": "stream",
          "name": "stdout",
          "text": [
            "Обрабатывается страница 1, найдено 19 ссылок\n",
            "Обрабатывается страница 2, найдено 20 ссылок\n",
            "Обрабатывается страница 3, найдено 20 ссылок\n",
            "Обрабатывается страница 4, найдено 20 ссылок\n",
            "Обрабатывается страница 5, найдено 20 ссылок\n",
            "Обрабатывается страница 6, найдено 20 ссылок\n",
            "Обрабатывается страница 7, найдено 20 ссылок\n",
            "Обрабатывается страница 8, найдено 20 ссылок\n",
            "Обрабатывается страница 9, найдено 20 ссылок\n",
            "Обрабатывается страница 10, найдено 20 ссылок\n",
            "Обрабатывается страница 11, найдено 20 ссылок\n",
            "Обрабатывается страница 12, найдено 20 ссылок\n",
            "Обрабатывается страница 13, найдено 20 ссылок\n",
            "Обрабатывается страница 14, найдено 20 ссылок\n",
            "Обрабатывается страница 15, найдено 20 ссылок\n",
            "Обрабатывается страница 16, найдено 20 ссылок\n",
            "Обрабатывается страница 17, найдено 20 ссылок\n",
            "Обрабатывается страница 18, найдено 20 ссылок\n",
            "Обрабатывается страница 19, найдено 20 ссылок\n",
            "Обрабатывается страница 20, найдено 20 ссылок\n",
            "Обрабатывается страница 21, найдено 20 ссылок\n",
            "Обрабатывается страница 22, найдено 20 ссылок\n",
            "Обрабатывается страница 23, найдено 20 ссылок\n",
            "Обрабатывается страница 24, найдено 20 ссылок\n",
            "Обрабатывается страница 25, найдено 20 ссылок\n",
            "Обрабатывается страница 26, найдено 20 ссылок\n",
            "Обрабатывается страница 27, найдено 20 ссылок\n",
            "Обрабатывается страница 28, найдено 20 ссылок\n",
            "Обрабатывается страница 29, найдено 20 ссылок\n",
            "Обрабатывается страница 30, найдено 20 ссылок\n",
            "Обрабатывается страница 31, найдено 20 ссылок\n",
            "Обрабатывается страница 32, найдено 20 ссылок\n",
            "Обрабатывается страница 33, найдено 20 ссылок\n",
            "Обрабатывается страница 34, найдено 20 ссылок\n",
            "Обрабатывается страница 35, найдено 20 ссылок\n",
            "Обрабатывается страница 36, найдено 20 ссылок\n",
            "Обрабатывается страница 37, найдено 20 ссылок\n",
            "Обрабатывается страница 38, найдено 20 ссылок\n",
            "Обрабатывается страница 39, найдено 20 ссылок\n",
            "Обрабатывается страница 40, найдено 20 ссылок\n",
            "Обрабатывается страница 41, найдено 20 ссылок\n",
            "Обрабатывается страница 42, найдено 20 ссылок\n",
            "Обрабатывается страница 43, найдено 20 ссылок\n",
            "Обрабатывается страница 44, найдено 20 ссылок\n",
            "Обрабатывается страница 45, найдено 20 ссылок\n",
            "Обрабатывается страница 46, найдено 20 ссылок\n",
            "Обрабатывается страница 47, найдено 20 ссылок\n",
            "Обрабатывается страница 48, найдено 20 ссылок\n",
            "Обрабатывается страница 49, найдено 20 ссылок\n",
            "Обрабатывается страница 50, найдено 20 ссылок\n",
            "Обрабатывается страница 51, найдено 20 ссылок\n",
            "Обрабатывается страница 52, найдено 20 ссылок\n",
            "Обрабатывается страница 53, найдено 20 ссылок\n",
            "Обрабатывается страница 54, найдено 20 ссылок\n",
            "Обрабатывается страница 55, найдено 20 ссылок\n",
            "Обрабатывается страница 56, найдено 20 ссылок\n",
            "Обрабатывается страница 57, найдено 20 ссылок\n",
            "Обрабатывается страница 58, найдено 20 ссылок\n",
            "Обрабатывается страница 59, найдено 20 ссылок\n",
            "Обрабатывается страница 60, найдено 20 ссылок\n",
            "Обрабатывается страница 61, найдено 20 ссылок\n",
            "Обрабатывается страница 62, найдено 20 ссылок\n",
            "Обрабатывается страница 63, найдено 20 ссылок\n",
            "Обрабатывается страница 64, найдено 20 ссылок\n",
            "Обрабатывается страница 65, найдено 20 ссылок\n",
            "Обрабатывается страница 66, найдено 20 ссылок\n",
            "Обрабатывается страница 67, найдено 20 ссылок\n",
            "Обрабатывается страница 68, найдено 20 ссылок\n",
            "Обрабатывается страница 69, найдено 20 ссылок\n",
            "Обрабатывается страница 70, найдено 20 ссылок\n",
            "Обрабатывается страница 71, найдено 20 ссылок\n",
            "Обрабатывается страница 72, найдено 20 ссылок\n",
            "Обрабатывается страница 73, найдено 20 ссылок\n",
            "Обрабатывается страница 74, найдено 20 ссылок\n",
            "Обрабатывается страница 75, найдено 20 ссылок\n",
            "Обрабатывается страница 76, найдено 20 ссылок\n",
            "Обрабатывается страница 77, найдено 20 ссылок\n",
            "Обрабатывается страница 78, найдено 20 ссылок\n",
            "Обрабатывается страница 79, найдено 20 ссылок\n",
            "Обрабатывается страница 80, найдено 20 ссылок\n",
            "Обрабатывается страница 81, найдено 20 ссылок\n",
            "Обрабатывается страница 82, найдено 20 ссылок\n",
            "Обрабатывается страница 83, найдено 20 ссылок\n",
            "Обрабатывается страница 84, найдено 20 ссылок\n",
            "Обрабатывается страница 85, найдено 20 ссылок\n",
            "Обрабатывается страница 86, найдено 20 ссылок\n",
            "Обрабатывается страница 87, найдено 20 ссылок\n",
            "Обрабатывается страница 88, найдено 20 ссылок\n",
            "Обрабатывается страница 89, найдено 20 ссылок\n",
            "Обрабатывается страница 90, найдено 20 ссылок\n",
            "Обрабатывается страница 91, найдено 20 ссылок\n",
            "Обрабатывается страница 92, найдено 20 ссылок\n",
            "Обрабатывается страница 93, найдено 20 ссылок\n",
            "Обрабатывается страница 94, найдено 20 ссылок\n",
            "Обрабатывается страница 95, найдено 20 ссылок\n",
            "Обрабатывается страница 96, найдено 0 ссылок\n",
            "Обрабатывается страница 97, найдено 20 ссылок\n",
            "Обрабатывается страница 98, найдено 20 ссылок\n",
            "Обрабатывается страница 99, найдено 20 ссылок\n",
            "Обрабатывается страница 100, найдено 20 ссылок\n",
            "Обрабатывается страница 101, найдено 20 ссылок\n",
            "Обрабатывается страница 102, найдено 20 ссылок\n",
            "Обрабатывается страница 103, найдено 20 ссылок\n",
            "Обрабатывается страница 104, найдено 20 ссылок\n",
            "Обрабатывается страница 105, найдено 20 ссылок\n",
            "Обрабатывается страница 106, найдено 20 ссылок\n",
            "Обрабатывается страница 107, найдено 20 ссылок\n",
            "Обрабатывается страница 108, найдено 20 ссылок\n",
            "Обрабатывается страница 109, найдено 4 ссылок\n",
            "Обрабатывается страница 110, найдено 0 ссылок\n",
            "Ссылки были сохранены в файл /content/it_age_0_19_v4\n"
          ]
        }
      ]
    },
    {
      "cell_type": "code",
      "source": [
        "def count_lines(filename):\n",
        "    with open(filename, 'r') as file:\n",
        "        return sum(1 for line in file)\n",
        "\n",
        "filename = \"/content/it_age_0_19_v4\"\n",
        "print(f\"Количество строк в файле: {count_lines(filename)}\")\n"
      ],
      "metadata": {
        "colab": {
          "base_uri": "https://localhost:8080/"
        },
        "id": "ex-D4cVa5g8n",
        "outputId": "772d76e3-9f67-4395-dd3c-3e1010a86c2e"
      },
      "execution_count": 23,
      "outputs": [
        {
          "output_type": "stream",
          "name": "stdout",
          "text": [
            "Количество строк в файле: 2143\n"
          ]
        }
      ]
    }
  ]
}