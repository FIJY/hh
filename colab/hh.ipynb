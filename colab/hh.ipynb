{
  "nbformat": 4,
  "nbformat_minor": 0,
  "metadata": {
    "colab": {
      "provenance": [],
      "include_colab_link": true
    },
    "kernelspec": {
      "name": "python3",
      "display_name": "Python 3"
    },
    "language_info": {
      "name": "python"
    }
  },
  "cells": [
    {
      "cell_type": "markdown",
      "metadata": {
        "id": "view-in-github",
        "colab_type": "text"
      },
      "source": [
        "<a href=\"https://colab.research.google.com/github/FIJY/hh/blob/master/colab/hh.ipynb\" target=\"_parent\"><img src=\"https://colab.research.google.com/assets/colab-badge.svg\" alt=\"Open In Colab\"/></a>"
      ]
    },
    {
      "cell_type": "markdown",
      "source": [
        "Парсинг с сайта hh <br>\n",
        "Ссылка на видео парсинга hh https://yandex.ru/video/preview/11468178118806870731"
      ],
      "metadata": {
        "id": "WGrBVg9vACoL"
      }
    },
    {
      "cell_type": "code",
      "execution_count": 1,
      "metadata": {
        "colab": {
          "base_uri": "https://localhost:8080/"
        },
        "id": "JUiF1qq59ISY",
        "outputId": "14ba1dca-6557-407a-91d1-a886eb230bd3"
      },
      "outputs": [
        {
          "output_type": "stream",
          "name": "stdout",
          "text": [
            "Requirement already satisfied: requests in /usr/local/lib/python3.10/dist-packages (2.31.0)\n",
            "Requirement already satisfied: charset-normalizer<4,>=2 in /usr/local/lib/python3.10/dist-packages (from requests) (3.3.2)\n",
            "Requirement already satisfied: idna<4,>=2.5 in /usr/local/lib/python3.10/dist-packages (from requests) (3.7)\n",
            "Requirement already satisfied: urllib3<3,>=1.21.1 in /usr/local/lib/python3.10/dist-packages (from requests) (2.0.7)\n",
            "Requirement already satisfied: certifi>=2017.4.17 in /usr/local/lib/python3.10/dist-packages (from requests) (2024.2.2)\n",
            "Collecting bs4\n",
            "  Downloading bs4-0.0.2-py2.py3-none-any.whl (1.2 kB)\n",
            "Requirement already satisfied: beautifulsoup4 in /usr/local/lib/python3.10/dist-packages (from bs4) (4.12.3)\n",
            "Requirement already satisfied: soupsieve>1.2 in /usr/local/lib/python3.10/dist-packages (from beautifulsoup4->bs4) (2.5)\n",
            "Installing collected packages: bs4\n",
            "Successfully installed bs4-0.0.2\n",
            "Requirement already satisfied: lxml in /usr/local/lib/python3.10/dist-packages (4.9.4)\n",
            "Collecting fake_useragent\n",
            "  Downloading fake_useragent-1.5.1-py3-none-any.whl (17 kB)\n",
            "Installing collected packages: fake_useragent\n",
            "Successfully installed fake_useragent-1.5.1\n"
          ]
        }
      ],
      "source": [
        "# Устанавливаем библиотеки\n",
        "# requests для отправки запросов\n",
        "# BeautifulSoup для разбора полученных данных\n",
        "# lxml для парсинга\n",
        "# fake_useragent для создания заголовков\n",
        "!pip install requests\n",
        "!pip install bs4\n",
        "!pip install lxml\n",
        "!pip install fake_useragent"
      ]
    },
    {
      "cell_type": "code",
      "source": [
        "# Импортируем библиотеки\n",
        "import requests\n",
        "from bs4 import BeautifulSoup\n",
        "import fake_useragent\n",
        "import time\n",
        "import json\n",
        "import pandas as pd\n",
        "import re"
      ],
      "metadata": {
        "id": "_wajGQRbAL4g"
      },
      "execution_count": null,
      "outputs": []
    },
    {
      "cell_type": "code",
      "source": [
        "from google.colab import drive\n",
        "drive.mount('/content/drive')\n"
      ],
      "metadata": {
        "id": "UcW6icUmBEsw"
      },
      "execution_count": null,
      "outputs": []
    },
    {
      "cell_type": "code",
      "source": [
        "folder_path = '/content/drive/My Drive/Папка_проекта/'\n"
      ],
      "metadata": {
        "id": "u6DFN3kzkHch"
      },
      "execution_count": null,
      "outputs": []
    },
    {
      "cell_type": "code",
      "source": [
        "# Общий User-Agent для всех запросов\n",
        "ua = fake_useragent.UserAgent()\n",
        "\n",
        "def get_links(text, experience=None, age_from=None, age_to=None, salary=None, education=None):\n",
        "    # Строим URL\n",
        "    url = f\"https://hh.ru/search/resume?text={text}&area=1&isDefaultArea=true&exp_period=all_time&logic=normal&pos=full_text\"\n",
        "    # Добавляем параметры\n",
        "    if experience:\n",
        "        url += f\"&experience={experience}\"\n",
        "    if age_from:\n",
        "        url += f\"&age_from={age_from}\"\n",
        "    if age_to:\n",
        "        url += f\"&age_to={age_to}\"\n",
        "    if salary:\n",
        "        url += f\"&salary={salary}\"\n",
        "    if education:\n",
        "        url += f\"&education={education}\"\n",
        "\n",
        "    data = requests.get(url, headers={\"user-agent\": ua.random})\n",
        "    if data.status_code != 200:\n",
        "        print(f\"Ошибка запроса: HTTP {data.status_code}\")\n",
        "        return []\n",
        "\n",
        "    soup = BeautifulSoup(data.content, \"lxml\")\n",
        "\n",
        "    # Определение количества страниц\n",
        "    try:\n",
        "        page_count = int(soup.find(\"div\", attrs={\"class\":\"pager\"}).find_all(\"span\", recursive=False)[-1].find(\"a\").find(\"span\").text)\n",
        "    except Exception as e:\n",
        "        print(\"Ошибка при получении количества страниц: \", e)\n",
        "        return []\n",
        "\n",
        "    links = []\n",
        "    for page in range(1, page_count + 1):\n",
        "        try:\n",
        "            data = requests.get(\n",
        "                url=f\"{url}&page={page}\",\n",
        "                headers={\"user-agent\": ua.random}\n",
        "            )\n",
        "            if data.status_code != 200:\n",
        "                print(f\"Пропуск страницы {page} из-за ошибки HTTP {data.status_code}\")\n",
        "                continue\n",
        "            soup = BeautifulSoup(data.content, \"lxml\")\n",
        "            for a in soup.find_all(\"a\", attrs={\"data-qa\":\"serp-item__title\"}):\n",
        "                links.append(f\"https://hh.ru{a.attrs['href'].split('?')[0]}\")\n",
        "        except Exception as e:\n",
        "            print(f\"Ошибка при обработке страницы {page}: {e}\")\n",
        "        time.sleep(1)\n",
        "    return links\n"
      ],
      "metadata": {
        "id": "r2yMwz-6Ao9n"
      },
      "execution_count": null,
      "outputs": []
    },
    {
      "cell_type": "code",
      "source": [
        "# Уточнение запроса\n",
        "# Давайте рассмотрим, как можно уточнить запрос, используя различные параметры:\n",
        "\n",
        "# Текст запроса (text): Основной поисковый запрос, например, \"Python разработчик\".\n",
        "# Опыт работы (experience): Значения могут быть, например, noExperience, between1And3, between3And6, moreThan6.\n",
        "# Возраст от и до (age_from, age_to): Числовые значения, указывающие возрастные рамки.\n",
        "# Зарплата от (salary): Минимальная зарплатная ожидаемость, например, from50000.\n",
        "# Образование (education): Может принимать значения как secondary, specialSecondary, higher.\n",
        "\n",
        "\n",
        "link_resume = [a for a in get_links(\"Python разработчик\", salary=\"from50000\")]\n"
      ],
      "metadata": {
        "id": "_ncdg_aEgGHs",
        "colab": {
          "base_uri": "https://localhost:8080/"
        },
        "outputId": "3b0627dd-d44a-4c56-ffcf-f0026d6e8ca5"
      },
      "execution_count": null,
      "outputs": [
        {
          "output_type": "stream",
          "name": "stdout",
          "text": [
            "Пропуск страницы 250 из-за ошибки HTTP 404\n"
          ]
        }
      ]
    },
    {
      "cell_type": "code",
      "source": [
        "len (link_resume)"
      ],
      "metadata": {
        "colab": {
          "base_uri": "https://localhost:8080/"
        },
        "id": "hglOeEVApVbU",
        "outputId": "31b1eebb-39e2-4495-eeea-745c3531b719"
      },
      "execution_count": null,
      "outputs": [
        {
          "output_type": "execute_result",
          "data": {
            "text/plain": [
              "4978"
            ]
          },
          "metadata": {},
          "execution_count": 27
        }
      ]
    },
    {
      "cell_type": "code",
      "source": [
        "# Запишем полученные ссылки в файл\n",
        "with open ('link_resume.txt', 'w') as file:\n",
        "  for resume in link_resume:\n",
        "    file.write(f\"{resume} \")"
      ],
      "metadata": {
        "id": "eaTtTSZisqC6"
      },
      "execution_count": null,
      "outputs": []
    },
    {
      "cell_type": "code",
      "source": [
        "# Переходим по любой ссылке в резюме, с указанной зарплатой\n",
        "# Смотрим код и копируем class заголовка (для этого нажмем \"проверить\" и выделим заголовок, т.е. название позиции, например Python developer)\n",
        "# Аналогично скопируем class зарплаты\n",
        "# Также ищем class ключевых навыков"
      ],
      "metadata": {
        "id": "wOqBlpHGw4cN"
      },
      "execution_count": null,
      "outputs": []
    },
    {
      "cell_type": "code",
      "source": [
        "def get_resume(link):\n",
        "  ua = fake_useragent.UserAgent() # Создадим юзер-агента\n",
        "  # Делаем запрос к переданной ссылке\n",
        "  data = requests.get(\n",
        "      url = link,\n",
        "      headers={\"user-agent\":ua.random}\n",
        "  )\n",
        "  if data.status_code != 200:\n",
        "    return\n",
        "\n",
        "  soup = BeautifulSoup(data.content, \"lxml\")\n",
        "\n",
        "  # Спарсим данные о соискателе\n",
        "  reperson = re.compile(r'resume-personal.*') # Регулярное выражение для поиска всех атрибутов, содержащих \"resume-personal\"\n",
        "  try:\n",
        "    persons = [person.text.replace(\"\\xa0\", \" \") for person in soup.find_all(attrs={\"data-qa\":reperson})]\n",
        "  except:\n",
        "    persons = \"\"\n",
        "\n",
        "  # Спарсим готовность к переезду, командировкам\n",
        "  try:\n",
        "    moving = soup.find(attrs={\"class\":\"bloko-translate-guard\"}).text.replace(\"\\xa0\", \" \")\n",
        "  except:\n",
        "    moving = \"\"\n",
        "\n",
        "  # Спарсим название позиции\n",
        "  try:\n",
        "    name = soup.find(attrs={\"class\":\"resume-block__title-text\"}).text\n",
        "  except:\n",
        "    name = \"\"\n",
        "\n",
        "  # Спарсим зарплату и уберем лишние символы (\\u2009, \\xa0)\n",
        "  try:\n",
        "    salary = soup.find(attrs={\"class\":\"resume-block__salary\"}).text.replace(\"\\u2009\",\"\").replace(\"\\xa0\", \" \")\n",
        "  except:\n",
        "    salary = \"\"\n",
        "\n",
        "  # Спарсим специализации и график работы\n",
        "  try:\n",
        "    specialization_schedule = re.sub(r'([А-ЯA-Z])', r' \\1', soup.find(attrs={\"class\":\"resume-block-container\"}).text).strip()\n",
        "  except:\n",
        "    specialization_schedule = \"\"\n",
        "\n",
        "  # Спарсим опыт работы\n",
        "  try:\n",
        "    experience = soup.find(attrs={\"data-qa\":\"resume-block-experience\"}).text.replace(\"\\xa0\", \" \")\n",
        "  except:\n",
        "    experience = \"\"\n",
        "\n",
        "  # Находим атрибут, где находятся все ключевые навыки\n",
        "  try:\n",
        "    tags = [tag.text for tag in soup.find(attrs={\"data-qa\":\"skills-table\"}).find_all(attrs={\"class\":\"bloko-tag__section_text\"})]\n",
        "  except:\n",
        "    tags = []\n",
        "\n",
        "  # Добавляем линк в словарь\n",
        "  resume = {\n",
        "      \"persons\": persons,\n",
        "      \"moving\": moving,\n",
        "      \"name\": name,\n",
        "      \"salary\": salary,\n",
        "      \"specialization_schedule\": specialization_schedule,\n",
        "      \"experience\": experience,\n",
        "      \"tags\": tags,\n",
        "      \"link\": link\n",
        "  }\n",
        "  return resume\n"
      ],
      "metadata": {
        "id": "ijbkVNPxA4c5"
      },
      "execution_count": null,
      "outputs": []
    },
    {
      "cell_type": "code",
      "source": [
        "# Здесь в зарплате видны лишние символы (\\u2009, \\xa0), скопируем их и вставим в созданную выше функцию, чтобы их убрать\n",
        "for a in link_resume[:10]:\n",
        "  print(get_resume(a))\n",
        "  time.sleep(1)"
      ],
      "metadata": {
        "colab": {
          "base_uri": "https://localhost:8080/"
        },
        "id": "SThLJfEgzuKT",
        "outputId": "886596d3-5b00-4022-b840-f831047f47da"
      },
      "execution_count": null,
      "outputs": [
        {
          "output_type": "stream",
          "name": "stdout",
          "text": [
            "{'persons': ['Мужчина', '24 года', '10 декабря 1999', 'Новосибирск', 'м. Заельцовская'], 'moving': 'Новосибирск, м. Заельцовская, готов к переезду (Москва, Санкт-Петербург, Другие регионы), не готов к командировкам', 'name': 'Python developer', 'salary': '', 'specialization_schedule': 'Специализации: Программист, разработчик Занятость: полная занятость График работы: полный день, сменный график, гибкий график, удаленная работа', 'experience': 'Опыт работы 2 года 4 месяца Март 2023 — по настоящее время1 год 2 месяцаWhitelist CapitalЕкатеринбург, whitelist.capital/Информационные технологии, системная интеграция, интернет... Показать ещеPython developerBackend developerАвгуст 2022 — Октябрь 20223 месяцаВЕБ РИЭЛТИМосква, idaproject.com/Информационные технологии, системная интеграция, интернет... Показать ещеПрограммист Python1. Backend\\nСтек технологий:\\nPython, Django + DRF, Docker, PostgreSQL, Redis, Celery, unit test.\\n\\nФункционал:\\n- Разработка backend части сайта, обсуждение с frontend разработчиками; \\n- Тестирование нового функционала;\\n- Исправление различных багов в проектах;\\n- Разработка административной части сайта;\\n- Написание документации.Сентябрь 2021 — Август 20221 годHEALTHMONITORНовосибирск, www.healthmonitor.pro/ruИнформационные технологии, системная интеграция, интернет... Показать ещеPython developerРазработка и покрытия кода тестами проекта для медицинской диагностики. \\n\\n1. Backend\\nСтек технологий:\\nPython, Django, Docker, PostgreSQL, Redis, Celery, unit test, Falcon, Flask, Selenium.\\n\\nФункционал:\\n- Разработка backend.\\n- Покрытие тестами проекта на 100% (coverage lib);\\n- Исправление багов в проектах;\\n- Разработка административной части сайта, и написание логики поведения;\\n- Разработка JWT авторизации;\\n- Интеграции со сторонними сервисами с использованием API;\\n- Парсинг сложных сайтов с использованием Selenium.\\n- Написание документации.\\n\\n2. Frontend.\\nСтек технологий:\\nHTML, CSS, JS.\\n\\nФункционал:\\n- Разработка верстки сайтов;\\n- Разработка JS логики.\\n- Разработка генерации чеков заказов пользователя.\\n\\nПоддержка существующих проектов, разработка новых приложений с нуля. Интеграция сторонних сервисов. Документирование и тестирование написанного кода.\\n ', 'tags': ['Git', 'Python', 'ООП', 'Django Framework', 'HTML5', 'CSS3', 'JavaScript', 'Django REST framework', 'Falcon', 'Redis', 'SQL', 'Selenium', 'Celery', 'Docker', 'Flask'], 'link': 'https://hh.ru/resume/7b1a872100086178440039ed1f61766c623747'}\n",
            "{'persons': ['Мужчина', '32 года', '6 января 1992', 'Москва', 'м. Тульская'], 'moving': 'Москва, м. Тульская, готов к переезду, готов к командировкам', 'name': 'Программист Python', 'salary': '350000 ₽ на руки', 'specialization_schedule': '350\\u2009000\\xa0₽ на\\xa0руки', 'experience': 'Опыт работы 8 лет 9 месяцев Ноябрь 2016 — по настоящее время7 лет 6 месяцевЯндексЕкатеринбург, www.yandex.ruИнформационные технологии, системная интеграция, интернет... Показать ещеПрограммист-разработчикЯндекс.Авиабилеты - разработка бэкенда\\n- Python, Django, Celery\\n- GoLang\\n- Yandex Database (YDB)\\n- YT (внутренняя MapReduce-система)\\n- Logbroker (внутренний аналог Kafka)\\n- Mysql, Postgresql, Mongo DB, Memcached, Redis, RabbitMQ, SentryИюль 2016 — Сентябрь 20163 месяцаЯндексЕкатеринбург, www.yandex.ruИнформационные технологии, системная интеграция, интернет... Показать ещеПрограммист-стажерПроведение экспериментов по машинному обучению для задачи классификации изображений. Применение алгоритмов Computer Vision, Deep Learning для прикладной задачи.Июль 2015 — Июнь 20161 годПрессИндексЕкатеринбургПрограммист Python- Редактировать описание должности- Разработка сервисов по загрузке новостного контента\\r\\n- Разработка ботов для индексации\\r\\n- Тестирование разрабатываемых модулей\\r\\n- Поддержание кодовой базы\\r\\n- Организация системы непрерывного интегрирования для python-проектов\\r\\n- Основной язык программирования Python\\r\\n- RabbitMQ, Redis, PostgreSQL\\r\\n- Работал в команде, использовал системы контроля версий GIT', 'tags': ['Python', 'Machine Learning', 'Linux', 'Computer Vision', 'Deep Learning', 'Mathematical Programming', 'Data Analysis', 'GoLang'], 'link': 'https://hh.ru/resume/fb7ea8c800035e24280039ed1f6d5a31676963'}\n",
            "{'persons': ['Мужчина', '23 года', '23 июня 2000', 'Москва', 'м. Сходненская'], 'moving': 'Москва, м. Сходненская, не готов к переезду, готов к командировкам', 'name': 'Python-разработчик/ Python developer', 'salary': '', 'specialization_schedule': 'Специализации: Программист, разработчик Занятость: полная занятость График работы: полный день', 'experience': 'Опыт работы 4 года 2 месяца Декабрь 2020 — по настоящее время3 года 5 месяцевФрилансМоскваИнформационные технологии, системная интеграция, интернет... Показать ещеPython-разработчикКлючевые навыки:\\n•\\t2-летний опыт работы в IT;\\n•\\tПонимание SQL запросов;\\n•\\tЗнание Python, Django, DRF, SQL;\\n•\\tНаличие завершенных проектов;\\n•\\tЗнание Git;\\n•\\tУмение разбираться в чужом коде;\\n•\\tАнглийский свободный;\\n•\\tОгромное желание развиваться в направлении разработки Python.\\n\\nПК: PyCharm, Python Programming, HTML, CSS\\n\\nФункциональные обязанности:\\n•\\tДоработка существующих/сопровождение сервисов (Python);\\n•\\tОбщение с постановщиками задач, обсуждение механизмов доработки/реализации;\\n•\\tВзаимодействие с менеджером, дизайнером, мобильными и frontend разработчиками;\\n•\\tНаписание и поддержка генераторов регулярных отчетов, интеграция с Google Sheets;\\n•\\tРазработка web-backend, Telegram-ботов, backoffice;\\n•\\tРеализация взаимодействия клиента с сервером.\\nМарт 2020 — Ноябрь 20209 месяцевЦентрСтройИнвест (Строительство жилых и нежилых зданий)МоскваСтроительство, недвижимость, эксплуатация, проектирование... Показать ещеПомощник системного администратора•\\tУстановка, настройка, тестирование и обеспечение работоспособности аппаратного и программного обеспечения;\\n•\\tПоддержка полного стека рабочих станций, периферийного оборудования;\\n•\\tУчастие в проектах по апгрейду сетевого оборудования;\\n•\\tПодбор и дальнейшая установка необходимого оборудования для обеспечения работоспособности новых помещений. \\n', 'tags': ['Исполнительность', 'Поиск информации в интернет', 'Пользователь ПК', 'Грамотная речь', 'Деловая переписка', 'Работа с большим объемом информации', 'Internet', 'MS PowerPoint', 'Английский язык', 'Телефонные переговоры', 'Грамотность', 'Электронная почта'], 'link': 'https://hh.ru/resume/6a9abec70008de01cc0039ed1f36445164474d'}\n",
            "{'persons': ['Мужчина', '24 года', '17 февраля 2000', 'Москва'], 'moving': 'Москва, не готов к переезду, не готов к командировкам', 'name': 'Программист', 'salary': '', 'specialization_schedule': 'Специализации: Программист, разработчик Занятость: полная занятость, частичная занятость График работы: полный день, сменный график, гибкий график, удаленная работа', 'experience': \"Опыт работы 3 года 4 месяца Июль 2023 — по настоящее время10 месяцевИсходный КодПрограммист PythonDevelopment of microservices on FastAPI. Refactoring legacy code bases using SOLID and best practices. Separate code base into modules to be reused in all projects. Optimizing workflow by introducing monorepository and dependency management through Poetry. Improving code quality by introducing linters (ruff) and forcing type annotation (pyright/mypy).\\n\\nStack: Python, FastAPI, SQLAlchemy 2.0+, alembic, PostgreSQL, SQLite, Redis, Opentelemetry (jaeger), httpx, aiohttp, pydantic, pytest, pyright, mypy, Poetry.Апрель 2023 — Июль 20234 месяцаUNIKAПрограммист PythonDeveloping identity protocol on Ethereum compatible blockchain. Implementing peer-to-peer overlay network for blockchain protocol. Integration with FaceTec for face recognition and implementing mechanisms for client identification on blockchain.\\n\\nStack: Python, FastAPI, MongoDB, IPv8, Solidity.Январь 2022 — Март 20231 год 3 месяцаArtistrazhПрограммист PythonDevelopment of asynchronous microservices (FastApi/Starlette), working with DBs (Postgresql, Sqlalchemy, TortoiseORM, Asyncpg), message brokers (rabbitmq + aio_pika, Kafka + Faust) \\n\\nDevelopment of high load web parsers (httpx, aiohttp, bs) \\nHighload parsing of the blockchain data (Solana + solana-py, solana web3.js, ethereum). \\n\\nDevelopment of the decentralized blockchain NFT marketplace (javascript + typescript, node.js + express, solana web3.js + metaplex) \\n\\nPython services optimisation (multiprocessing, multithreading, c-python extensions, asyncio) \\n\\nArchitecturing and development of distributed ddos protection system with geographical load-balancing and optimal path reverse proxying to the origin. \\nStack: \\nNode.js (Nest.js) - backend server management system. \\nAnsible + Molecule + Vagrant + Python + Docker - server deployment and CI/CD. \\nNginx + Lua (Openresty) - edge server's stack (L7 ddos protection, antibot system, CDN geo distributed system with optimal routing to origin). \\nPowerDNS + TS (Fastify) - edge dns server stack (point client to closest server). \\nLogging: vector (collection), loki (logs aggregation), influxdb (metrics), grafana (visualization). \\nUtility: PostgreSQL, Rabbitmq, Redis. \\nLittle bit of frontend on React.\\n\\nWorked on DDoS mitigation service using eBPF + XDP + bcc. Integration of ML model into this pipeline.\\nHave experience with Linux kernel and C.Декабрь 2020 — Июль 20218 месяцевgurulabsПрограммистРазработка бэкенда на python (Django, DRF, Flask), php (WordPress) \\nРазработка парсеров на python\\nВёрстка (html/css, sass/js).Январь 2019 — Апрель 20194 месяцаИндивидуальное предпринимательство / частная практика / фрилансРазработка сайтов.Работа с python (django/flask), работа с базами данных.\", 'tags': [' Python', 'JavaScript', 'Git', 'Bash', 'Linux', 'Английский язык', 'RabbitMQ', 'PostgreSQL', 'DRF', 'Couchbase', 'FastAPI', 'Nginx', 'Lua', 'Grafana', 'Loki', 'InfluxDB', 'Vector', 'Nest.js', 'Rust', 'eBPF', 'Node.js', 'Ansible', 'TypeScript', 'Паттерны проектирования', 'Проектирование систем', 'Основы компьютерных сетей', 'Системная архитектура', 'Управление проектами', 'Системное программирование'], 'link': 'https://hh.ru/resume/bee0660c00080a04f10039ed1f53547a664e75'}\n",
            "{'persons': ['Мужчина', '31 год', '28 февраля 1993', 'Владивосток'], 'moving': 'Владивосток, готов к переезду (Беларусь, Москва, Санкт-Петербург, Республика Крым, Армения, Краснодарский край), готов к командировкам', 'name': 'Программист Python', 'salary': '', 'specialization_schedule': 'Специализации: Программист, разработчик Занятость: полная занятость, частичная занятость, проектная работа График работы: полный день, удаленная работа', 'experience': 'Опыт работы 7 лет 8 месяцев Сентябрь 2016 — по настоящее время7 лет 8 месяцевМесто работы скрыто соискателемПрограммистPython 2.7, type script, postgreSql', 'tags': [], 'link': 'https://hh.ru/resume/b20787e00003b6474f0039ed1f354f4c624971'}\n",
            "{'persons': ['Мужчина', '25 лет', '12 июля 1998', 'Красноярск'], 'moving': 'Красноярск, готов к переезду (Москва, Грузия, Таиланд, Армения, Турция), готов к командировкам', 'name': 'Python разработчик', 'salary': '150000 ₽ на руки', 'specialization_schedule': '150\\u2009000\\xa0₽ на\\xa0руки', 'experience': 'Опыт работы 3 года 5 месяцев Декабрь 2021 — по настоящее время2 года 5 месяцевISSArtКрасноярск, issart.com/Информационные технологии, системная интеграция, интернет... Показать ещеPython разработчикКомпания - разработка различного софта на заказ, упор на ML, AI, CV.\\n\\nПринимал участие в нескольких разных проектах:\\n\\n1) Web-приложение для инвесторов (аналог TradingView).\\n- получение данных через Polygon API (https://polygon.io/);\\n- обработка данных - вычисление различных величин и характеристик для тикеров;\\n- хранение данных в NoSQL (Redis);\\n- оптимизация хранения для экономии ресурсов - разработал алгоритм инвалидации данных;\\n- API для передачи готовых данных на фронт;\\n\\n2) Приложение для фрилансеров (аналог UpWork).\\n- разработал скрипт-парсер для выгрузки данных обо всех исполнителях с Clutch (https://clutch.co) в json для последующего хранения в MongoDB. Данные планировалось использовать в проекте.\\n\\n3) Кроссплатформенное приложение для определения повреждений солнечных панелей по фото.\\n- доработал уже существующий десктоп-клиент, использовал PyQt4.\\n\\n4) Мобильное приложение для распознавания животных по фото. \\n- переписал сервис для распознавания с Kotlin на Python с использованием OpenCV;\\n- написал API, использовал FastAPI.\\n\\nWeb: Django Rest Framework, FastAPI;\\nDB: PostgreSQL, MongoDB, Redis, SQLAlchemy;\\nOther: OpenCV, BeautifulSoup4, PyQt4;\\nOps: Docker, Gitlab CI/CD, BashИюль 2021 — Декабрь 20216 месяцевAlenteКрасноярск, alente.ruИнформационные технологии, системная интеграция, интернет... Показать ещеPython разработчикКомпания - Web-студия, разработка корпоративных сайтов для продвижения на заказ.\\n\\nРазработка серверной части проектов (корпоративные сайты, интернет-магазины);\\nПроектирование баз данных;\\nПравки в легаси;\\nПокрытие кода юнит-тестами;\\n\\nДеплой приложений - контейнеризация и развертка на тестовых и боевых серверах;\\n\\nОбщение с заказчиком, оценка проектов;\\n\\nПроведение технических интервью, оценка портфолио и тестовых заданий кандидатов, менторство;\\n\\nWeb: Django, DRF\\nDB: PostgreSQL\\nDeploy: Docker, Nginx, LinuxФевраль 2021 — Июль 20216 месяцевСарафанкаКрасноярск, srf.digitalИнформационные технологии, системная интеграция, интернет... Показать ещеPython разработчикКомпания - стартап. Работа в небольшой команде (5 человек). Проект - агрегатор для заказа/продажи рекламы, продаж товаров (аналог Я.Маркета).\\n\\nРазработка серверной части приложения;\\nПроектирование базы данных; \\nНаписание юнит-тестов;\\nИнтеграция со сторонними API соц. сетей, банков, налоговой;\\nРазработка парсеров и алгоритмов обработки данных;\\n\\nWeb: Django, DRF;\\nDB: PostgreSQL, Redis;\\nOther: Celery, Elasticsearch;\\nOps: Docker; Июль 2020 — Август 20202 месяцаSibdevКрасноярск, sibdev.pro/Информационные технологии, системная интеграция, интернет... Показать ещеПрактикантВ ходе практики каждому было выдано индивидуальное задание (шаблон проекта). Я разработал бэкенд веб-приложения для создания и управление заведениями общественного питания. Была предусмотрена система баллов и рейтинг. Закончил с хорошим результатом - 4 место в рейтинге. Всего участников практики по моему направлению было ~150 человек. Практика проходила удаленно.\\n\\nWeb: Django, DRF;\\nDB: PostgreSQL, Redis; \\nDeploy: Docker, Nginx, Gunicorn;', 'tags': ['Python', 'Django Rest Framework', 'PostgreSQL', 'Docker', 'Git', 'Linux', 'Nginx', 'Redis', 'Celery', 'FastAPI', 'OpenCV', 'SQLAlchemy'], 'link': 'https://hh.ru/resume/429d47d9000864a3e30039ed1f6352654d3831'}\n",
            "{'persons': ['Мужчина', '21 год', '6 августа 2002', 'Москва'], 'moving': 'Москва, не готов к переезду, не готов к командировкам', 'name': 'python developer', 'salary': '110000 ₽ на руки', 'specialization_schedule': '110\\u2009000\\xa0₽ на\\xa0руки', 'experience': 'Опыт работы 4 года Декабрь 2023 — по настоящее время5 месяцевООО ЦЭСПрограммист-разработчик- Разработка restful api на фреймворке django\\n- Управление Бд Postgresql\\n- Помощь в деплое приложений\\n- Работа с docker контейнерами\\n- Работа с yandex s3\\n- Разработка frontend приложения на vue/nuzt.js\\n- Разработка grpc микросервисов\\n- Разработка микросервиса на fastapi\\n- Поддержка кода на golang\\n- Поддержка кода на reactОктябрь 2023 — по настоящее время7 месяцевРТУ МИРЭАОбразовательные учреждения... Показать ещеЛаборант- Сбор данных пациентов\\n- Создание сервиса по сбору данных на фреймворке django и фреймворке vue\\n- Создание модели на catboost для классификации трудных дыхательных путей\\n- Создание модели ИИ Resnet для классификации изображений маллампатиДекабрь 2021 — Январь 20242 года 2 месяцаExpoinexpoin.io/Программист-разработчикЗанимаюсь сборкой проектов на Qt/C++. Также пишу вебсерверы и ботов на python.Август 2022 — Август 20231 год 1 месяцXoxlov StoreМосква, vk.com/xoxlovstoreРозничная торговля... Показать ещеПрограммист-разработчикЗанимаюсь созданием сайта на Django. В мои обязанности входят: руководство командой, backend разработка, devops.\\nТакже занимаюсь созданием магазина в телеграмм. В мои обязанности входит разработка бота с использованием библиотеки aiogram.Февраль 2023 — Июнь 20235 месяцевShishkaBoardУправление многопрофильными активами... Показать ещеПрограммист-разработчикВ мои обязанности входит разработка api на DRF, тестирование api. Ноябрь 2020 — Май 20221 год 7 месяцевKodlandМосква, www.kodland.org/Преподаватель pythonПреподавать детям язык программирования python.Июнь 2019 — Август 20193 месяцаMF KitchenКурьердоставка здорового питанияИюнь 2017 — Август 20173 месяцаLike me studioМоскваФотографФотографирование людей на пароме', 'tags': ['Git', ' Python', 'Linux', 'Asyncio', 'Aiogram', 'Nginx', 'Pandas', 'MySQL', 'PostgreSQL', 'Java', 'FastApi', 'Docker', 'Django', 'Docker-compose', 'Django Rest Framework', 'Nuxt'], 'link': 'https://hh.ru/resume/af83232500085dd6470039ed1f535879337868'}\n",
            "{'persons': ['Мужчина', '25 лет', '10 августа 1998', 'Москва', 'м. Щелковская'], 'moving': 'Москва, м. Щелковская, готов к переезду, готов к командировкам', 'name': 'Python Developer', 'salary': '', 'specialization_schedule': 'Специализации: Программист, разработчик Занятость: полная занятость График работы: полный день, гибкий график, удаленная работа', 'experience': 'Опыт работы 11 месяцев Июль 2022 — Май 202311 месяцевЯндекс ПрактикумМоскваPython Developer (обучение)1. Дипломный проект.\\n\\nСтэк: Python, Django, DRF, API, postgresql, nginx, docker, git, Linux, workflow\\nЦель: создание проекта для публикации рецептов, с возможностью подписываться на автора, добавления рецептов в избранное/список покупок. Рецепты из списка покупок можно скачать, в результате выдается файл с продуктами, которые используются в рецептах. БД наполняется из csv файла с помощью management команды. \\n\\nGithub: https://github.com/Junior-George/foodgram-project-react/\\n\\n2. Проект yamdb. Настройка удаленного сервера с проектом. Контеризация\\n\\nСтэк: Python, Django, DRF, postgresql, gunicorn, nginx, git, docker, workflow\\nЦель: настройка удаленного сервера, создание workflow для проекта с тестом flake8 и внутренних тестов проекта, создание и пуш образа проекта в DockerHub, деплой. Развертывание проекта (сайта) было на удаленном сервере с операционной системой Linux.\\n\\nGithub: https://github.com/Junior-George/yamdb_final/\\n\\n3. Проект api_final_yatube. Аутентификация по токену JWT.\\n\\nСтэк: Pyhton, Django, DRF, API, sqlite, git, JWT token\\nЦель: cоздание API для проекта, в котором пользователи могут регистрироваться и логиниться, создавать посты, читать посты других пользователей, а также комментировать эти посты.Добавить возможность пользователям подписываться друг на друга. Использование JWT-токенов для аутентификации.\\n\\nGithub: https://github.com/Junior-George/api_final_yatube/\\n\\n4. Проект hw04_test. Покрытие проекта тестами.\\n\\nСтэк: Python, Django, pytest, Unittest\\nЦель: покрытие проекта unuit-тастами. Были написаны тесты, проверяющие соответствие view-функции и html-шаблона, контекст html-шаблонов, при создании новых постов, эти посты появляются на необходимых url-ах. Также были написаны тесты для форм (forms.py).\\n\\nGithub: https://github.com/Junior-George/hw04_tests', 'tags': ['Python', 'Django Framework', 'Django Rest Framework', 'API', 'ООП', 'SQLite', 'PostgreSQL', 'Nginx', 'Docker', 'Linux', 'GitHub', 'Unittest', 'Алгоритмы и структуры данных', 'Асинхронное программирование'], 'link': 'https://hh.ru/resume/4bf784100003ebff3f0039ed1f565a51574b39'}\n",
            "{'persons': ['Мужчина', '26 лет', '3 марта 1998', 'Москва', 'м. Перово'], 'moving': 'Москва, м. Перово, готов к переезду, готов к редким командировкам', 'name': 'Python Developer', 'salary': '', 'specialization_schedule': 'Специализации: Программист, разработчик Сетевой инженер Занятость: полная занятость, частичная занятость График работы: полный день, сменный график, гибкий график, удаленная работа, вахтовый метод', 'experience': 'Опыт работы 4 года 3 месяца Июль 2021 — по настоящее время2 года 10 месяцевTraceAirPython Developer- разработка серверной части внутреннего продукта (Python)\\n- разработка CRUD-приложений (Python) \\n- взаимодействие с Google API и разработка решений на OAuth2 Framework\\n- написание автотестов (PyTest, ansible molecule)\\n- контроль версий Git (GitHub)\\n- автоматизация процессов CI/CD (Jenkins, Ansible, Terraform, Helm)\\n- администрирование Linux серверов, Kubernetes\\n- Контейнеризация приложений (Docker)Май 2020 — Апрель 20211 годМосковская Юридическая компанияСистемный администратор/Младший разработчик PHP- работа с орг. техникой.\\n- администрирование локальных сетей и камер видеонаблюдения.\\n- ремонт офисного оборудования и ПК\\n- администрирование самописной CRM системы\\n- доработка существующих решений и разработка нового функционала на PHP\\n- разработка web crawlers \\n- разработка парсеров сайтов на PHP.Май 2017 — Сентябрь 20175 месяцевМосОблЕИРЦСистемный администратор WindowsНастройка сетевого оборудования, администрирование маленького офиса(филиал)', 'tags': ['Django Framework', 'HTML', 'CSS', 'Flask', ' Python', 'SQLite', 'Git', 'PostgreSQL', 'Jinja', 'AWS', 'MongoDB', 'Linux', 'OAuth', 'OAuth2', 'Google API', 'Ansible', 'Kubernetes'], 'link': 'https://hh.ru/resume/a49ef7f300088e0a7f0039ed1f595645344371'}\n",
            "{'persons': ['Мужчина', '23 года', '11 сентября 2000', 'Москва'], 'moving': 'Москва, готов к переезду, готов к командировкам', 'name': 'Программист Python', 'salary': '100000 ₽ на руки', 'specialization_schedule': '100\\u2009000\\xa0₽ на\\xa0руки', 'experience': 'Опыт работы 4 года 1 месяц Июль 2023 — по настоящее время10 месяцевSkyRusПрограммист PythonРазработка  десктопного приложения на базе QtИюнь 2019 — Август 20223 года 3 месяцаИП Бухгалтер Ввел бухгалтерскую отчетность нескольких ИП в сфере грузовых перевозок.\\nЗа время работы научился пользоваться глонасс, вести финансовый учет, основы бухгалтерии, заключать договора,находить  водителей и привлекать клиентов.\\nЕсть опыт в делом общении', 'tags': ['Математический анализ', 'Математическая статистика', ' Python', 'Бухгалтерский учет', 'Деловое общение'], 'link': 'https://hh.ru/resume/cf75ec080007eeefb80039ed1f477730353642'}\n"
          ]
        }
      ]
    },
    {
      "cell_type": "code",
      "source": [
        "# Вот, что получилось, когда убрали лишние символы в зарплате\n",
        "for a in link_resume[:10]:\n",
        "  print(get_resume(a))\n",
        "  time.sleep(1)"
      ],
      "metadata": {
        "colab": {
          "base_uri": "https://localhost:8080/"
        },
        "id": "NaU2l-0n5kpv",
        "outputId": "a6ca8f29-cf9a-4d59-f7dc-6284bfd8738a"
      },
      "execution_count": null,
      "outputs": [
        {
          "output_type": "stream",
          "name": "stdout",
          "text": [
            "{'persons': ['Мужчина', '24 года', '10 декабря 1999', 'Новосибирск', 'м. Заельцовская'], 'moving': 'Новосибирск, м. Заельцовская, готов к переезду (Москва, Санкт-Петербург, Другие регионы), не готов к командировкам', 'name': 'Python developer', 'salary': '', 'specialization_schedule': 'Специализации: Программист, разработчик Занятость: полная занятость График работы: полный день, сменный график, гибкий график, удаленная работа', 'experience': 'Опыт работы 2 года 4 месяца Март 2023 — по настоящее время1 год 2 месяцаWhitelist CapitalЕкатеринбург, whitelist.capital/Информационные технологии, системная интеграция, интернет... Показать ещеPython developerBackend developerАвгуст 2022 — Октябрь 20223 месяцаВЕБ РИЭЛТИМосква, idaproject.com/Информационные технологии, системная интеграция, интернет... Показать ещеПрограммист Python1. Backend\\nСтек технологий:\\nPython, Django + DRF, Docker, PostgreSQL, Redis, Celery, unit test.\\n\\nФункционал:\\n- Разработка backend части сайта, обсуждение с frontend разработчиками; \\n- Тестирование нового функционала;\\n- Исправление различных багов в проектах;\\n- Разработка административной части сайта;\\n- Написание документации.Сентябрь 2021 — Август 20221 годHEALTHMONITORНовосибирск, www.healthmonitor.pro/ruИнформационные технологии, системная интеграция, интернет... Показать ещеPython developerРазработка и покрытия кода тестами проекта для медицинской диагностики. \\n\\n1. Backend\\nСтек технологий:\\nPython, Django, Docker, PostgreSQL, Redis, Celery, unit test, Falcon, Flask, Selenium.\\n\\nФункционал:\\n- Разработка backend.\\n- Покрытие тестами проекта на 100% (coverage lib);\\n- Исправление багов в проектах;\\n- Разработка административной части сайта, и написание логики поведения;\\n- Разработка JWT авторизации;\\n- Интеграции со сторонними сервисами с использованием API;\\n- Парсинг сложных сайтов с использованием Selenium.\\n- Написание документации.\\n\\n2. Frontend.\\nСтек технологий:\\nHTML, CSS, JS.\\n\\nФункционал:\\n- Разработка верстки сайтов;\\n- Разработка JS логики.\\n- Разработка генерации чеков заказов пользователя.\\n\\nПоддержка существующих проектов, разработка новых приложений с нуля. Интеграция сторонних сервисов. Документирование и тестирование написанного кода.\\n ', 'tags': ['Git', 'Python', 'ООП', 'Django Framework', 'HTML5', 'CSS3', 'JavaScript', 'Django REST framework', 'Falcon', 'Redis', 'SQL', 'Selenium', 'Celery', 'Docker', 'Flask'], 'link': 'https://hh.ru/resume/7b1a872100086178440039ed1f61766c623747'}\n",
            "{'persons': ['Мужчина', '32 года', '6 января 1992', 'Москва', 'м. Тульская'], 'moving': 'Москва, м. Тульская, готов к переезду, готов к командировкам', 'name': 'Программист Python', 'salary': '350000 ₽ на руки', 'specialization_schedule': '350\\u2009000\\xa0₽ на\\xa0руки', 'experience': 'Опыт работы 8 лет 9 месяцев Ноябрь 2016 — по настоящее время7 лет 6 месяцевЯндексЕкатеринбург, www.yandex.ruИнформационные технологии, системная интеграция, интернет... Показать ещеПрограммист-разработчикЯндекс.Авиабилеты - разработка бэкенда\\n- Python, Django, Celery\\n- GoLang\\n- Yandex Database (YDB)\\n- YT (внутренняя MapReduce-система)\\n- Logbroker (внутренний аналог Kafka)\\n- Mysql, Postgresql, Mongo DB, Memcached, Redis, RabbitMQ, SentryИюль 2016 — Сентябрь 20163 месяцаЯндексЕкатеринбург, www.yandex.ruИнформационные технологии, системная интеграция, интернет... Показать ещеПрограммист-стажерПроведение экспериментов по машинному обучению для задачи классификации изображений. Применение алгоритмов Computer Vision, Deep Learning для прикладной задачи.Июль 2015 — Июнь 20161 годПрессИндексЕкатеринбургПрограммист Python- Редактировать описание должности- Разработка сервисов по загрузке новостного контента\\r\\n- Разработка ботов для индексации\\r\\n- Тестирование разрабатываемых модулей\\r\\n- Поддержание кодовой базы\\r\\n- Организация системы непрерывного интегрирования для python-проектов\\r\\n- Основной язык программирования Python\\r\\n- RabbitMQ, Redis, PostgreSQL\\r\\n- Работал в команде, использовал системы контроля версий GIT', 'tags': ['Python', 'Machine Learning', 'Linux', 'Computer Vision', 'Deep Learning', 'Mathematical Programming', 'Data Analysis', 'GoLang'], 'link': 'https://hh.ru/resume/fb7ea8c800035e24280039ed1f6d5a31676963'}\n",
            "{'persons': ['Мужчина', '23 года', '23 июня 2000', 'Москва', 'м. Сходненская'], 'moving': 'Москва, м. Сходненская, не готов к переезду, готов к командировкам', 'name': 'Python-разработчик/ Python developer', 'salary': '', 'specialization_schedule': 'Специализации: Программист, разработчик Занятость: полная занятость График работы: полный день', 'experience': 'Опыт работы 4 года 2 месяца Декабрь 2020 — по настоящее время3 года 5 месяцевФрилансМоскваИнформационные технологии, системная интеграция, интернет... Показать ещеPython-разработчикКлючевые навыки:\\n•\\t2-летний опыт работы в IT;\\n•\\tПонимание SQL запросов;\\n•\\tЗнание Python, Django, DRF, SQL;\\n•\\tНаличие завершенных проектов;\\n•\\tЗнание Git;\\n•\\tУмение разбираться в чужом коде;\\n•\\tАнглийский свободный;\\n•\\tОгромное желание развиваться в направлении разработки Python.\\n\\nПК: PyCharm, Python Programming, HTML, CSS\\n\\nФункциональные обязанности:\\n•\\tДоработка существующих/сопровождение сервисов (Python);\\n•\\tОбщение с постановщиками задач, обсуждение механизмов доработки/реализации;\\n•\\tВзаимодействие с менеджером, дизайнером, мобильными и frontend разработчиками;\\n•\\tНаписание и поддержка генераторов регулярных отчетов, интеграция с Google Sheets;\\n•\\tРазработка web-backend, Telegram-ботов, backoffice;\\n•\\tРеализация взаимодействия клиента с сервером.\\nМарт 2020 — Ноябрь 20209 месяцевЦентрСтройИнвест (Строительство жилых и нежилых зданий)МоскваСтроительство, недвижимость, эксплуатация, проектирование... Показать ещеПомощник системного администратора•\\tУстановка, настройка, тестирование и обеспечение работоспособности аппаратного и программного обеспечения;\\n•\\tПоддержка полного стека рабочих станций, периферийного оборудования;\\n•\\tУчастие в проектах по апгрейду сетевого оборудования;\\n•\\tПодбор и дальнейшая установка необходимого оборудования для обеспечения работоспособности новых помещений. \\n', 'tags': ['Исполнительность', 'Поиск информации в интернет', 'Пользователь ПК', 'Грамотная речь', 'Деловая переписка', 'Работа с большим объемом информации', 'Internet', 'MS PowerPoint', 'Английский язык', 'Телефонные переговоры', 'Грамотность', 'Электронная почта'], 'link': 'https://hh.ru/resume/6a9abec70008de01cc0039ed1f36445164474d'}\n",
            "{'persons': ['Мужчина', '24 года', '17 февраля 2000', 'Москва'], 'moving': 'Москва, не готов к переезду, не готов к командировкам', 'name': 'Программист', 'salary': '', 'specialization_schedule': 'Специализации: Программист, разработчик Занятость: полная занятость, частичная занятость График работы: полный день, сменный график, гибкий график, удаленная работа', 'experience': \"Опыт работы 3 года 4 месяца Июль 2023 — по настоящее время10 месяцевИсходный КодПрограммист PythonDevelopment of microservices on FastAPI. Refactoring legacy code bases using SOLID and best practices. Separate code base into modules to be reused in all projects. Optimizing workflow by introducing monorepository and dependency management through Poetry. Improving code quality by introducing linters (ruff) and forcing type annotation (pyright/mypy).\\n\\nStack: Python, FastAPI, SQLAlchemy 2.0+, alembic, PostgreSQL, SQLite, Redis, Opentelemetry (jaeger), httpx, aiohttp, pydantic, pytest, pyright, mypy, Poetry.Апрель 2023 — Июль 20234 месяцаUNIKAПрограммист PythonDeveloping identity protocol on Ethereum compatible blockchain. Implementing peer-to-peer overlay network for blockchain protocol. Integration with FaceTec for face recognition and implementing mechanisms for client identification on blockchain.\\n\\nStack: Python, FastAPI, MongoDB, IPv8, Solidity.Январь 2022 — Март 20231 год 3 месяцаArtistrazhПрограммист PythonDevelopment of asynchronous microservices (FastApi/Starlette), working with DBs (Postgresql, Sqlalchemy, TortoiseORM, Asyncpg), message brokers (rabbitmq + aio_pika, Kafka + Faust) \\n\\nDevelopment of high load web parsers (httpx, aiohttp, bs) \\nHighload parsing of the blockchain data (Solana + solana-py, solana web3.js, ethereum). \\n\\nDevelopment of the decentralized blockchain NFT marketplace (javascript + typescript, node.js + express, solana web3.js + metaplex) \\n\\nPython services optimisation (multiprocessing, multithreading, c-python extensions, asyncio) \\n\\nArchitecturing and development of distributed ddos protection system with geographical load-balancing and optimal path reverse proxying to the origin. \\nStack: \\nNode.js (Nest.js) - backend server management system. \\nAnsible + Molecule + Vagrant + Python + Docker - server deployment and CI/CD. \\nNginx + Lua (Openresty) - edge server's stack (L7 ddos protection, antibot system, CDN geo distributed system with optimal routing to origin). \\nPowerDNS + TS (Fastify) - edge dns server stack (point client to closest server). \\nLogging: vector (collection), loki (logs aggregation), influxdb (metrics), grafana (visualization). \\nUtility: PostgreSQL, Rabbitmq, Redis. \\nLittle bit of frontend on React.\\n\\nWorked on DDoS mitigation service using eBPF + XDP + bcc. Integration of ML model into this pipeline.\\nHave experience with Linux kernel and C.Декабрь 2020 — Июль 20218 месяцевgurulabsПрограммистРазработка бэкенда на python (Django, DRF, Flask), php (WordPress) \\nРазработка парсеров на python\\nВёрстка (html/css, sass/js).Январь 2019 — Апрель 20194 месяцаИндивидуальное предпринимательство / частная практика / фрилансРазработка сайтов.Работа с python (django/flask), работа с базами данных.\", 'tags': [' Python', 'JavaScript', 'Git', 'Bash', 'Linux', 'Английский язык', 'RabbitMQ', 'PostgreSQL', 'DRF', 'Couchbase', 'FastAPI', 'Nginx', 'Lua', 'Grafana', 'Loki', 'InfluxDB', 'Vector', 'Nest.js', 'Rust', 'eBPF', 'Node.js', 'Ansible', 'TypeScript', 'Паттерны проектирования', 'Проектирование систем', 'Основы компьютерных сетей', 'Системная архитектура', 'Управление проектами', 'Системное программирование'], 'link': 'https://hh.ru/resume/bee0660c00080a04f10039ed1f53547a664e75'}\n",
            "{'persons': ['Мужчина', '31 год', '28 февраля 1993', 'Владивосток'], 'moving': 'Владивосток, готов к переезду (Беларусь, Москва, Санкт-Петербург, Республика Крым, Армения, Краснодарский край), готов к командировкам', 'name': 'Программист Python', 'salary': '', 'specialization_schedule': 'Специализации: Программист, разработчик Занятость: полная занятость, частичная занятость, проектная работа График работы: полный день, удаленная работа', 'experience': 'Опыт работы 7 лет 8 месяцев Сентябрь 2016 — по настоящее время7 лет 8 месяцевМесто работы скрыто соискателемПрограммистPython 2.7, type script, postgreSql', 'tags': [], 'link': 'https://hh.ru/resume/b20787e00003b6474f0039ed1f354f4c624971'}\n",
            "{'persons': ['Мужчина', '25 лет', '12 июля 1998', 'Красноярск'], 'moving': 'Красноярск, готов к переезду (Москва, Грузия, Таиланд, Армения, Турция), готов к командировкам', 'name': 'Python разработчик', 'salary': '150000 ₽ на руки', 'specialization_schedule': '150\\u2009000\\xa0₽ на\\xa0руки', 'experience': 'Опыт работы 3 года 5 месяцев Декабрь 2021 — по настоящее время2 года 5 месяцевISSArtКрасноярск, issart.com/Информационные технологии, системная интеграция, интернет... Показать ещеPython разработчикКомпания - разработка различного софта на заказ, упор на ML, AI, CV.\\n\\nПринимал участие в нескольких разных проектах:\\n\\n1) Web-приложение для инвесторов (аналог TradingView).\\n- получение данных через Polygon API (https://polygon.io/);\\n- обработка данных - вычисление различных величин и характеристик для тикеров;\\n- хранение данных в NoSQL (Redis);\\n- оптимизация хранения для экономии ресурсов - разработал алгоритм инвалидации данных;\\n- API для передачи готовых данных на фронт;\\n\\n2) Приложение для фрилансеров (аналог UpWork).\\n- разработал скрипт-парсер для выгрузки данных обо всех исполнителях с Clutch (https://clutch.co) в json для последующего хранения в MongoDB. Данные планировалось использовать в проекте.\\n\\n3) Кроссплатформенное приложение для определения повреждений солнечных панелей по фото.\\n- доработал уже существующий десктоп-клиент, использовал PyQt4.\\n\\n4) Мобильное приложение для распознавания животных по фото. \\n- переписал сервис для распознавания с Kotlin на Python с использованием OpenCV;\\n- написал API, использовал FastAPI.\\n\\nWeb: Django Rest Framework, FastAPI;\\nDB: PostgreSQL, MongoDB, Redis, SQLAlchemy;\\nOther: OpenCV, BeautifulSoup4, PyQt4;\\nOps: Docker, Gitlab CI/CD, BashИюль 2021 — Декабрь 20216 месяцевAlenteКрасноярск, alente.ruИнформационные технологии, системная интеграция, интернет... Показать ещеPython разработчикКомпания - Web-студия, разработка корпоративных сайтов для продвижения на заказ.\\n\\nРазработка серверной части проектов (корпоративные сайты, интернет-магазины);\\nПроектирование баз данных;\\nПравки в легаси;\\nПокрытие кода юнит-тестами;\\n\\nДеплой приложений - контейнеризация и развертка на тестовых и боевых серверах;\\n\\nОбщение с заказчиком, оценка проектов;\\n\\nПроведение технических интервью, оценка портфолио и тестовых заданий кандидатов, менторство;\\n\\nWeb: Django, DRF\\nDB: PostgreSQL\\nDeploy: Docker, Nginx, LinuxФевраль 2021 — Июль 20216 месяцевСарафанкаКрасноярск, srf.digitalИнформационные технологии, системная интеграция, интернет... Показать ещеPython разработчикКомпания - стартап. Работа в небольшой команде (5 человек). Проект - агрегатор для заказа/продажи рекламы, продаж товаров (аналог Я.Маркета).\\n\\nРазработка серверной части приложения;\\nПроектирование базы данных; \\nНаписание юнит-тестов;\\nИнтеграция со сторонними API соц. сетей, банков, налоговой;\\nРазработка парсеров и алгоритмов обработки данных;\\n\\nWeb: Django, DRF;\\nDB: PostgreSQL, Redis;\\nOther: Celery, Elasticsearch;\\nOps: Docker; Июль 2020 — Август 20202 месяцаSibdevКрасноярск, sibdev.pro/Информационные технологии, системная интеграция, интернет... Показать ещеПрактикантВ ходе практики каждому было выдано индивидуальное задание (шаблон проекта). Я разработал бэкенд веб-приложения для создания и управление заведениями общественного питания. Была предусмотрена система баллов и рейтинг. Закончил с хорошим результатом - 4 место в рейтинге. Всего участников практики по моему направлению было ~150 человек. Практика проходила удаленно.\\n\\nWeb: Django, DRF;\\nDB: PostgreSQL, Redis; \\nDeploy: Docker, Nginx, Gunicorn;', 'tags': ['Python', 'Django Rest Framework', 'PostgreSQL', 'Docker', 'Git', 'Linux', 'Nginx', 'Redis', 'Celery', 'FastAPI', 'OpenCV', 'SQLAlchemy'], 'link': 'https://hh.ru/resume/429d47d9000864a3e30039ed1f6352654d3831'}\n",
            "{'persons': ['Мужчина', '21 год', '6 августа 2002', 'Москва'], 'moving': 'Москва, не готов к переезду, не готов к командировкам', 'name': 'python developer', 'salary': '110000 ₽ на руки', 'specialization_schedule': '110\\u2009000\\xa0₽ на\\xa0руки', 'experience': 'Опыт работы 4 года Декабрь 2023 — по настоящее время5 месяцевООО ЦЭСПрограммист-разработчик- Разработка restful api на фреймворке django\\n- Управление Бд Postgresql\\n- Помощь в деплое приложений\\n- Работа с docker контейнерами\\n- Работа с yandex s3\\n- Разработка frontend приложения на vue/nuzt.js\\n- Разработка grpc микросервисов\\n- Разработка микросервиса на fastapi\\n- Поддержка кода на golang\\n- Поддержка кода на reactОктябрь 2023 — по настоящее время7 месяцевРТУ МИРЭАОбразовательные учреждения... Показать ещеЛаборант- Сбор данных пациентов\\n- Создание сервиса по сбору данных на фреймворке django и фреймворке vue\\n- Создание модели на catboost для классификации трудных дыхательных путей\\n- Создание модели ИИ Resnet для классификации изображений маллампатиДекабрь 2021 — Январь 20242 года 2 месяцаExpoinexpoin.io/Программист-разработчикЗанимаюсь сборкой проектов на Qt/C++. Также пишу вебсерверы и ботов на python.Август 2022 — Август 20231 год 1 месяцXoxlov StoreМосква, vk.com/xoxlovstoreРозничная торговля... Показать ещеПрограммист-разработчикЗанимаюсь созданием сайта на Django. В мои обязанности входят: руководство командой, backend разработка, devops.\\nТакже занимаюсь созданием магазина в телеграмм. В мои обязанности входит разработка бота с использованием библиотеки aiogram.Февраль 2023 — Июнь 20235 месяцевShishkaBoardУправление многопрофильными активами... Показать ещеПрограммист-разработчикВ мои обязанности входит разработка api на DRF, тестирование api. Ноябрь 2020 — Май 20221 год 7 месяцевKodlandМосква, www.kodland.org/Преподаватель pythonПреподавать детям язык программирования python.Июнь 2019 — Август 20193 месяцаMF KitchenКурьердоставка здорового питанияИюнь 2017 — Август 20173 месяцаLike me studioМоскваФотографФотографирование людей на пароме', 'tags': ['Git', ' Python', 'Linux', 'Asyncio', 'Aiogram', 'Nginx', 'Pandas', 'MySQL', 'PostgreSQL', 'Java', 'FastApi', 'Docker', 'Django', 'Docker-compose', 'Django Rest Framework', 'Nuxt'], 'link': 'https://hh.ru/resume/af83232500085dd6470039ed1f535879337868'}\n",
            "{'persons': ['Мужчина', '25 лет', '10 августа 1998', 'Москва', 'м. Щелковская'], 'moving': 'Москва, м. Щелковская, готов к переезду, готов к командировкам', 'name': 'Python Developer', 'salary': '', 'specialization_schedule': 'Специализации: Программист, разработчик Занятость: полная занятость График работы: полный день, гибкий график, удаленная работа', 'experience': 'Опыт работы 11 месяцев Июль 2022 — Май 202311 месяцевЯндекс ПрактикумМоскваPython Developer (обучение)1. Дипломный проект.\\n\\nСтэк: Python, Django, DRF, API, postgresql, nginx, docker, git, Linux, workflow\\nЦель: создание проекта для публикации рецептов, с возможностью подписываться на автора, добавления рецептов в избранное/список покупок. Рецепты из списка покупок можно скачать, в результате выдается файл с продуктами, которые используются в рецептах. БД наполняется из csv файла с помощью management команды. \\n\\nGithub: https://github.com/Junior-George/foodgram-project-react/\\n\\n2. Проект yamdb. Настройка удаленного сервера с проектом. Контеризация\\n\\nСтэк: Python, Django, DRF, postgresql, gunicorn, nginx, git, docker, workflow\\nЦель: настройка удаленного сервера, создание workflow для проекта с тестом flake8 и внутренних тестов проекта, создание и пуш образа проекта в DockerHub, деплой. Развертывание проекта (сайта) было на удаленном сервере с операционной системой Linux.\\n\\nGithub: https://github.com/Junior-George/yamdb_final/\\n\\n3. Проект api_final_yatube. Аутентификация по токену JWT.\\n\\nСтэк: Pyhton, Django, DRF, API, sqlite, git, JWT token\\nЦель: cоздание API для проекта, в котором пользователи могут регистрироваться и логиниться, создавать посты, читать посты других пользователей, а также комментировать эти посты.Добавить возможность пользователям подписываться друг на друга. Использование JWT-токенов для аутентификации.\\n\\nGithub: https://github.com/Junior-George/api_final_yatube/\\n\\n4. Проект hw04_test. Покрытие проекта тестами.\\n\\nСтэк: Python, Django, pytest, Unittest\\nЦель: покрытие проекта unuit-тастами. Были написаны тесты, проверяющие соответствие view-функции и html-шаблона, контекст html-шаблонов, при создании новых постов, эти посты появляются на необходимых url-ах. Также были написаны тесты для форм (forms.py).\\n\\nGithub: https://github.com/Junior-George/hw04_tests', 'tags': ['Python', 'Django Framework', 'Django Rest Framework', 'API', 'ООП', 'SQLite', 'PostgreSQL', 'Nginx', 'Docker', 'Linux', 'GitHub', 'Unittest', 'Алгоритмы и структуры данных', 'Асинхронное программирование'], 'link': 'https://hh.ru/resume/4bf784100003ebff3f0039ed1f565a51574b39'}\n",
            "{'persons': ['Мужчина', '26 лет', '3 марта 1998', 'Москва', 'м. Перово'], 'moving': 'Москва, м. Перово, готов к переезду, готов к редким командировкам', 'name': 'Python Developer', 'salary': '', 'specialization_schedule': 'Специализации: Программист, разработчик Сетевой инженер Занятость: полная занятость, частичная занятость График работы: полный день, сменный график, гибкий график, удаленная работа, вахтовый метод', 'experience': 'Опыт работы 4 года 3 месяца Июль 2021 — по настоящее время2 года 10 месяцевTraceAirPython Developer- разработка серверной части внутреннего продукта (Python)\\n- разработка CRUD-приложений (Python) \\n- взаимодействие с Google API и разработка решений на OAuth2 Framework\\n- написание автотестов (PyTest, ansible molecule)\\n- контроль версий Git (GitHub)\\n- автоматизация процессов CI/CD (Jenkins, Ansible, Terraform, Helm)\\n- администрирование Linux серверов, Kubernetes\\n- Контейнеризация приложений (Docker)Май 2020 — Апрель 20211 годМосковская Юридическая компанияСистемный администратор/Младший разработчик PHP- работа с орг. техникой.\\n- администрирование локальных сетей и камер видеонаблюдения.\\n- ремонт офисного оборудования и ПК\\n- администрирование самописной CRM системы\\n- доработка существующих решений и разработка нового функционала на PHP\\n- разработка web crawlers \\n- разработка парсеров сайтов на PHP.Май 2017 — Сентябрь 20175 месяцевМосОблЕИРЦСистемный администратор WindowsНастройка сетевого оборудования, администрирование маленького офиса(филиал)', 'tags': ['Django Framework', 'HTML', 'CSS', 'Flask', ' Python', 'SQLite', 'Git', 'PostgreSQL', 'Jinja', 'AWS', 'MongoDB', 'Linux', 'OAuth', 'OAuth2', 'Google API', 'Ansible', 'Kubernetes'], 'link': 'https://hh.ru/resume/a49ef7f300088e0a7f0039ed1f595645344371'}\n",
            "{'persons': ['Мужчина', '23 года', '11 сентября 2000', 'Москва'], 'moving': 'Москва, готов к переезду, готов к командировкам', 'name': 'Программист Python', 'salary': '100000 ₽ на руки', 'specialization_schedule': '100\\u2009000\\xa0₽ на\\xa0руки', 'experience': 'Опыт работы 4 года 1 месяц Июль 2023 — по настоящее время10 месяцевSkyRusПрограммист PythonРазработка  десктопного приложения на базе QtИюнь 2019 — Август 20223 года 3 месяцаИП Бухгалтер Ввел бухгалтерскую отчетность нескольких ИП в сфере грузовых перевозок.\\nЗа время работы научился пользоваться глонасс, вести финансовый учет, основы бухгалтерии, заключать договора,находить  водителей и привлекать клиентов.\\nЕсть опыт в делом общении', 'tags': ['Математический анализ', 'Математическая статистика', ' Python', 'Бухгалтерский учет', 'Деловое общение'], 'link': 'https://hh.ru/resume/cf75ec080007eeefb80039ed1f477730353642'}\n"
          ]
        }
      ]
    },
    {
      "cell_type": "code",
      "source": [
        "# Добавили навыки\n",
        "for a in link_resume[:10]:\n",
        "  print(get_resume(a))\n",
        "  time.sleep(1)"
      ],
      "metadata": {
        "colab": {
          "base_uri": "https://localhost:8080/"
        },
        "id": "2xpqSDGe9T2A",
        "outputId": "a32d1ed7-430e-43af-b84e-25fe2e23a106"
      },
      "execution_count": null,
      "outputs": [
        {
          "output_type": "stream",
          "name": "stdout",
          "text": [
            "{'persons': [], 'moving': '', 'name': '', 'salary': '', 'specialization_schedule': '', 'experience': '', 'tags': [], 'link': 'https://hh.ru/resume/7b1a872100086178440039ed1f61766c623747'}\n",
            "{'persons': ['Мужчина', '32 года', '6 января 1992', 'Москва', 'м. Тульская'], 'moving': 'Москва, м. Тульская, готов к переезду, готов к командировкам', 'name': 'Программист Python', 'salary': '350000 ₽ на руки', 'specialization_schedule': '350\\u2009000\\xa0₽ на\\xa0руки', 'experience': 'Опыт работы 8 лет 9 месяцев Ноябрь 2016 — по настоящее время7 лет 6 месяцевЯндексЕкатеринбург, www.yandex.ruИнформационные технологии, системная интеграция, интернет... Показать ещеПрограммист-разработчикЯндекс.Авиабилеты - разработка бэкенда\\n- Python, Django, Celery\\n- GoLang\\n- Yandex Database (YDB)\\n- YT (внутренняя MapReduce-система)\\n- Logbroker (внутренний аналог Kafka)\\n- Mysql, Postgresql, Mongo DB, Memcached, Redis, RabbitMQ, SentryИюль 2016 — Сентябрь 20163 месяцаЯндексЕкатеринбург, www.yandex.ruИнформационные технологии, системная интеграция, интернет... Показать ещеПрограммист-стажерПроведение экспериментов по машинному обучению для задачи классификации изображений. Применение алгоритмов Computer Vision, Deep Learning для прикладной задачи.Июль 2015 — Июнь 20161 годПрессИндексЕкатеринбургПрограммист Python- Редактировать описание должности- Разработка сервисов по загрузке новостного контента\\r\\n- Разработка ботов для индексации\\r\\n- Тестирование разрабатываемых модулей\\r\\n- Поддержание кодовой базы\\r\\n- Организация системы непрерывного интегрирования для python-проектов\\r\\n- Основной язык программирования Python\\r\\n- RabbitMQ, Redis, PostgreSQL\\r\\n- Работал в команде, использовал системы контроля версий GIT', 'tags': ['Python', 'Machine Learning', 'Linux', 'Computer Vision', 'Deep Learning', 'Mathematical Programming', 'Data Analysis', 'GoLang'], 'link': 'https://hh.ru/resume/fb7ea8c800035e24280039ed1f6d5a31676963'}\n",
            "{'persons': ['Мужчина', '23 года', '23 июня 2000', 'Москва', 'м. Сходненская'], 'moving': 'Москва, м. Сходненская, не готов к переезду, готов к командировкам', 'name': 'Python-разработчик/ Python developer', 'salary': '', 'specialization_schedule': 'Специализации: Программист, разработчик Занятость: полная занятость График работы: полный день', 'experience': 'Опыт работы 4 года 2 месяца Декабрь 2020 — по настоящее время3 года 5 месяцевФрилансМоскваИнформационные технологии, системная интеграция, интернет... Показать ещеPython-разработчикКлючевые навыки:\\n•\\t2-летний опыт работы в IT;\\n•\\tПонимание SQL запросов;\\n•\\tЗнание Python, Django, DRF, SQL;\\n•\\tНаличие завершенных проектов;\\n•\\tЗнание Git;\\n•\\tУмение разбираться в чужом коде;\\n•\\tАнглийский свободный;\\n•\\tОгромное желание развиваться в направлении разработки Python.\\n\\nПК: PyCharm, Python Programming, HTML, CSS\\n\\nФункциональные обязанности:\\n•\\tДоработка существующих/сопровождение сервисов (Python);\\n•\\tОбщение с постановщиками задач, обсуждение механизмов доработки/реализации;\\n•\\tВзаимодействие с менеджером, дизайнером, мобильными и frontend разработчиками;\\n•\\tНаписание и поддержка генераторов регулярных отчетов, интеграция с Google Sheets;\\n•\\tРазработка web-backend, Telegram-ботов, backoffice;\\n•\\tРеализация взаимодействия клиента с сервером.\\nМарт 2020 — Ноябрь 20209 месяцевЦентрСтройИнвест (Строительство жилых и нежилых зданий)МоскваСтроительство, недвижимость, эксплуатация, проектирование... Показать ещеПомощник системного администратора•\\tУстановка, настройка, тестирование и обеспечение работоспособности аппаратного и программного обеспечения;\\n•\\tПоддержка полного стека рабочих станций, периферийного оборудования;\\n•\\tУчастие в проектах по апгрейду сетевого оборудования;\\n•\\tПодбор и дальнейшая установка необходимого оборудования для обеспечения работоспособности новых помещений. \\n', 'tags': ['Исполнительность', 'Поиск информации в интернет', 'Пользователь ПК', 'Грамотная речь', 'Деловая переписка', 'Работа с большим объемом информации', 'Internet', 'MS PowerPoint', 'Английский язык', 'Телефонные переговоры', 'Грамотность', 'Электронная почта'], 'link': 'https://hh.ru/resume/6a9abec70008de01cc0039ed1f36445164474d'}\n",
            "{'persons': ['Мужчина', '24 года', '17 февраля 2000', 'Москва'], 'moving': 'Москва, не готов к переезду, не готов к командировкам', 'name': 'Программист', 'salary': '', 'specialization_schedule': 'Специализации: Программист, разработчик Занятость: полная занятость, частичная занятость График работы: полный день, сменный график, гибкий график, удаленная работа', 'experience': \"Опыт работы 3 года 4 месяца Июль 2023 — по настоящее время10 месяцевИсходный КодПрограммист PythonDevelopment of microservices on FastAPI. Refactoring legacy code bases using SOLID and best practices. Separate code base into modules to be reused in all projects. Optimizing workflow by introducing monorepository and dependency management through Poetry. Improving code quality by introducing linters (ruff) and forcing type annotation (pyright/mypy).\\n\\nStack: Python, FastAPI, SQLAlchemy 2.0+, alembic, PostgreSQL, SQLite, Redis, Opentelemetry (jaeger), httpx, aiohttp, pydantic, pytest, pyright, mypy, Poetry.Апрель 2023 — Июль 20234 месяцаUNIKAПрограммист PythonDeveloping identity protocol on Ethereum compatible blockchain. Implementing peer-to-peer overlay network for blockchain protocol. Integration with FaceTec for face recognition and implementing mechanisms for client identification on blockchain.\\n\\nStack: Python, FastAPI, MongoDB, IPv8, Solidity.Январь 2022 — Март 20231 год 3 месяцаArtistrazhПрограммист PythonDevelopment of asynchronous microservices (FastApi/Starlette), working with DBs (Postgresql, Sqlalchemy, TortoiseORM, Asyncpg), message brokers (rabbitmq + aio_pika, Kafka + Faust) \\n\\nDevelopment of high load web parsers (httpx, aiohttp, bs) \\nHighload parsing of the blockchain data (Solana + solana-py, solana web3.js, ethereum). \\n\\nDevelopment of the decentralized blockchain NFT marketplace (javascript + typescript, node.js + express, solana web3.js + metaplex) \\n\\nPython services optimisation (multiprocessing, multithreading, c-python extensions, asyncio) \\n\\nArchitecturing and development of distributed ddos protection system with geographical load-balancing and optimal path reverse proxying to the origin. \\nStack: \\nNode.js (Nest.js) - backend server management system. \\nAnsible + Molecule + Vagrant + Python + Docker - server deployment and CI/CD. \\nNginx + Lua (Openresty) - edge server's stack (L7 ddos protection, antibot system, CDN geo distributed system with optimal routing to origin). \\nPowerDNS + TS (Fastify) - edge dns server stack (point client to closest server). \\nLogging: vector (collection), loki (logs aggregation), influxdb (metrics), grafana (visualization). \\nUtility: PostgreSQL, Rabbitmq, Redis. \\nLittle bit of frontend on React.\\n\\nWorked on DDoS mitigation service using eBPF + XDP + bcc. Integration of ML model into this pipeline.\\nHave experience with Linux kernel and C.Декабрь 2020 — Июль 20218 месяцевgurulabsПрограммистРазработка бэкенда на python (Django, DRF, Flask), php (WordPress) \\nРазработка парсеров на python\\nВёрстка (html/css, sass/js).Январь 2019 — Апрель 20194 месяцаИндивидуальное предпринимательство / частная практика / фрилансРазработка сайтов.Работа с python (django/flask), работа с базами данных.\", 'tags': [' Python', 'JavaScript', 'Git', 'Bash', 'Linux', 'Английский язык', 'RabbitMQ', 'PostgreSQL', 'DRF', 'Couchbase', 'FastAPI', 'Nginx', 'Lua', 'Grafana', 'Loki', 'InfluxDB', 'Vector', 'Nest.js', 'Rust', 'eBPF', 'Node.js', 'Ansible', 'TypeScript', 'Паттерны проектирования', 'Проектирование систем', 'Основы компьютерных сетей', 'Системная архитектура', 'Управление проектами', 'Системное программирование'], 'link': 'https://hh.ru/resume/bee0660c00080a04f10039ed1f53547a664e75'}\n",
            "{'persons': ['Мужчина', '31 год', '28 февраля 1993', 'Владивосток'], 'moving': 'Владивосток, готов к переезду (Беларусь, Москва, Санкт-Петербург, Республика Крым, Армения, Краснодарский край), готов к командировкам', 'name': 'Программист Python', 'salary': '', 'specialization_schedule': 'Специализации: Программист, разработчик Занятость: полная занятость, частичная занятость, проектная работа График работы: полный день, удаленная работа', 'experience': 'Опыт работы 7 лет 8 месяцев Сентябрь 2016 — по настоящее время7 лет 8 месяцевМесто работы скрыто соискателемПрограммистPython 2.7, type script, postgreSql', 'tags': [], 'link': 'https://hh.ru/resume/b20787e00003b6474f0039ed1f354f4c624971'}\n",
            "{'persons': ['Мужчина', '25 лет', '12 июля 1998', 'Красноярск'], 'moving': 'Красноярск, готов к переезду (Москва, Грузия, Таиланд, Армения, Турция), готов к командировкам', 'name': 'Python разработчик', 'salary': '150000 ₽ на руки', 'specialization_schedule': '150\\u2009000\\xa0₽ на\\xa0руки', 'experience': 'Опыт работы 3 года 5 месяцев Декабрь 2021 — по настоящее время2 года 5 месяцевISSArtКрасноярск, issart.com/Информационные технологии, системная интеграция, интернет... Показать ещеPython разработчикКомпания - разработка различного софта на заказ, упор на ML, AI, CV.\\n\\nПринимал участие в нескольких разных проектах:\\n\\n1) Web-приложение для инвесторов (аналог TradingView).\\n- получение данных через Polygon API (https://polygon.io/);\\n- обработка данных - вычисление различных величин и характеристик для тикеров;\\n- хранение данных в NoSQL (Redis);\\n- оптимизация хранения для экономии ресурсов - разработал алгоритм инвалидации данных;\\n- API для передачи готовых данных на фронт;\\n\\n2) Приложение для фрилансеров (аналог UpWork).\\n- разработал скрипт-парсер для выгрузки данных обо всех исполнителях с Clutch (https://clutch.co) в json для последующего хранения в MongoDB. Данные планировалось использовать в проекте.\\n\\n3) Кроссплатформенное приложение для определения повреждений солнечных панелей по фото.\\n- доработал уже существующий десктоп-клиент, использовал PyQt4.\\n\\n4) Мобильное приложение для распознавания животных по фото. \\n- переписал сервис для распознавания с Kotlin на Python с использованием OpenCV;\\n- написал API, использовал FastAPI.\\n\\nWeb: Django Rest Framework, FastAPI;\\nDB: PostgreSQL, MongoDB, Redis, SQLAlchemy;\\nOther: OpenCV, BeautifulSoup4, PyQt4;\\nOps: Docker, Gitlab CI/CD, BashИюль 2021 — Декабрь 20216 месяцевAlenteКрасноярск, alente.ruИнформационные технологии, системная интеграция, интернет... Показать ещеPython разработчикКомпания - Web-студия, разработка корпоративных сайтов для продвижения на заказ.\\n\\nРазработка серверной части проектов (корпоративные сайты, интернет-магазины);\\nПроектирование баз данных;\\nПравки в легаси;\\nПокрытие кода юнит-тестами;\\n\\nДеплой приложений - контейнеризация и развертка на тестовых и боевых серверах;\\n\\nОбщение с заказчиком, оценка проектов;\\n\\nПроведение технических интервью, оценка портфолио и тестовых заданий кандидатов, менторство;\\n\\nWeb: Django, DRF\\nDB: PostgreSQL\\nDeploy: Docker, Nginx, LinuxФевраль 2021 — Июль 20216 месяцевСарафанкаКрасноярск, srf.digitalИнформационные технологии, системная интеграция, интернет... Показать ещеPython разработчикКомпания - стартап. Работа в небольшой команде (5 человек). Проект - агрегатор для заказа/продажи рекламы, продаж товаров (аналог Я.Маркета).\\n\\nРазработка серверной части приложения;\\nПроектирование базы данных; \\nНаписание юнит-тестов;\\nИнтеграция со сторонними API соц. сетей, банков, налоговой;\\nРазработка парсеров и алгоритмов обработки данных;\\n\\nWeb: Django, DRF;\\nDB: PostgreSQL, Redis;\\nOther: Celery, Elasticsearch;\\nOps: Docker; Июль 2020 — Август 20202 месяцаSibdevКрасноярск, sibdev.pro/Информационные технологии, системная интеграция, интернет... Показать ещеПрактикантВ ходе практики каждому было выдано индивидуальное задание (шаблон проекта). Я разработал бэкенд веб-приложения для создания и управление заведениями общественного питания. Была предусмотрена система баллов и рейтинг. Закончил с хорошим результатом - 4 место в рейтинге. Всего участников практики по моему направлению было ~150 человек. Практика проходила удаленно.\\n\\nWeb: Django, DRF;\\nDB: PostgreSQL, Redis; \\nDeploy: Docker, Nginx, Gunicorn;', 'tags': ['Python', 'Django Rest Framework', 'PostgreSQL', 'Docker', 'Git', 'Linux', 'Nginx', 'Redis', 'Celery', 'FastAPI', 'OpenCV', 'SQLAlchemy'], 'link': 'https://hh.ru/resume/429d47d9000864a3e30039ed1f6352654d3831'}\n",
            "{'persons': ['Мужчина', '21 год', '6 августа 2002', 'Москва'], 'moving': 'Москва, не готов к переезду, не готов к командировкам', 'name': 'python developer', 'salary': '110000 ₽ на руки', 'specialization_schedule': '110\\u2009000\\xa0₽ на\\xa0руки', 'experience': 'Опыт работы 4 года Декабрь 2023 — по настоящее время5 месяцевООО ЦЭСПрограммист-разработчик- Разработка restful api на фреймворке django\\n- Управление Бд Postgresql\\n- Помощь в деплое приложений\\n- Работа с docker контейнерами\\n- Работа с yandex s3\\n- Разработка frontend приложения на vue/nuzt.js\\n- Разработка grpc микросервисов\\n- Разработка микросервиса на fastapi\\n- Поддержка кода на golang\\n- Поддержка кода на reactОктябрь 2023 — по настоящее время7 месяцевРТУ МИРЭАОбразовательные учреждения... Показать ещеЛаборант- Сбор данных пациентов\\n- Создание сервиса по сбору данных на фреймворке django и фреймворке vue\\n- Создание модели на catboost для классификации трудных дыхательных путей\\n- Создание модели ИИ Resnet для классификации изображений маллампатиДекабрь 2021 — Январь 20242 года 2 месяцаExpoinexpoin.io/Программист-разработчикЗанимаюсь сборкой проектов на Qt/C++. Также пишу вебсерверы и ботов на python.Август 2022 — Август 20231 год 1 месяцXoxlov StoreМосква, vk.com/xoxlovstoreРозничная торговля... Показать ещеПрограммист-разработчикЗанимаюсь созданием сайта на Django. В мои обязанности входят: руководство командой, backend разработка, devops.\\nТакже занимаюсь созданием магазина в телеграмм. В мои обязанности входит разработка бота с использованием библиотеки aiogram.Февраль 2023 — Июнь 20235 месяцевShishkaBoardУправление многопрофильными активами... Показать ещеПрограммист-разработчикВ мои обязанности входит разработка api на DRF, тестирование api. Ноябрь 2020 — Май 20221 год 7 месяцевKodlandМосква, www.kodland.org/Преподаватель pythonПреподавать детям язык программирования python.Июнь 2019 — Август 20193 месяцаMF KitchenКурьердоставка здорового питанияИюнь 2017 — Август 20173 месяцаLike me studioМоскваФотографФотографирование людей на пароме', 'tags': ['Git', ' Python', 'Linux', 'Asyncio', 'Aiogram', 'Nginx', 'Pandas', 'MySQL', 'PostgreSQL', 'Java', 'FastApi', 'Docker', 'Django', 'Docker-compose', 'Django Rest Framework', 'Nuxt'], 'link': 'https://hh.ru/resume/af83232500085dd6470039ed1f535879337868'}\n",
            "{'persons': ['Мужчина', '25 лет', '10 августа 1998', 'Москва', 'м. Щелковская'], 'moving': 'Москва, м. Щелковская, готов к переезду, готов к командировкам', 'name': 'Python Developer', 'salary': '', 'specialization_schedule': 'Специализации: Программист, разработчик Занятость: полная занятость График работы: полный день, гибкий график, удаленная работа', 'experience': 'Опыт работы 11 месяцев Июль 2022 — Май 202311 месяцевЯндекс ПрактикумМоскваPython Developer (обучение)1. Дипломный проект.\\n\\nСтэк: Python, Django, DRF, API, postgresql, nginx, docker, git, Linux, workflow\\nЦель: создание проекта для публикации рецептов, с возможностью подписываться на автора, добавления рецептов в избранное/список покупок. Рецепты из списка покупок можно скачать, в результате выдается файл с продуктами, которые используются в рецептах. БД наполняется из csv файла с помощью management команды. \\n\\nGithub: https://github.com/Junior-George/foodgram-project-react/\\n\\n2. Проект yamdb. Настройка удаленного сервера с проектом. Контеризация\\n\\nСтэк: Python, Django, DRF, postgresql, gunicorn, nginx, git, docker, workflow\\nЦель: настройка удаленного сервера, создание workflow для проекта с тестом flake8 и внутренних тестов проекта, создание и пуш образа проекта в DockerHub, деплой. Развертывание проекта (сайта) было на удаленном сервере с операционной системой Linux.\\n\\nGithub: https://github.com/Junior-George/yamdb_final/\\n\\n3. Проект api_final_yatube. Аутентификация по токену JWT.\\n\\nСтэк: Pyhton, Django, DRF, API, sqlite, git, JWT token\\nЦель: cоздание API для проекта, в котором пользователи могут регистрироваться и логиниться, создавать посты, читать посты других пользователей, а также комментировать эти посты.Добавить возможность пользователям подписываться друг на друга. Использование JWT-токенов для аутентификации.\\n\\nGithub: https://github.com/Junior-George/api_final_yatube/\\n\\n4. Проект hw04_test. Покрытие проекта тестами.\\n\\nСтэк: Python, Django, pytest, Unittest\\nЦель: покрытие проекта unuit-тастами. Были написаны тесты, проверяющие соответствие view-функции и html-шаблона, контекст html-шаблонов, при создании новых постов, эти посты появляются на необходимых url-ах. Также были написаны тесты для форм (forms.py).\\n\\nGithub: https://github.com/Junior-George/hw04_tests', 'tags': ['Python', 'Django Framework', 'Django Rest Framework', 'API', 'ООП', 'SQLite', 'PostgreSQL', 'Nginx', 'Docker', 'Linux', 'GitHub', 'Unittest', 'Алгоритмы и структуры данных', 'Асинхронное программирование'], 'link': 'https://hh.ru/resume/4bf784100003ebff3f0039ed1f565a51574b39'}\n",
            "{'persons': ['Мужчина', '26 лет', '3 марта 1998', 'Москва', 'м. Перово'], 'moving': 'Москва, м. Перово, готов к переезду, готов к редким командировкам', 'name': 'Python Developer', 'salary': '', 'specialization_schedule': 'Специализации: Программист, разработчик Сетевой инженер Занятость: полная занятость, частичная занятость График работы: полный день, сменный график, гибкий график, удаленная работа, вахтовый метод', 'experience': 'Опыт работы 4 года 3 месяца Июль 2021 — по настоящее время2 года 10 месяцевTraceAirPython Developer- разработка серверной части внутреннего продукта (Python)\\n- разработка CRUD-приложений (Python) \\n- взаимодействие с Google API и разработка решений на OAuth2 Framework\\n- написание автотестов (PyTest, ansible molecule)\\n- контроль версий Git (GitHub)\\n- автоматизация процессов CI/CD (Jenkins, Ansible, Terraform, Helm)\\n- администрирование Linux серверов, Kubernetes\\n- Контейнеризация приложений (Docker)Май 2020 — Апрель 20211 годМосковская Юридическая компанияСистемный администратор/Младший разработчик PHP- работа с орг. техникой.\\n- администрирование локальных сетей и камер видеонаблюдения.\\n- ремонт офисного оборудования и ПК\\n- администрирование самописной CRM системы\\n- доработка существующих решений и разработка нового функционала на PHP\\n- разработка web crawlers \\n- разработка парсеров сайтов на PHP.Май 2017 — Сентябрь 20175 месяцевМосОблЕИРЦСистемный администратор WindowsНастройка сетевого оборудования, администрирование маленького офиса(филиал)', 'tags': ['Django Framework', 'HTML', 'CSS', 'Flask', ' Python', 'SQLite', 'Git', 'PostgreSQL', 'Jinja', 'AWS', 'MongoDB', 'Linux', 'OAuth', 'OAuth2', 'Google API', 'Ansible', 'Kubernetes'], 'link': 'https://hh.ru/resume/a49ef7f300088e0a7f0039ed1f595645344371'}\n",
            "{'persons': ['Мужчина', '23 года', '11 сентября 2000', 'Москва'], 'moving': 'Москва, готов к переезду, готов к командировкам', 'name': 'Программист Python', 'salary': '100000 ₽ на руки', 'specialization_schedule': '100\\u2009000\\xa0₽ на\\xa0руки', 'experience': 'Опыт работы 4 года 1 месяц Июль 2023 — по настоящее время10 месяцевSkyRusПрограммист PythonРазработка  десктопного приложения на базе QtИюнь 2019 — Август 20223 года 3 месяцаИП Бухгалтер Ввел бухгалтерскую отчетность нескольких ИП в сфере грузовых перевозок.\\nЗа время работы научился пользоваться глонасс, вести финансовый учет, основы бухгалтерии, заключать договора,находить  водителей и привлекать клиентов.\\nЕсть опыт в делом общении', 'tags': ['Математический анализ', 'Математическая статистика', ' Python', 'Бухгалтерский учет', 'Деловое общение'], 'link': 'https://hh.ru/resume/cf75ec080007eeefb80039ed1f477730353642'}\n"
          ]
        }
      ]
    },
    {
      "cell_type": "code",
      "source": [
        "for a in link_resume[:10]:\n",
        "  print(get_resume(a))\n",
        "  time.sleep(1)"
      ],
      "metadata": {
        "colab": {
          "base_uri": "https://localhost:8080/"
        },
        "id": "OwbMMfMoJjxA",
        "outputId": "d8531c9b-0a86-4151-e068-413d3dd40a78"
      },
      "execution_count": null,
      "outputs": [
        {
          "output_type": "stream",
          "name": "stdout",
          "text": [
            "{'persons': ['Мужчина', '24 года', '10 декабря 1999', 'Новосибирск', 'м. Заельцовская'], 'moving': 'Новосибирск, м. Заельцовская, готов к переезду (Москва, Санкт-Петербург, Другие регионы), не готов к командировкам', 'name': 'Python developer', 'salary': '', 'specialization_schedule': 'Специализации: Программист, разработчик Занятость: полная занятость График работы: полный день, сменный график, гибкий график, удаленная работа', 'experience': 'Опыт работы 2 года 4 месяца Март 2023 — по настоящее время1 год 2 месяцаWhitelist CapitalЕкатеринбург, whitelist.capital/Информационные технологии, системная интеграция, интернет... Показать ещеPython developerBackend developerАвгуст 2022 — Октябрь 20223 месяцаВЕБ РИЭЛТИМосква, idaproject.com/Информационные технологии, системная интеграция, интернет... Показать ещеПрограммист Python1. Backend\\nСтек технологий:\\nPython, Django + DRF, Docker, PostgreSQL, Redis, Celery, unit test.\\n\\nФункционал:\\n- Разработка backend части сайта, обсуждение с frontend разработчиками; \\n- Тестирование нового функционала;\\n- Исправление различных багов в проектах;\\n- Разработка административной части сайта;\\n- Написание документации.Сентябрь 2021 — Август 20221 годHEALTHMONITORНовосибирск, www.healthmonitor.pro/ruИнформационные технологии, системная интеграция, интернет... Показать ещеPython developerРазработка и покрытия кода тестами проекта для медицинской диагностики. \\n\\n1. Backend\\nСтек технологий:\\nPython, Django, Docker, PostgreSQL, Redis, Celery, unit test, Falcon, Flask, Selenium.\\n\\nФункционал:\\n- Разработка backend.\\n- Покрытие тестами проекта на 100% (coverage lib);\\n- Исправление багов в проектах;\\n- Разработка административной части сайта, и написание логики поведения;\\n- Разработка JWT авторизации;\\n- Интеграции со сторонними сервисами с использованием API;\\n- Парсинг сложных сайтов с использованием Selenium.\\n- Написание документации.\\n\\n2. Frontend.\\nСтек технологий:\\nHTML, CSS, JS.\\n\\nФункционал:\\n- Разработка верстки сайтов;\\n- Разработка JS логики.\\n- Разработка генерации чеков заказов пользователя.\\n\\nПоддержка существующих проектов, разработка новых приложений с нуля. Интеграция сторонних сервисов. Документирование и тестирование написанного кода.\\n ', 'tags': ['Git', 'Python', 'ООП', 'Django Framework', 'HTML5', 'CSS3', 'JavaScript', 'Django REST framework', 'Falcon', 'Redis', 'SQL', 'Selenium', 'Celery', 'Docker', 'Flask'], 'link': 'https://hh.ru/resume/7b1a872100086178440039ed1f61766c623747'}\n",
            "{'persons': ['Мужчина', '32 года', '6 января 1992', 'Москва', 'м. Тульская'], 'moving': 'Москва, м. Тульская, готов к переезду, готов к командировкам', 'name': 'Программист Python', 'salary': '350000 ₽ на руки', 'specialization_schedule': '350\\u2009000\\xa0₽ на\\xa0руки', 'experience': 'Опыт работы 8 лет 9 месяцев Ноябрь 2016 — по настоящее время7 лет 6 месяцевЯндексЕкатеринбург, www.yandex.ruИнформационные технологии, системная интеграция, интернет... Показать ещеПрограммист-разработчикЯндекс.Авиабилеты - разработка бэкенда\\n- Python, Django, Celery\\n- GoLang\\n- Yandex Database (YDB)\\n- YT (внутренняя MapReduce-система)\\n- Logbroker (внутренний аналог Kafka)\\n- Mysql, Postgresql, Mongo DB, Memcached, Redis, RabbitMQ, SentryИюль 2016 — Сентябрь 20163 месяцаЯндексЕкатеринбург, www.yandex.ruИнформационные технологии, системная интеграция, интернет... Показать ещеПрограммист-стажерПроведение экспериментов по машинному обучению для задачи классификации изображений. Применение алгоритмов Computer Vision, Deep Learning для прикладной задачи.Июль 2015 — Июнь 20161 годПрессИндексЕкатеринбургПрограммист Python- Редактировать описание должности- Разработка сервисов по загрузке новостного контента\\r\\n- Разработка ботов для индексации\\r\\n- Тестирование разрабатываемых модулей\\r\\n- Поддержание кодовой базы\\r\\n- Организация системы непрерывного интегрирования для python-проектов\\r\\n- Основной язык программирования Python\\r\\n- RabbitMQ, Redis, PostgreSQL\\r\\n- Работал в команде, использовал системы контроля версий GIT', 'tags': ['Python', 'Machine Learning', 'Linux', 'Computer Vision', 'Deep Learning', 'Mathematical Programming', 'Data Analysis', 'GoLang'], 'link': 'https://hh.ru/resume/fb7ea8c800035e24280039ed1f6d5a31676963'}\n",
            "{'persons': ['Мужчина', '23 года', '23 июня 2000', 'Москва', 'м. Сходненская'], 'moving': 'Москва, м. Сходненская, не готов к переезду, готов к командировкам', 'name': 'Python-разработчик/ Python developer', 'salary': '', 'specialization_schedule': 'Специализации: Программист, разработчик Занятость: полная занятость График работы: полный день', 'experience': 'Опыт работы 4 года 2 месяца Декабрь 2020 — по настоящее время3 года 5 месяцевФрилансМоскваИнформационные технологии, системная интеграция, интернет... Показать ещеPython-разработчикКлючевые навыки:\\n•\\t2-летний опыт работы в IT;\\n•\\tПонимание SQL запросов;\\n•\\tЗнание Python, Django, DRF, SQL;\\n•\\tНаличие завершенных проектов;\\n•\\tЗнание Git;\\n•\\tУмение разбираться в чужом коде;\\n•\\tАнглийский свободный;\\n•\\tОгромное желание развиваться в направлении разработки Python.\\n\\nПК: PyCharm, Python Programming, HTML, CSS\\n\\nФункциональные обязанности:\\n•\\tДоработка существующих/сопровождение сервисов (Python);\\n•\\tОбщение с постановщиками задач, обсуждение механизмов доработки/реализации;\\n•\\tВзаимодействие с менеджером, дизайнером, мобильными и frontend разработчиками;\\n•\\tНаписание и поддержка генераторов регулярных отчетов, интеграция с Google Sheets;\\n•\\tРазработка web-backend, Telegram-ботов, backoffice;\\n•\\tРеализация взаимодействия клиента с сервером.\\nМарт 2020 — Ноябрь 20209 месяцевЦентрСтройИнвест (Строительство жилых и нежилых зданий)МоскваСтроительство, недвижимость, эксплуатация, проектирование... Показать ещеПомощник системного администратора•\\tУстановка, настройка, тестирование и обеспечение работоспособности аппаратного и программного обеспечения;\\n•\\tПоддержка полного стека рабочих станций, периферийного оборудования;\\n•\\tУчастие в проектах по апгрейду сетевого оборудования;\\n•\\tПодбор и дальнейшая установка необходимого оборудования для обеспечения работоспособности новых помещений. \\n', 'tags': ['Исполнительность', 'Поиск информации в интернет', 'Пользователь ПК', 'Грамотная речь', 'Деловая переписка', 'Работа с большим объемом информации', 'Internet', 'MS PowerPoint', 'Английский язык', 'Телефонные переговоры', 'Грамотность', 'Электронная почта'], 'link': 'https://hh.ru/resume/6a9abec70008de01cc0039ed1f36445164474d'}\n",
            "{'persons': ['Мужчина', '24 года', '17 февраля 2000', 'Москва'], 'moving': 'Москва, не готов к переезду, не готов к командировкам', 'name': 'Программист', 'salary': '', 'specialization_schedule': 'Специализации: Программист, разработчик Занятость: полная занятость, частичная занятость График работы: полный день, сменный график, гибкий график, удаленная работа', 'experience': \"Опыт работы 3 года 4 месяца Июль 2023 — по настоящее время10 месяцевИсходный КодПрограммист PythonDevelopment of microservices on FastAPI. Refactoring legacy code bases using SOLID and best practices. Separate code base into modules to be reused in all projects. Optimizing workflow by introducing monorepository and dependency management through Poetry. Improving code quality by introducing linters (ruff) and forcing type annotation (pyright/mypy).\\n\\nStack: Python, FastAPI, SQLAlchemy 2.0+, alembic, PostgreSQL, SQLite, Redis, Opentelemetry (jaeger), httpx, aiohttp, pydantic, pytest, pyright, mypy, Poetry.Апрель 2023 — Июль 20234 месяцаUNIKAПрограммист PythonDeveloping identity protocol on Ethereum compatible blockchain. Implementing peer-to-peer overlay network for blockchain protocol. Integration with FaceTec for face recognition and implementing mechanisms for client identification on blockchain.\\n\\nStack: Python, FastAPI, MongoDB, IPv8, Solidity.Январь 2022 — Март 20231 год 3 месяцаArtistrazhПрограммист PythonDevelopment of asynchronous microservices (FastApi/Starlette), working with DBs (Postgresql, Sqlalchemy, TortoiseORM, Asyncpg), message brokers (rabbitmq + aio_pika, Kafka + Faust) \\n\\nDevelopment of high load web parsers (httpx, aiohttp, bs) \\nHighload parsing of the blockchain data (Solana + solana-py, solana web3.js, ethereum). \\n\\nDevelopment of the decentralized blockchain NFT marketplace (javascript + typescript, node.js + express, solana web3.js + metaplex) \\n\\nPython services optimisation (multiprocessing, multithreading, c-python extensions, asyncio) \\n\\nArchitecturing and development of distributed ddos protection system with geographical load-balancing and optimal path reverse proxying to the origin. \\nStack: \\nNode.js (Nest.js) - backend server management system. \\nAnsible + Molecule + Vagrant + Python + Docker - server deployment and CI/CD. \\nNginx + Lua (Openresty) - edge server's stack (L7 ddos protection, antibot system, CDN geo distributed system with optimal routing to origin). \\nPowerDNS + TS (Fastify) - edge dns server stack (point client to closest server). \\nLogging: vector (collection), loki (logs aggregation), influxdb (metrics), grafana (visualization). \\nUtility: PostgreSQL, Rabbitmq, Redis. \\nLittle bit of frontend on React.\\n\\nWorked on DDoS mitigation service using eBPF + XDP + bcc. Integration of ML model into this pipeline.\\nHave experience with Linux kernel and C.Декабрь 2020 — Июль 20218 месяцевgurulabsПрограммистРазработка бэкенда на python (Django, DRF, Flask), php (WordPress) \\nРазработка парсеров на python\\nВёрстка (html/css, sass/js).Январь 2019 — Апрель 20194 месяцаИндивидуальное предпринимательство / частная практика / фрилансРазработка сайтов.Работа с python (django/flask), работа с базами данных.\", 'tags': [' Python', 'JavaScript', 'Git', 'Bash', 'Linux', 'Английский язык', 'RabbitMQ', 'PostgreSQL', 'DRF', 'Couchbase', 'FastAPI', 'Nginx', 'Lua', 'Grafana', 'Loki', 'InfluxDB', 'Vector', 'Nest.js', 'Rust', 'eBPF', 'Node.js', 'Ansible', 'TypeScript', 'Паттерны проектирования', 'Проектирование систем', 'Основы компьютерных сетей', 'Системная архитектура', 'Управление проектами', 'Системное программирование'], 'link': 'https://hh.ru/resume/bee0660c00080a04f10039ed1f53547a664e75'}\n",
            "{'persons': ['Мужчина', '31 год', '28 февраля 1993', 'Владивосток'], 'moving': 'Владивосток, готов к переезду (Беларусь, Москва, Санкт-Петербург, Республика Крым, Армения, Краснодарский край), готов к командировкам', 'name': 'Программист Python', 'salary': '', 'specialization_schedule': 'Специализации: Программист, разработчик Занятость: полная занятость, частичная занятость, проектная работа График работы: полный день, удаленная работа', 'experience': 'Опыт работы 7 лет 8 месяцев Сентябрь 2016 — по настоящее время7 лет 8 месяцевМесто работы скрыто соискателемПрограммистPython 2.7, type script, postgreSql', 'tags': [], 'link': 'https://hh.ru/resume/b20787e00003b6474f0039ed1f354f4c624971'}\n",
            "{'persons': ['Мужчина', '25 лет', '12 июля 1998', 'Красноярск'], 'moving': 'Красноярск, готов к переезду (Москва, Грузия, Таиланд, Армения, Турция), готов к командировкам', 'name': 'Python разработчик', 'salary': '150000 ₽ на руки', 'specialization_schedule': '150\\u2009000\\xa0₽ на\\xa0руки', 'experience': 'Опыт работы 3 года 5 месяцев Декабрь 2021 — по настоящее время2 года 5 месяцевISSArtКрасноярск, issart.com/Информационные технологии, системная интеграция, интернет... Показать ещеPython разработчикКомпания - разработка различного софта на заказ, упор на ML, AI, CV.\\n\\nПринимал участие в нескольких разных проектах:\\n\\n1) Web-приложение для инвесторов (аналог TradingView).\\n- получение данных через Polygon API (https://polygon.io/);\\n- обработка данных - вычисление различных величин и характеристик для тикеров;\\n- хранение данных в NoSQL (Redis);\\n- оптимизация хранения для экономии ресурсов - разработал алгоритм инвалидации данных;\\n- API для передачи готовых данных на фронт;\\n\\n2) Приложение для фрилансеров (аналог UpWork).\\n- разработал скрипт-парсер для выгрузки данных обо всех исполнителях с Clutch (https://clutch.co) в json для последующего хранения в MongoDB. Данные планировалось использовать в проекте.\\n\\n3) Кроссплатформенное приложение для определения повреждений солнечных панелей по фото.\\n- доработал уже существующий десктоп-клиент, использовал PyQt4.\\n\\n4) Мобильное приложение для распознавания животных по фото. \\n- переписал сервис для распознавания с Kotlin на Python с использованием OpenCV;\\n- написал API, использовал FastAPI.\\n\\nWeb: Django Rest Framework, FastAPI;\\nDB: PostgreSQL, MongoDB, Redis, SQLAlchemy;\\nOther: OpenCV, BeautifulSoup4, PyQt4;\\nOps: Docker, Gitlab CI/CD, BashИюль 2021 — Декабрь 20216 месяцевAlenteКрасноярск, alente.ruИнформационные технологии, системная интеграция, интернет... Показать ещеPython разработчикКомпания - Web-студия, разработка корпоративных сайтов для продвижения на заказ.\\n\\nРазработка серверной части проектов (корпоративные сайты, интернет-магазины);\\nПроектирование баз данных;\\nПравки в легаси;\\nПокрытие кода юнит-тестами;\\n\\nДеплой приложений - контейнеризация и развертка на тестовых и боевых серверах;\\n\\nОбщение с заказчиком, оценка проектов;\\n\\nПроведение технических интервью, оценка портфолио и тестовых заданий кандидатов, менторство;\\n\\nWeb: Django, DRF\\nDB: PostgreSQL\\nDeploy: Docker, Nginx, LinuxФевраль 2021 — Июль 20216 месяцевСарафанкаКрасноярск, srf.digitalИнформационные технологии, системная интеграция, интернет... Показать ещеPython разработчикКомпания - стартап. Работа в небольшой команде (5 человек). Проект - агрегатор для заказа/продажи рекламы, продаж товаров (аналог Я.Маркета).\\n\\nРазработка серверной части приложения;\\nПроектирование базы данных; \\nНаписание юнит-тестов;\\nИнтеграция со сторонними API соц. сетей, банков, налоговой;\\nРазработка парсеров и алгоритмов обработки данных;\\n\\nWeb: Django, DRF;\\nDB: PostgreSQL, Redis;\\nOther: Celery, Elasticsearch;\\nOps: Docker; Июль 2020 — Август 20202 месяцаSibdevКрасноярск, sibdev.pro/Информационные технологии, системная интеграция, интернет... Показать ещеПрактикантВ ходе практики каждому было выдано индивидуальное задание (шаблон проекта). Я разработал бэкенд веб-приложения для создания и управление заведениями общественного питания. Была предусмотрена система баллов и рейтинг. Закончил с хорошим результатом - 4 место в рейтинге. Всего участников практики по моему направлению было ~150 человек. Практика проходила удаленно.\\n\\nWeb: Django, DRF;\\nDB: PostgreSQL, Redis; \\nDeploy: Docker, Nginx, Gunicorn;', 'tags': ['Python', 'Django Rest Framework', 'PostgreSQL', 'Docker', 'Git', 'Linux', 'Nginx', 'Redis', 'Celery', 'FastAPI', 'OpenCV', 'SQLAlchemy'], 'link': 'https://hh.ru/resume/429d47d9000864a3e30039ed1f6352654d3831'}\n",
            "{'persons': ['Мужчина', '21 год', '6 августа 2002', 'Москва'], 'moving': 'Москва, не готов к переезду, не готов к командировкам', 'name': 'python developer', 'salary': '110000 ₽ на руки', 'specialization_schedule': '110\\u2009000\\xa0₽ на\\xa0руки', 'experience': 'Опыт работы 4 года Декабрь 2023 — по настоящее время5 месяцевООО ЦЭСПрограммист-разработчик- Разработка restful api на фреймворке django\\n- Управление Бд Postgresql\\n- Помощь в деплое приложений\\n- Работа с docker контейнерами\\n- Работа с yandex s3\\n- Разработка frontend приложения на vue/nuzt.js\\n- Разработка grpc микросервисов\\n- Разработка микросервиса на fastapi\\n- Поддержка кода на golang\\n- Поддержка кода на reactОктябрь 2023 — по настоящее время7 месяцевРТУ МИРЭАОбразовательные учреждения... Показать ещеЛаборант- Сбор данных пациентов\\n- Создание сервиса по сбору данных на фреймворке django и фреймворке vue\\n- Создание модели на catboost для классификации трудных дыхательных путей\\n- Создание модели ИИ Resnet для классификации изображений маллампатиДекабрь 2021 — Январь 20242 года 2 месяцаExpoinexpoin.io/Программист-разработчикЗанимаюсь сборкой проектов на Qt/C++. Также пишу вебсерверы и ботов на python.Август 2022 — Август 20231 год 1 месяцXoxlov StoreМосква, vk.com/xoxlovstoreРозничная торговля... Показать ещеПрограммист-разработчикЗанимаюсь созданием сайта на Django. В мои обязанности входят: руководство командой, backend разработка, devops.\\nТакже занимаюсь созданием магазина в телеграмм. В мои обязанности входит разработка бота с использованием библиотеки aiogram.Февраль 2023 — Июнь 20235 месяцевShishkaBoardУправление многопрофильными активами... Показать ещеПрограммист-разработчикВ мои обязанности входит разработка api на DRF, тестирование api. Ноябрь 2020 — Май 20221 год 7 месяцевKodlandМосква, www.kodland.org/Преподаватель pythonПреподавать детям язык программирования python.Июнь 2019 — Август 20193 месяцаMF KitchenКурьердоставка здорового питанияИюнь 2017 — Август 20173 месяцаLike me studioМоскваФотографФотографирование людей на пароме', 'tags': ['Git', ' Python', 'Linux', 'Asyncio', 'Aiogram', 'Nginx', 'Pandas', 'MySQL', 'PostgreSQL', 'Java', 'FastApi', 'Docker', 'Django', 'Docker-compose', 'Django Rest Framework', 'Nuxt'], 'link': 'https://hh.ru/resume/af83232500085dd6470039ed1f535879337868'}\n",
            "{'persons': ['Мужчина', '25 лет', '10 августа 1998', 'Москва', 'м. Щелковская'], 'moving': 'Москва, м. Щелковская, готов к переезду, готов к командировкам', 'name': 'Python Developer', 'salary': '', 'specialization_schedule': 'Специализации: Программист, разработчик Занятость: полная занятость График работы: полный день, гибкий график, удаленная работа', 'experience': 'Опыт работы 11 месяцев Июль 2022 — Май 202311 месяцевЯндекс ПрактикумМоскваPython Developer (обучение)1. Дипломный проект.\\n\\nСтэк: Python, Django, DRF, API, postgresql, nginx, docker, git, Linux, workflow\\nЦель: создание проекта для публикации рецептов, с возможностью подписываться на автора, добавления рецептов в избранное/список покупок. Рецепты из списка покупок можно скачать, в результате выдается файл с продуктами, которые используются в рецептах. БД наполняется из csv файла с помощью management команды. \\n\\nGithub: https://github.com/Junior-George/foodgram-project-react/\\n\\n2. Проект yamdb. Настройка удаленного сервера с проектом. Контеризация\\n\\nСтэк: Python, Django, DRF, postgresql, gunicorn, nginx, git, docker, workflow\\nЦель: настройка удаленного сервера, создание workflow для проекта с тестом flake8 и внутренних тестов проекта, создание и пуш образа проекта в DockerHub, деплой. Развертывание проекта (сайта) было на удаленном сервере с операционной системой Linux.\\n\\nGithub: https://github.com/Junior-George/yamdb_final/\\n\\n3. Проект api_final_yatube. Аутентификация по токену JWT.\\n\\nСтэк: Pyhton, Django, DRF, API, sqlite, git, JWT token\\nЦель: cоздание API для проекта, в котором пользователи могут регистрироваться и логиниться, создавать посты, читать посты других пользователей, а также комментировать эти посты.Добавить возможность пользователям подписываться друг на друга. Использование JWT-токенов для аутентификации.\\n\\nGithub: https://github.com/Junior-George/api_final_yatube/\\n\\n4. Проект hw04_test. Покрытие проекта тестами.\\n\\nСтэк: Python, Django, pytest, Unittest\\nЦель: покрытие проекта unuit-тастами. Были написаны тесты, проверяющие соответствие view-функции и html-шаблона, контекст html-шаблонов, при создании новых постов, эти посты появляются на необходимых url-ах. Также были написаны тесты для форм (forms.py).\\n\\nGithub: https://github.com/Junior-George/hw04_tests', 'tags': ['Python', 'Django Framework', 'Django Rest Framework', 'API', 'ООП', 'SQLite', 'PostgreSQL', 'Nginx', 'Docker', 'Linux', 'GitHub', 'Unittest', 'Алгоритмы и структуры данных', 'Асинхронное программирование'], 'link': 'https://hh.ru/resume/4bf784100003ebff3f0039ed1f565a51574b39'}\n",
            "{'persons': ['Мужчина', '26 лет', '3 марта 1998', 'Москва', 'м. Перово'], 'moving': 'Москва, м. Перово, готов к переезду, готов к редким командировкам', 'name': 'Python Developer', 'salary': '', 'specialization_schedule': 'Специализации: Программист, разработчик Сетевой инженер Занятость: полная занятость, частичная занятость График работы: полный день, сменный график, гибкий график, удаленная работа, вахтовый метод', 'experience': 'Опыт работы 4 года 3 месяца Июль 2021 — по настоящее время2 года 10 месяцевTraceAirPython Developer- разработка серверной части внутреннего продукта (Python)\\n- разработка CRUD-приложений (Python) \\n- взаимодействие с Google API и разработка решений на OAuth2 Framework\\n- написание автотестов (PyTest, ansible molecule)\\n- контроль версий Git (GitHub)\\n- автоматизация процессов CI/CD (Jenkins, Ansible, Terraform, Helm)\\n- администрирование Linux серверов, Kubernetes\\n- Контейнеризация приложений (Docker)Май 2020 — Апрель 20211 годМосковская Юридическая компанияСистемный администратор/Младший разработчик PHP- работа с орг. техникой.\\n- администрирование локальных сетей и камер видеонаблюдения.\\n- ремонт офисного оборудования и ПК\\n- администрирование самописной CRM системы\\n- доработка существующих решений и разработка нового функционала на PHP\\n- разработка web crawlers \\n- разработка парсеров сайтов на PHP.Май 2017 — Сентябрь 20175 месяцевМосОблЕИРЦСистемный администратор WindowsНастройка сетевого оборудования, администрирование маленького офиса(филиал)', 'tags': ['Django Framework', 'HTML', 'CSS', 'Flask', ' Python', 'SQLite', 'Git', 'PostgreSQL', 'Jinja', 'AWS', 'MongoDB', 'Linux', 'OAuth', 'OAuth2', 'Google API', 'Ansible', 'Kubernetes'], 'link': 'https://hh.ru/resume/a49ef7f300088e0a7f0039ed1f595645344371'}\n",
            "{'persons': ['Мужчина', '23 года', '11 сентября 2000', 'Москва'], 'moving': 'Москва, готов к переезду, готов к командировкам', 'name': 'Программист Python', 'salary': '100000 ₽ на руки', 'specialization_schedule': '100\\u2009000\\xa0₽ на\\xa0руки', 'experience': 'Опыт работы 4 года 1 месяц Июль 2023 — по настоящее время10 месяцевSkyRusПрограммист PythonРазработка  десктопного приложения на базе QtИюнь 2019 — Август 20223 года 3 месяцаИП Бухгалтер Ввел бухгалтерскую отчетность нескольких ИП в сфере грузовых перевозок.\\nЗа время работы научился пользоваться глонасс, вести финансовый учет, основы бухгалтерии, заключать договора,находить  водителей и привлекать клиентов.\\nЕсть опыт в делом общении', 'tags': ['Математический анализ', 'Математическая статистика', ' Python', 'Бухгалтерский учет', 'Деловое общение'], 'link': 'https://hh.ru/resume/cf75ec080007eeefb80039ed1f477730353642'}\n"
          ]
        }
      ]
    },
    {
      "cell_type": "code",
      "source": [
        "# Сохраняем результат в файл .csv\n",
        "\n",
        "data = []\n",
        "for link in link_resume[:10]:\n",
        "    resume_data = get_resume(link)\n",
        "    if resume_data:  # Убедитесь, что данные были получены\n",
        "        data.append(resume_data)\n",
        "    time.sleep(1)  # Задержка для снижения нагрузки на сервер\n",
        "\n",
        "# Преобразуем список словарей в DataFrame\n",
        "df = pd.DataFrame(data)\n",
        "\n",
        "# Сохраняем DataFrame в CSV файл\n",
        "df.to_csv(\"data.csv\", index=False, encoding='utf-8-sig')  # index=False означает, что индексы не будут сохранены в файл\n"
      ],
      "metadata": {
        "id": "DQ5y2n0f8IFL"
      },
      "execution_count": null,
      "outputs": []
    },
    {
      "cell_type": "code",
      "source": [
        "import pandas as pd\n",
        "\n",
        "# Предположим, df - ваш DataFrame с результатами\n",
        "# Сохранение данных в CSV файл\n",
        "output_file = folder_path + 'output_data.csv'\n",
        "df.to_csv(output_file, index=False)\n"
      ],
      "metadata": {
        "id": "ZciQgRsJkZ1F"
      },
      "execution_count": null,
      "outputs": []
    },
    {
      "cell_type": "code",
      "source": [
        "# Извлекаем данные из файла .csv с помощью pandas\n",
        "data_df = pd.read_csv(\"data.csv\")\n",
        "data_df.head()"
      ],
      "metadata": {
        "id": "euD0Ib71D9ka",
        "colab": {
          "base_uri": "https://localhost:8080/",
          "height": 466
        },
        "outputId": "a785b391-a428-4776-e9a2-d63cd3bb80e9"
      },
      "execution_count": null,
      "outputs": [
        {
          "output_type": "execute_result",
          "data": {
            "text/plain": [
              "                                             persons  \\\n",
              "0  ['Мужчина', '24 года', '10 декабря 1999', 'Нов...   \n",
              "1  ['Мужчина', '32 года', '6 января 1992', 'Москв...   \n",
              "2  ['Мужчина', '23 года', '23 июня 2000', 'Москва...   \n",
              "3  ['Мужчина', '24 года', '17 февраля 2000', 'Мос...   \n",
              "4  ['Мужчина', '31 год', '28 февраля 1993', 'Влад...   \n",
              "\n",
              "                                              moving  \\\n",
              "0  Новосибирск, м. Заельцовская, готов к переезду...   \n",
              "1  Москва, м. Тульская, готов к переезду, готов к...   \n",
              "2  Москва, м. Сходненская, не готов к переезду, г...   \n",
              "3  Москва, не готов к переезду, не готов к команд...   \n",
              "4  Владивосток, готов к переезду (Беларусь, Москв...   \n",
              "\n",
              "                                   name            salary  \\\n",
              "0                      Python developer               NaN   \n",
              "1                    Программист Python  350000 ₽ на руки   \n",
              "2  Python-разработчик/ Python developer               NaN   \n",
              "3                           Программист               NaN   \n",
              "4                    Программист Python               NaN   \n",
              "\n",
              "                             specialization_schedule  \\\n",
              "0  Специализации: Программист, разработчик Занято...   \n",
              "1                                  350 000 ₽ на руки   \n",
              "2  Специализации: Программист, разработчик Занято...   \n",
              "3  Специализации: Программист, разработчик Занято...   \n",
              "4  Специализации: Программист, разработчик Занято...   \n",
              "\n",
              "                                          experience  \\\n",
              "0  Опыт работы 2 года 4 месяца Март 2023 — по нас...   \n",
              "1  Опыт работы 8 лет 9 месяцев Ноябрь 2016 — по н...   \n",
              "2  Опыт работы 4 года 2 месяца Декабрь 2020 — по ...   \n",
              "3  Опыт работы 3 года 4 месяца Июль 2023 — по нас...   \n",
              "4  Опыт работы 7 лет 8 месяцев Сентябрь 2016 — по...   \n",
              "\n",
              "                                                tags  \\\n",
              "0  ['Git', 'Python', 'ООП', 'Django Framework', '...   \n",
              "1  ['Python', 'Machine Learning', 'Linux', 'Compu...   \n",
              "2  ['Исполнительность', 'Поиск информации в интер...   \n",
              "3  [' Python', 'JavaScript', 'Git', 'Bash', 'Linu...   \n",
              "4                                                 []   \n",
              "\n",
              "                                                link  \n",
              "0  https://hh.ru/resume/7b1a872100086178440039ed1...  \n",
              "1  https://hh.ru/resume/fb7ea8c800035e24280039ed1...  \n",
              "2  https://hh.ru/resume/6a9abec70008de01cc0039ed1...  \n",
              "3  https://hh.ru/resume/bee0660c00080a04f10039ed1...  \n",
              "4  https://hh.ru/resume/b20787e00003b6474f0039ed1...  "
            ],
            "text/html": [
              "\n",
              "  <div id=\"df-9825c137-d182-43fb-a724-863e64f3cef2\" class=\"colab-df-container\">\n",
              "    <div>\n",
              "<style scoped>\n",
              "    .dataframe tbody tr th:only-of-type {\n",
              "        vertical-align: middle;\n",
              "    }\n",
              "\n",
              "    .dataframe tbody tr th {\n",
              "        vertical-align: top;\n",
              "    }\n",
              "\n",
              "    .dataframe thead th {\n",
              "        text-align: right;\n",
              "    }\n",
              "</style>\n",
              "<table border=\"1\" class=\"dataframe\">\n",
              "  <thead>\n",
              "    <tr style=\"text-align: right;\">\n",
              "      <th></th>\n",
              "      <th>persons</th>\n",
              "      <th>moving</th>\n",
              "      <th>name</th>\n",
              "      <th>salary</th>\n",
              "      <th>specialization_schedule</th>\n",
              "      <th>experience</th>\n",
              "      <th>tags</th>\n",
              "      <th>link</th>\n",
              "    </tr>\n",
              "  </thead>\n",
              "  <tbody>\n",
              "    <tr>\n",
              "      <th>0</th>\n",
              "      <td>['Мужчина', '24 года', '10 декабря 1999', 'Нов...</td>\n",
              "      <td>Новосибирск, м. Заельцовская, готов к переезду...</td>\n",
              "      <td>Python developer</td>\n",
              "      <td>NaN</td>\n",
              "      <td>Специализации: Программист, разработчик Занято...</td>\n",
              "      <td>Опыт работы 2 года 4 месяца Март 2023 — по нас...</td>\n",
              "      <td>['Git', 'Python', 'ООП', 'Django Framework', '...</td>\n",
              "      <td>https://hh.ru/resume/7b1a872100086178440039ed1...</td>\n",
              "    </tr>\n",
              "    <tr>\n",
              "      <th>1</th>\n",
              "      <td>['Мужчина', '32 года', '6 января 1992', 'Москв...</td>\n",
              "      <td>Москва, м. Тульская, готов к переезду, готов к...</td>\n",
              "      <td>Программист Python</td>\n",
              "      <td>350000 ₽ на руки</td>\n",
              "      <td>350 000 ₽ на руки</td>\n",
              "      <td>Опыт работы 8 лет 9 месяцев Ноябрь 2016 — по н...</td>\n",
              "      <td>['Python', 'Machine Learning', 'Linux', 'Compu...</td>\n",
              "      <td>https://hh.ru/resume/fb7ea8c800035e24280039ed1...</td>\n",
              "    </tr>\n",
              "    <tr>\n",
              "      <th>2</th>\n",
              "      <td>['Мужчина', '23 года', '23 июня 2000', 'Москва...</td>\n",
              "      <td>Москва, м. Сходненская, не готов к переезду, г...</td>\n",
              "      <td>Python-разработчик/ Python developer</td>\n",
              "      <td>NaN</td>\n",
              "      <td>Специализации: Программист, разработчик Занято...</td>\n",
              "      <td>Опыт работы 4 года 2 месяца Декабрь 2020 — по ...</td>\n",
              "      <td>['Исполнительность', 'Поиск информации в интер...</td>\n",
              "      <td>https://hh.ru/resume/6a9abec70008de01cc0039ed1...</td>\n",
              "    </tr>\n",
              "    <tr>\n",
              "      <th>3</th>\n",
              "      <td>['Мужчина', '24 года', '17 февраля 2000', 'Мос...</td>\n",
              "      <td>Москва, не готов к переезду, не готов к команд...</td>\n",
              "      <td>Программист</td>\n",
              "      <td>NaN</td>\n",
              "      <td>Специализации: Программист, разработчик Занято...</td>\n",
              "      <td>Опыт работы 3 года 4 месяца Июль 2023 — по нас...</td>\n",
              "      <td>[' Python', 'JavaScript', 'Git', 'Bash', 'Linu...</td>\n",
              "      <td>https://hh.ru/resume/bee0660c00080a04f10039ed1...</td>\n",
              "    </tr>\n",
              "    <tr>\n",
              "      <th>4</th>\n",
              "      <td>['Мужчина', '31 год', '28 февраля 1993', 'Влад...</td>\n",
              "      <td>Владивосток, готов к переезду (Беларусь, Москв...</td>\n",
              "      <td>Программист Python</td>\n",
              "      <td>NaN</td>\n",
              "      <td>Специализации: Программист, разработчик Занято...</td>\n",
              "      <td>Опыт работы 7 лет 8 месяцев Сентябрь 2016 — по...</td>\n",
              "      <td>[]</td>\n",
              "      <td>https://hh.ru/resume/b20787e00003b6474f0039ed1...</td>\n",
              "    </tr>\n",
              "  </tbody>\n",
              "</table>\n",
              "</div>\n",
              "    <div class=\"colab-df-buttons\">\n",
              "\n",
              "  <div class=\"colab-df-container\">\n",
              "    <button class=\"colab-df-convert\" onclick=\"convertToInteractive('df-9825c137-d182-43fb-a724-863e64f3cef2')\"\n",
              "            title=\"Convert this dataframe to an interactive table.\"\n",
              "            style=\"display:none;\">\n",
              "\n",
              "  <svg xmlns=\"http://www.w3.org/2000/svg\" height=\"24px\" viewBox=\"0 -960 960 960\">\n",
              "    <path d=\"M120-120v-720h720v720H120Zm60-500h600v-160H180v160Zm220 220h160v-160H400v160Zm0 220h160v-160H400v160ZM180-400h160v-160H180v160Zm440 0h160v-160H620v160ZM180-180h160v-160H180v160Zm440 0h160v-160H620v160Z\"/>\n",
              "  </svg>\n",
              "    </button>\n",
              "\n",
              "  <style>\n",
              "    .colab-df-container {\n",
              "      display:flex;\n",
              "      gap: 12px;\n",
              "    }\n",
              "\n",
              "    .colab-df-convert {\n",
              "      background-color: #E8F0FE;\n",
              "      border: none;\n",
              "      border-radius: 50%;\n",
              "      cursor: pointer;\n",
              "      display: none;\n",
              "      fill: #1967D2;\n",
              "      height: 32px;\n",
              "      padding: 0 0 0 0;\n",
              "      width: 32px;\n",
              "    }\n",
              "\n",
              "    .colab-df-convert:hover {\n",
              "      background-color: #E2EBFA;\n",
              "      box-shadow: 0px 1px 2px rgba(60, 64, 67, 0.3), 0px 1px 3px 1px rgba(60, 64, 67, 0.15);\n",
              "      fill: #174EA6;\n",
              "    }\n",
              "\n",
              "    .colab-df-buttons div {\n",
              "      margin-bottom: 4px;\n",
              "    }\n",
              "\n",
              "    [theme=dark] .colab-df-convert {\n",
              "      background-color: #3B4455;\n",
              "      fill: #D2E3FC;\n",
              "    }\n",
              "\n",
              "    [theme=dark] .colab-df-convert:hover {\n",
              "      background-color: #434B5C;\n",
              "      box-shadow: 0px 1px 3px 1px rgba(0, 0, 0, 0.15);\n",
              "      filter: drop-shadow(0px 1px 2px rgba(0, 0, 0, 0.3));\n",
              "      fill: #FFFFFF;\n",
              "    }\n",
              "  </style>\n",
              "\n",
              "    <script>\n",
              "      const buttonEl =\n",
              "        document.querySelector('#df-9825c137-d182-43fb-a724-863e64f3cef2 button.colab-df-convert');\n",
              "      buttonEl.style.display =\n",
              "        google.colab.kernel.accessAllowed ? 'block' : 'none';\n",
              "\n",
              "      async function convertToInteractive(key) {\n",
              "        const element = document.querySelector('#df-9825c137-d182-43fb-a724-863e64f3cef2');\n",
              "        const dataTable =\n",
              "          await google.colab.kernel.invokeFunction('convertToInteractive',\n",
              "                                                    [key], {});\n",
              "        if (!dataTable) return;\n",
              "\n",
              "        const docLinkHtml = 'Like what you see? Visit the ' +\n",
              "          '<a target=\"_blank\" href=https://colab.research.google.com/notebooks/data_table.ipynb>data table notebook</a>'\n",
              "          + ' to learn more about interactive tables.';\n",
              "        element.innerHTML = '';\n",
              "        dataTable['output_type'] = 'display_data';\n",
              "        await google.colab.output.renderOutput(dataTable, element);\n",
              "        const docLink = document.createElement('div');\n",
              "        docLink.innerHTML = docLinkHtml;\n",
              "        element.appendChild(docLink);\n",
              "      }\n",
              "    </script>\n",
              "  </div>\n",
              "\n",
              "\n",
              "<div id=\"df-f3610ca8-3ce3-4ca3-9678-9ff1b56c7313\">\n",
              "  <button class=\"colab-df-quickchart\" onclick=\"quickchart('df-f3610ca8-3ce3-4ca3-9678-9ff1b56c7313')\"\n",
              "            title=\"Suggest charts\"\n",
              "            style=\"display:none;\">\n",
              "\n",
              "<svg xmlns=\"http://www.w3.org/2000/svg\" height=\"24px\"viewBox=\"0 0 24 24\"\n",
              "     width=\"24px\">\n",
              "    <g>\n",
              "        <path d=\"M19 3H5c-1.1 0-2 .9-2 2v14c0 1.1.9 2 2 2h14c1.1 0 2-.9 2-2V5c0-1.1-.9-2-2-2zM9 17H7v-7h2v7zm4 0h-2V7h2v10zm4 0h-2v-4h2v4z\"/>\n",
              "    </g>\n",
              "</svg>\n",
              "  </button>\n",
              "\n",
              "<style>\n",
              "  .colab-df-quickchart {\n",
              "      --bg-color: #E8F0FE;\n",
              "      --fill-color: #1967D2;\n",
              "      --hover-bg-color: #E2EBFA;\n",
              "      --hover-fill-color: #174EA6;\n",
              "      --disabled-fill-color: #AAA;\n",
              "      --disabled-bg-color: #DDD;\n",
              "  }\n",
              "\n",
              "  [theme=dark] .colab-df-quickchart {\n",
              "      --bg-color: #3B4455;\n",
              "      --fill-color: #D2E3FC;\n",
              "      --hover-bg-color: #434B5C;\n",
              "      --hover-fill-color: #FFFFFF;\n",
              "      --disabled-bg-color: #3B4455;\n",
              "      --disabled-fill-color: #666;\n",
              "  }\n",
              "\n",
              "  .colab-df-quickchart {\n",
              "    background-color: var(--bg-color);\n",
              "    border: none;\n",
              "    border-radius: 50%;\n",
              "    cursor: pointer;\n",
              "    display: none;\n",
              "    fill: var(--fill-color);\n",
              "    height: 32px;\n",
              "    padding: 0;\n",
              "    width: 32px;\n",
              "  }\n",
              "\n",
              "  .colab-df-quickchart:hover {\n",
              "    background-color: var(--hover-bg-color);\n",
              "    box-shadow: 0 1px 2px rgba(60, 64, 67, 0.3), 0 1px 3px 1px rgba(60, 64, 67, 0.15);\n",
              "    fill: var(--button-hover-fill-color);\n",
              "  }\n",
              "\n",
              "  .colab-df-quickchart-complete:disabled,\n",
              "  .colab-df-quickchart-complete:disabled:hover {\n",
              "    background-color: var(--disabled-bg-color);\n",
              "    fill: var(--disabled-fill-color);\n",
              "    box-shadow: none;\n",
              "  }\n",
              "\n",
              "  .colab-df-spinner {\n",
              "    border: 2px solid var(--fill-color);\n",
              "    border-color: transparent;\n",
              "    border-bottom-color: var(--fill-color);\n",
              "    animation:\n",
              "      spin 1s steps(1) infinite;\n",
              "  }\n",
              "\n",
              "  @keyframes spin {\n",
              "    0% {\n",
              "      border-color: transparent;\n",
              "      border-bottom-color: var(--fill-color);\n",
              "      border-left-color: var(--fill-color);\n",
              "    }\n",
              "    20% {\n",
              "      border-color: transparent;\n",
              "      border-left-color: var(--fill-color);\n",
              "      border-top-color: var(--fill-color);\n",
              "    }\n",
              "    30% {\n",
              "      border-color: transparent;\n",
              "      border-left-color: var(--fill-color);\n",
              "      border-top-color: var(--fill-color);\n",
              "      border-right-color: var(--fill-color);\n",
              "    }\n",
              "    40% {\n",
              "      border-color: transparent;\n",
              "      border-right-color: var(--fill-color);\n",
              "      border-top-color: var(--fill-color);\n",
              "    }\n",
              "    60% {\n",
              "      border-color: transparent;\n",
              "      border-right-color: var(--fill-color);\n",
              "    }\n",
              "    80% {\n",
              "      border-color: transparent;\n",
              "      border-right-color: var(--fill-color);\n",
              "      border-bottom-color: var(--fill-color);\n",
              "    }\n",
              "    90% {\n",
              "      border-color: transparent;\n",
              "      border-bottom-color: var(--fill-color);\n",
              "    }\n",
              "  }\n",
              "</style>\n",
              "\n",
              "  <script>\n",
              "    async function quickchart(key) {\n",
              "      const quickchartButtonEl =\n",
              "        document.querySelector('#' + key + ' button');\n",
              "      quickchartButtonEl.disabled = true;  // To prevent multiple clicks.\n",
              "      quickchartButtonEl.classList.add('colab-df-spinner');\n",
              "      try {\n",
              "        const charts = await google.colab.kernel.invokeFunction(\n",
              "            'suggestCharts', [key], {});\n",
              "      } catch (error) {\n",
              "        console.error('Error during call to suggestCharts:', error);\n",
              "      }\n",
              "      quickchartButtonEl.classList.remove('colab-df-spinner');\n",
              "      quickchartButtonEl.classList.add('colab-df-quickchart-complete');\n",
              "    }\n",
              "    (() => {\n",
              "      let quickchartButtonEl =\n",
              "        document.querySelector('#df-f3610ca8-3ce3-4ca3-9678-9ff1b56c7313 button');\n",
              "      quickchartButtonEl.style.display =\n",
              "        google.colab.kernel.accessAllowed ? 'block' : 'none';\n",
              "    })();\n",
              "  </script>\n",
              "</div>\n",
              "\n",
              "    </div>\n",
              "  </div>\n"
            ],
            "application/vnd.google.colaboratory.intrinsic+json": {
              "type": "dataframe",
              "variable_name": "data_df",
              "summary": "{\n  \"name\": \"data_df\",\n  \"rows\": 10,\n  \"fields\": [\n    {\n      \"column\": \"persons\",\n      \"properties\": {\n        \"dtype\": \"string\",\n        \"num_unique_values\": 10,\n        \"samples\": [\n          \"['\\u041c\\u0443\\u0436\\u0447\\u0438\\u043d\\u0430', '26 \\u043b\\u0435\\u0442', '3 \\u043c\\u0430\\u0440\\u0442\\u0430 1998', '\\u041c\\u043e\\u0441\\u043a\\u0432\\u0430', '\\u043c. \\u041f\\u0435\\u0440\\u043e\\u0432\\u043e']\",\n          \"['\\u041c\\u0443\\u0436\\u0447\\u0438\\u043d\\u0430', '32 \\u0433\\u043e\\u0434\\u0430', '6 \\u044f\\u043d\\u0432\\u0430\\u0440\\u044f 1992', '\\u041c\\u043e\\u0441\\u043a\\u0432\\u0430', '\\u043c. \\u0422\\u0443\\u043b\\u044c\\u0441\\u043a\\u0430\\u044f']\",\n          \"['\\u041c\\u0443\\u0436\\u0447\\u0438\\u043d\\u0430', '25 \\u043b\\u0435\\u0442', '12 \\u0438\\u044e\\u043b\\u044f 1998', '\\u041a\\u0440\\u0430\\u0441\\u043d\\u043e\\u044f\\u0440\\u0441\\u043a']\"\n        ],\n        \"semantic_type\": \"\",\n        \"description\": \"\"\n      }\n    },\n    {\n      \"column\": \"moving\",\n      \"properties\": {\n        \"dtype\": \"string\",\n        \"num_unique_values\": 9,\n        \"samples\": [\n          \"\\u041c\\u043e\\u0441\\u043a\\u0432\\u0430, \\u043c. \\u041f\\u0435\\u0440\\u043e\\u0432\\u043e, \\u0433\\u043e\\u0442\\u043e\\u0432 \\u043a \\u043f\\u0435\\u0440\\u0435\\u0435\\u0437\\u0434\\u0443, \\u0433\\u043e\\u0442\\u043e\\u0432 \\u043a \\u0440\\u0435\\u0434\\u043a\\u0438\\u043c \\u043a\\u043e\\u043c\\u0430\\u043d\\u0434\\u0438\\u0440\\u043e\\u0432\\u043a\\u0430\\u043c\",\n          \"\\u041c\\u043e\\u0441\\u043a\\u0432\\u0430, \\u043c. \\u0422\\u0443\\u043b\\u044c\\u0441\\u043a\\u0430\\u044f, \\u0433\\u043e\\u0442\\u043e\\u0432 \\u043a \\u043f\\u0435\\u0440\\u0435\\u0435\\u0437\\u0434\\u0443, \\u0433\\u043e\\u0442\\u043e\\u0432 \\u043a \\u043a\\u043e\\u043c\\u0430\\u043d\\u0434\\u0438\\u0440\\u043e\\u0432\\u043a\\u0430\\u043c\",\n          \"\\u041a\\u0440\\u0430\\u0441\\u043d\\u043e\\u044f\\u0440\\u0441\\u043a, \\u0433\\u043e\\u0442\\u043e\\u0432 \\u043a \\u043f\\u0435\\u0440\\u0435\\u0435\\u0437\\u0434\\u0443 (\\u041c\\u043e\\u0441\\u043a\\u0432\\u0430, \\u0413\\u0440\\u0443\\u0437\\u0438\\u044f, \\u0422\\u0430\\u0438\\u043b\\u0430\\u043d\\u0434, \\u0410\\u0440\\u043c\\u0435\\u043d\\u0438\\u044f, \\u0422\\u0443\\u0440\\u0446\\u0438\\u044f), \\u0433\\u043e\\u0442\\u043e\\u0432 \\u043a \\u043a\\u043e\\u043c\\u0430\\u043d\\u0434\\u0438\\u0440\\u043e\\u0432\\u043a\\u0430\\u043c\"\n        ],\n        \"semantic_type\": \"\",\n        \"description\": \"\"\n      }\n    },\n    {\n      \"column\": \"name\",\n      \"properties\": {\n        \"dtype\": \"string\",\n        \"num_unique_values\": 7,\n        \"samples\": [\n          \"Python developer\",\n          \"\\u041f\\u0440\\u043e\\u0433\\u0440\\u0430\\u043c\\u043c\\u0438\\u0441\\u0442 Python\",\n          \"python developer\"\n        ],\n        \"semantic_type\": \"\",\n        \"description\": \"\"\n      }\n    },\n    {\n      \"column\": \"salary\",\n      \"properties\": {\n        \"dtype\": \"category\",\n        \"num_unique_values\": 4,\n        \"samples\": [\n          \"150000 \\u20bd \\u043d\\u0430 \\u0440\\u0443\\u043a\\u0438\",\n          \"100000 \\u20bd \\u043d\\u0430 \\u0440\\u0443\\u043a\\u0438\",\n          \"350000 \\u20bd \\u043d\\u0430 \\u0440\\u0443\\u043a\\u0438\"\n        ],\n        \"semantic_type\": \"\",\n        \"description\": \"\"\n      }\n    },\n    {\n      \"column\": \"specialization_schedule\",\n      \"properties\": {\n        \"dtype\": \"string\",\n        \"num_unique_values\": 10,\n        \"samples\": [\n          \"\\u0421\\u043f\\u0435\\u0446\\u0438\\u0430\\u043b\\u0438\\u0437\\u0430\\u0446\\u0438\\u0438: \\u041f\\u0440\\u043e\\u0433\\u0440\\u0430\\u043c\\u043c\\u0438\\u0441\\u0442, \\u0440\\u0430\\u0437\\u0440\\u0430\\u0431\\u043e\\u0442\\u0447\\u0438\\u043a \\u0421\\u0435\\u0442\\u0435\\u0432\\u043e\\u0439 \\u0438\\u043d\\u0436\\u0435\\u043d\\u0435\\u0440 \\u0417\\u0430\\u043d\\u044f\\u0442\\u043e\\u0441\\u0442\\u044c: \\u043f\\u043e\\u043b\\u043d\\u0430\\u044f \\u0437\\u0430\\u043d\\u044f\\u0442\\u043e\\u0441\\u0442\\u044c, \\u0447\\u0430\\u0441\\u0442\\u0438\\u0447\\u043d\\u0430\\u044f \\u0437\\u0430\\u043d\\u044f\\u0442\\u043e\\u0441\\u0442\\u044c \\u0413\\u0440\\u0430\\u0444\\u0438\\u043a \\u0440\\u0430\\u0431\\u043e\\u0442\\u044b: \\u043f\\u043e\\u043b\\u043d\\u044b\\u0439 \\u0434\\u0435\\u043d\\u044c, \\u0441\\u043c\\u0435\\u043d\\u043d\\u044b\\u0439 \\u0433\\u0440\\u0430\\u0444\\u0438\\u043a, \\u0433\\u0438\\u0431\\u043a\\u0438\\u0439 \\u0433\\u0440\\u0430\\u0444\\u0438\\u043a, \\u0443\\u0434\\u0430\\u043b\\u0435\\u043d\\u043d\\u0430\\u044f \\u0440\\u0430\\u0431\\u043e\\u0442\\u0430, \\u0432\\u0430\\u0445\\u0442\\u043e\\u0432\\u044b\\u0439 \\u043c\\u0435\\u0442\\u043e\\u0434\",\n          \"350\\u2009000\\u00a0\\u20bd \\u043d\\u0430\\u00a0\\u0440\\u0443\\u043a\\u0438\",\n          \"150\\u2009000\\u00a0\\u20bd \\u043d\\u0430\\u00a0\\u0440\\u0443\\u043a\\u0438\"\n        ],\n        \"semantic_type\": \"\",\n        \"description\": \"\"\n      }\n    },\n    {\n      \"column\": \"experience\",\n      \"properties\": {\n        \"dtype\": \"string\",\n        \"num_unique_values\": 10,\n        \"samples\": [\n          \"\\u041e\\u043f\\u044b\\u0442 \\u0440\\u0430\\u0431\\u043e\\u0442\\u044b 4 \\u0433\\u043e\\u0434\\u0430 3 \\u043c\\u0435\\u0441\\u044f\\u0446\\u0430 \\u0418\\u044e\\u043b\\u044c 2021 \\u2014 \\u043f\\u043e \\u043d\\u0430\\u0441\\u0442\\u043e\\u044f\\u0449\\u0435\\u0435 \\u0432\\u0440\\u0435\\u043c\\u044f2 \\u0433\\u043e\\u0434\\u0430 10 \\u043c\\u0435\\u0441\\u044f\\u0446\\u0435\\u0432TraceAirPython Developer- \\u0440\\u0430\\u0437\\u0440\\u0430\\u0431\\u043e\\u0442\\u043a\\u0430 \\u0441\\u0435\\u0440\\u0432\\u0435\\u0440\\u043d\\u043e\\u0439 \\u0447\\u0430\\u0441\\u0442\\u0438 \\u0432\\u043d\\u0443\\u0442\\u0440\\u0435\\u043d\\u043d\\u0435\\u0433\\u043e \\u043f\\u0440\\u043e\\u0434\\u0443\\u043a\\u0442\\u0430 (Python)\\n- \\u0440\\u0430\\u0437\\u0440\\u0430\\u0431\\u043e\\u0442\\u043a\\u0430 CRUD-\\u043f\\u0440\\u0438\\u043b\\u043e\\u0436\\u0435\\u043d\\u0438\\u0439 (Python) \\n- \\u0432\\u0437\\u0430\\u0438\\u043c\\u043e\\u0434\\u0435\\u0439\\u0441\\u0442\\u0432\\u0438\\u0435 \\u0441 Google API \\u0438 \\u0440\\u0430\\u0437\\u0440\\u0430\\u0431\\u043e\\u0442\\u043a\\u0430 \\u0440\\u0435\\u0448\\u0435\\u043d\\u0438\\u0439 \\u043d\\u0430 OAuth2 Framework\\n- \\u043d\\u0430\\u043f\\u0438\\u0441\\u0430\\u043d\\u0438\\u0435 \\u0430\\u0432\\u0442\\u043e\\u0442\\u0435\\u0441\\u0442\\u043e\\u0432 (PyTest, ansible molecule)\\n- \\u043a\\u043e\\u043d\\u0442\\u0440\\u043e\\u043b\\u044c \\u0432\\u0435\\u0440\\u0441\\u0438\\u0439 Git (GitHub)\\n- \\u0430\\u0432\\u0442\\u043e\\u043c\\u0430\\u0442\\u0438\\u0437\\u0430\\u0446\\u0438\\u044f \\u043f\\u0440\\u043e\\u0446\\u0435\\u0441\\u0441\\u043e\\u0432 CI/CD (Jenkins, Ansible, Terraform, Helm)\\n- \\u0430\\u0434\\u043c\\u0438\\u043d\\u0438\\u0441\\u0442\\u0440\\u0438\\u0440\\u043e\\u0432\\u0430\\u043d\\u0438\\u0435 Linux \\u0441\\u0435\\u0440\\u0432\\u0435\\u0440\\u043e\\u0432, Kubernetes\\n- \\u041a\\u043e\\u043d\\u0442\\u0435\\u0439\\u043d\\u0435\\u0440\\u0438\\u0437\\u0430\\u0446\\u0438\\u044f \\u043f\\u0440\\u0438\\u043b\\u043e\\u0436\\u0435\\u043d\\u0438\\u0439 (Docker)\\u041c\\u0430\\u0439 2020 \\u2014 \\u0410\\u043f\\u0440\\u0435\\u043b\\u044c 20211 \\u0433\\u043e\\u0434\\u041c\\u043e\\u0441\\u043a\\u043e\\u0432\\u0441\\u043a\\u0430\\u044f \\u042e\\u0440\\u0438\\u0434\\u0438\\u0447\\u0435\\u0441\\u043a\\u0430\\u044f \\u043a\\u043e\\u043c\\u043f\\u0430\\u043d\\u0438\\u044f\\u0421\\u0438\\u0441\\u0442\\u0435\\u043c\\u043d\\u044b\\u0439 \\u0430\\u0434\\u043c\\u0438\\u043d\\u0438\\u0441\\u0442\\u0440\\u0430\\u0442\\u043e\\u0440/\\u041c\\u043b\\u0430\\u0434\\u0448\\u0438\\u0439 \\u0440\\u0430\\u0437\\u0440\\u0430\\u0431\\u043e\\u0442\\u0447\\u0438\\u043a PHP- \\u0440\\u0430\\u0431\\u043e\\u0442\\u0430 \\u0441 \\u043e\\u0440\\u0433. \\u0442\\u0435\\u0445\\u043d\\u0438\\u043a\\u043e\\u0439.\\n- \\u0430\\u0434\\u043c\\u0438\\u043d\\u0438\\u0441\\u0442\\u0440\\u0438\\u0440\\u043e\\u0432\\u0430\\u043d\\u0438\\u0435 \\u043b\\u043e\\u043a\\u0430\\u043b\\u044c\\u043d\\u044b\\u0445 \\u0441\\u0435\\u0442\\u0435\\u0439 \\u0438 \\u043a\\u0430\\u043c\\u0435\\u0440 \\u0432\\u0438\\u0434\\u0435\\u043e\\u043d\\u0430\\u0431\\u043b\\u044e\\u0434\\u0435\\u043d\\u0438\\u044f.\\n- \\u0440\\u0435\\u043c\\u043e\\u043d\\u0442 \\u043e\\u0444\\u0438\\u0441\\u043d\\u043e\\u0433\\u043e \\u043e\\u0431\\u043e\\u0440\\u0443\\u0434\\u043e\\u0432\\u0430\\u043d\\u0438\\u044f \\u0438 \\u041f\\u041a\\n- \\u0430\\u0434\\u043c\\u0438\\u043d\\u0438\\u0441\\u0442\\u0440\\u0438\\u0440\\u043e\\u0432\\u0430\\u043d\\u0438\\u0435 \\u0441\\u0430\\u043c\\u043e\\u043f\\u0438\\u0441\\u043d\\u043e\\u0439 CRM \\u0441\\u0438\\u0441\\u0442\\u0435\\u043c\\u044b\\n- \\u0434\\u043e\\u0440\\u0430\\u0431\\u043e\\u0442\\u043a\\u0430 \\u0441\\u0443\\u0449\\u0435\\u0441\\u0442\\u0432\\u0443\\u044e\\u0449\\u0438\\u0445 \\u0440\\u0435\\u0448\\u0435\\u043d\\u0438\\u0439 \\u0438 \\u0440\\u0430\\u0437\\u0440\\u0430\\u0431\\u043e\\u0442\\u043a\\u0430 \\u043d\\u043e\\u0432\\u043e\\u0433\\u043e \\u0444\\u0443\\u043d\\u043a\\u0446\\u0438\\u043e\\u043d\\u0430\\u043b\\u0430 \\u043d\\u0430 PHP\\n- \\u0440\\u0430\\u0437\\u0440\\u0430\\u0431\\u043e\\u0442\\u043a\\u0430 web crawlers \\n- \\u0440\\u0430\\u0437\\u0440\\u0430\\u0431\\u043e\\u0442\\u043a\\u0430 \\u043f\\u0430\\u0440\\u0441\\u0435\\u0440\\u043e\\u0432 \\u0441\\u0430\\u0439\\u0442\\u043e\\u0432 \\u043d\\u0430 PHP.\\u041c\\u0430\\u0439 2017 \\u2014 \\u0421\\u0435\\u043d\\u0442\\u044f\\u0431\\u0440\\u044c 20175 \\u043c\\u0435\\u0441\\u044f\\u0446\\u0435\\u0432\\u041c\\u043e\\u0441\\u041e\\u0431\\u043b\\u0415\\u0418\\u0420\\u0426\\u0421\\u0438\\u0441\\u0442\\u0435\\u043c\\u043d\\u044b\\u0439 \\u0430\\u0434\\u043c\\u0438\\u043d\\u0438\\u0441\\u0442\\u0440\\u0430\\u0442\\u043e\\u0440 Windows\\u041d\\u0430\\u0441\\u0442\\u0440\\u043e\\u0439\\u043a\\u0430 \\u0441\\u0435\\u0442\\u0435\\u0432\\u043e\\u0433\\u043e \\u043e\\u0431\\u043e\\u0440\\u0443\\u0434\\u043e\\u0432\\u0430\\u043d\\u0438\\u044f, \\u0430\\u0434\\u043c\\u0438\\u043d\\u0438\\u0441\\u0442\\u0440\\u0438\\u0440\\u043e\\u0432\\u0430\\u043d\\u0438\\u0435 \\u043c\\u0430\\u043b\\u0435\\u043d\\u044c\\u043a\\u043e\\u0433\\u043e \\u043e\\u0444\\u0438\\u0441\\u0430(\\u0444\\u0438\\u043b\\u0438\\u0430\\u043b)\",\n          \"\\u041e\\u043f\\u044b\\u0442 \\u0440\\u0430\\u0431\\u043e\\u0442\\u044b 8 \\u043b\\u0435\\u0442 9 \\u043c\\u0435\\u0441\\u044f\\u0446\\u0435\\u0432 \\u041d\\u043e\\u044f\\u0431\\u0440\\u044c 2016 \\u2014 \\u043f\\u043e \\u043d\\u0430\\u0441\\u0442\\u043e\\u044f\\u0449\\u0435\\u0435 \\u0432\\u0440\\u0435\\u043c\\u044f7 \\u043b\\u0435\\u0442 6 \\u043c\\u0435\\u0441\\u044f\\u0446\\u0435\\u0432\\u042f\\u043d\\u0434\\u0435\\u043a\\u0441\\u0415\\u043a\\u0430\\u0442\\u0435\\u0440\\u0438\\u043d\\u0431\\u0443\\u0440\\u0433, www.yandex.ru\\u0418\\u043d\\u0444\\u043e\\u0440\\u043c\\u0430\\u0446\\u0438\\u043e\\u043d\\u043d\\u044b\\u0435 \\u0442\\u0435\\u0445\\u043d\\u043e\\u043b\\u043e\\u0433\\u0438\\u0438, \\u0441\\u0438\\u0441\\u0442\\u0435\\u043c\\u043d\\u0430\\u044f \\u0438\\u043d\\u0442\\u0435\\u0433\\u0440\\u0430\\u0446\\u0438\\u044f, \\u0438\\u043d\\u0442\\u0435\\u0440\\u043d\\u0435\\u0442... \\u041f\\u043e\\u043a\\u0430\\u0437\\u0430\\u0442\\u044c \\u0435\\u0449\\u0435\\u041f\\u0440\\u043e\\u0433\\u0440\\u0430\\u043c\\u043c\\u0438\\u0441\\u0442-\\u0440\\u0430\\u0437\\u0440\\u0430\\u0431\\u043e\\u0442\\u0447\\u0438\\u043a\\u042f\\u043d\\u0434\\u0435\\u043a\\u0441.\\u0410\\u0432\\u0438\\u0430\\u0431\\u0438\\u043b\\u0435\\u0442\\u044b - \\u0440\\u0430\\u0437\\u0440\\u0430\\u0431\\u043e\\u0442\\u043a\\u0430 \\u0431\\u044d\\u043a\\u0435\\u043d\\u0434\\u0430\\n- Python, Django, Celery\\n- GoLang\\n- Yandex Database (YDB)\\n- YT (\\u0432\\u043d\\u0443\\u0442\\u0440\\u0435\\u043d\\u043d\\u044f\\u044f MapReduce-\\u0441\\u0438\\u0441\\u0442\\u0435\\u043c\\u0430)\\n- Logbroker (\\u0432\\u043d\\u0443\\u0442\\u0440\\u0435\\u043d\\u043d\\u0438\\u0439 \\u0430\\u043d\\u0430\\u043b\\u043e\\u0433 Kafka)\\n- Mysql, Postgresql, Mongo DB, Memcached, Redis, RabbitMQ, Sentry\\u0418\\u044e\\u043b\\u044c 2016 \\u2014 \\u0421\\u0435\\u043d\\u0442\\u044f\\u0431\\u0440\\u044c 20163 \\u043c\\u0435\\u0441\\u044f\\u0446\\u0430\\u042f\\u043d\\u0434\\u0435\\u043a\\u0441\\u0415\\u043a\\u0430\\u0442\\u0435\\u0440\\u0438\\u043d\\u0431\\u0443\\u0440\\u0433, www.yandex.ru\\u0418\\u043d\\u0444\\u043e\\u0440\\u043c\\u0430\\u0446\\u0438\\u043e\\u043d\\u043d\\u044b\\u0435 \\u0442\\u0435\\u0445\\u043d\\u043e\\u043b\\u043e\\u0433\\u0438\\u0438, \\u0441\\u0438\\u0441\\u0442\\u0435\\u043c\\u043d\\u0430\\u044f \\u0438\\u043d\\u0442\\u0435\\u0433\\u0440\\u0430\\u0446\\u0438\\u044f, \\u0438\\u043d\\u0442\\u0435\\u0440\\u043d\\u0435\\u0442... \\u041f\\u043e\\u043a\\u0430\\u0437\\u0430\\u0442\\u044c \\u0435\\u0449\\u0435\\u041f\\u0440\\u043e\\u0433\\u0440\\u0430\\u043c\\u043c\\u0438\\u0441\\u0442-\\u0441\\u0442\\u0430\\u0436\\u0435\\u0440\\u041f\\u0440\\u043e\\u0432\\u0435\\u0434\\u0435\\u043d\\u0438\\u0435 \\u044d\\u043a\\u0441\\u043f\\u0435\\u0440\\u0438\\u043c\\u0435\\u043d\\u0442\\u043e\\u0432 \\u043f\\u043e \\u043c\\u0430\\u0448\\u0438\\u043d\\u043d\\u043e\\u043c\\u0443 \\u043e\\u0431\\u0443\\u0447\\u0435\\u043d\\u0438\\u044e \\u0434\\u043b\\u044f \\u0437\\u0430\\u0434\\u0430\\u0447\\u0438 \\u043a\\u043b\\u0430\\u0441\\u0441\\u0438\\u0444\\u0438\\u043a\\u0430\\u0446\\u0438\\u0438 \\u0438\\u0437\\u043e\\u0431\\u0440\\u0430\\u0436\\u0435\\u043d\\u0438\\u0439. \\u041f\\u0440\\u0438\\u043c\\u0435\\u043d\\u0435\\u043d\\u0438\\u0435 \\u0430\\u043b\\u0433\\u043e\\u0440\\u0438\\u0442\\u043c\\u043e\\u0432 Computer Vision, Deep Learning \\u0434\\u043b\\u044f \\u043f\\u0440\\u0438\\u043a\\u043b\\u0430\\u0434\\u043d\\u043e\\u0439 \\u0437\\u0430\\u0434\\u0430\\u0447\\u0438.\\u0418\\u044e\\u043b\\u044c 2015 \\u2014 \\u0418\\u044e\\u043d\\u044c 20161 \\u0433\\u043e\\u0434\\u041f\\u0440\\u0435\\u0441\\u0441\\u0418\\u043d\\u0434\\u0435\\u043a\\u0441\\u0415\\u043a\\u0430\\u0442\\u0435\\u0440\\u0438\\u043d\\u0431\\u0443\\u0440\\u0433\\u041f\\u0440\\u043e\\u0433\\u0440\\u0430\\u043c\\u043c\\u0438\\u0441\\u0442 Python- \\u0420\\u0435\\u0434\\u0430\\u043a\\u0442\\u0438\\u0440\\u043e\\u0432\\u0430\\u0442\\u044c \\u043e\\u043f\\u0438\\u0441\\u0430\\u043d\\u0438\\u0435 \\u0434\\u043e\\u043b\\u0436\\u043d\\u043e\\u0441\\u0442\\u0438- \\u0420\\u0430\\u0437\\u0440\\u0430\\u0431\\u043e\\u0442\\u043a\\u0430 \\u0441\\u0435\\u0440\\u0432\\u0438\\u0441\\u043e\\u0432 \\u043f\\u043e \\u0437\\u0430\\u0433\\u0440\\u0443\\u0437\\u043a\\u0435 \\u043d\\u043e\\u0432\\u043e\\u0441\\u0442\\u043d\\u043e\\u0433\\u043e \\u043a\\u043e\\u043d\\u0442\\u0435\\u043d\\u0442\\u0430\\r\\n- \\u0420\\u0430\\u0437\\u0440\\u0430\\u0431\\u043e\\u0442\\u043a\\u0430 \\u0431\\u043e\\u0442\\u043e\\u0432 \\u0434\\u043b\\u044f \\u0438\\u043d\\u0434\\u0435\\u043a\\u0441\\u0430\\u0446\\u0438\\u0438\\r\\n- \\u0422\\u0435\\u0441\\u0442\\u0438\\u0440\\u043e\\u0432\\u0430\\u043d\\u0438\\u0435 \\u0440\\u0430\\u0437\\u0440\\u0430\\u0431\\u0430\\u0442\\u044b\\u0432\\u0430\\u0435\\u043c\\u044b\\u0445 \\u043c\\u043e\\u0434\\u0443\\u043b\\u0435\\u0439\\r\\n- \\u041f\\u043e\\u0434\\u0434\\u0435\\u0440\\u0436\\u0430\\u043d\\u0438\\u0435 \\u043a\\u043e\\u0434\\u043e\\u0432\\u043e\\u0439 \\u0431\\u0430\\u0437\\u044b\\r\\n- \\u041e\\u0440\\u0433\\u0430\\u043d\\u0438\\u0437\\u0430\\u0446\\u0438\\u044f \\u0441\\u0438\\u0441\\u0442\\u0435\\u043c\\u044b \\u043d\\u0435\\u043f\\u0440\\u0435\\u0440\\u044b\\u0432\\u043d\\u043e\\u0433\\u043e \\u0438\\u043d\\u0442\\u0435\\u0433\\u0440\\u0438\\u0440\\u043e\\u0432\\u0430\\u043d\\u0438\\u044f \\u0434\\u043b\\u044f python-\\u043f\\u0440\\u043e\\u0435\\u043a\\u0442\\u043e\\u0432\\r\\n- \\u041e\\u0441\\u043d\\u043e\\u0432\\u043d\\u043e\\u0439 \\u044f\\u0437\\u044b\\u043a \\u043f\\u0440\\u043e\\u0433\\u0440\\u0430\\u043c\\u043c\\u0438\\u0440\\u043e\\u0432\\u0430\\u043d\\u0438\\u044f Python\\r\\n- RabbitMQ, Redis, PostgreSQL\\r\\n- \\u0420\\u0430\\u0431\\u043e\\u0442\\u0430\\u043b \\u0432 \\u043a\\u043e\\u043c\\u0430\\u043d\\u0434\\u0435, \\u0438\\u0441\\u043f\\u043e\\u043b\\u044c\\u0437\\u043e\\u0432\\u0430\\u043b \\u0441\\u0438\\u0441\\u0442\\u0435\\u043c\\u044b \\u043a\\u043e\\u043d\\u0442\\u0440\\u043e\\u043b\\u044f \\u0432\\u0435\\u0440\\u0441\\u0438\\u0439 GIT\",\n          \"\\u041e\\u043f\\u044b\\u0442 \\u0440\\u0430\\u0431\\u043e\\u0442\\u044b 3 \\u0433\\u043e\\u0434\\u0430 5 \\u043c\\u0435\\u0441\\u044f\\u0446\\u0435\\u0432 \\u0414\\u0435\\u043a\\u0430\\u0431\\u0440\\u044c 2021 \\u2014 \\u043f\\u043e \\u043d\\u0430\\u0441\\u0442\\u043e\\u044f\\u0449\\u0435\\u0435 \\u0432\\u0440\\u0435\\u043c\\u044f2 \\u0433\\u043e\\u0434\\u0430 5 \\u043c\\u0435\\u0441\\u044f\\u0446\\u0435\\u0432ISSArt\\u041a\\u0440\\u0430\\u0441\\u043d\\u043e\\u044f\\u0440\\u0441\\u043a, issart.com/\\u0418\\u043d\\u0444\\u043e\\u0440\\u043c\\u0430\\u0446\\u0438\\u043e\\u043d\\u043d\\u044b\\u0435 \\u0442\\u0435\\u0445\\u043d\\u043e\\u043b\\u043e\\u0433\\u0438\\u0438, \\u0441\\u0438\\u0441\\u0442\\u0435\\u043c\\u043d\\u0430\\u044f \\u0438\\u043d\\u0442\\u0435\\u0433\\u0440\\u0430\\u0446\\u0438\\u044f, \\u0438\\u043d\\u0442\\u0435\\u0440\\u043d\\u0435\\u0442... \\u041f\\u043e\\u043a\\u0430\\u0437\\u0430\\u0442\\u044c \\u0435\\u0449\\u0435Python \\u0440\\u0430\\u0437\\u0440\\u0430\\u0431\\u043e\\u0442\\u0447\\u0438\\u043a\\u041a\\u043e\\u043c\\u043f\\u0430\\u043d\\u0438\\u044f - \\u0440\\u0430\\u0437\\u0440\\u0430\\u0431\\u043e\\u0442\\u043a\\u0430 \\u0440\\u0430\\u0437\\u043b\\u0438\\u0447\\u043d\\u043e\\u0433\\u043e \\u0441\\u043e\\u0444\\u0442\\u0430 \\u043d\\u0430 \\u0437\\u0430\\u043a\\u0430\\u0437, \\u0443\\u043f\\u043e\\u0440 \\u043d\\u0430 ML, AI, CV.\\n\\n\\u041f\\u0440\\u0438\\u043d\\u0438\\u043c\\u0430\\u043b \\u0443\\u0447\\u0430\\u0441\\u0442\\u0438\\u0435 \\u0432 \\u043d\\u0435\\u0441\\u043a\\u043e\\u043b\\u044c\\u043a\\u0438\\u0445 \\u0440\\u0430\\u0437\\u043d\\u044b\\u0445 \\u043f\\u0440\\u043e\\u0435\\u043a\\u0442\\u0430\\u0445:\\n\\n1) Web-\\u043f\\u0440\\u0438\\u043b\\u043e\\u0436\\u0435\\u043d\\u0438\\u0435 \\u0434\\u043b\\u044f \\u0438\\u043d\\u0432\\u0435\\u0441\\u0442\\u043e\\u0440\\u043e\\u0432 (\\u0430\\u043d\\u0430\\u043b\\u043e\\u0433 TradingView).\\n- \\u043f\\u043e\\u043b\\u0443\\u0447\\u0435\\u043d\\u0438\\u0435 \\u0434\\u0430\\u043d\\u043d\\u044b\\u0445 \\u0447\\u0435\\u0440\\u0435\\u0437 Polygon API (https://polygon.io/);\\n- \\u043e\\u0431\\u0440\\u0430\\u0431\\u043e\\u0442\\u043a\\u0430 \\u0434\\u0430\\u043d\\u043d\\u044b\\u0445 - \\u0432\\u044b\\u0447\\u0438\\u0441\\u043b\\u0435\\u043d\\u0438\\u0435 \\u0440\\u0430\\u0437\\u043b\\u0438\\u0447\\u043d\\u044b\\u0445 \\u0432\\u0435\\u043b\\u0438\\u0447\\u0438\\u043d \\u0438 \\u0445\\u0430\\u0440\\u0430\\u043a\\u0442\\u0435\\u0440\\u0438\\u0441\\u0442\\u0438\\u043a \\u0434\\u043b\\u044f \\u0442\\u0438\\u043a\\u0435\\u0440\\u043e\\u0432;\\n- \\u0445\\u0440\\u0430\\u043d\\u0435\\u043d\\u0438\\u0435 \\u0434\\u0430\\u043d\\u043d\\u044b\\u0445 \\u0432 NoSQL (Redis);\\n- \\u043e\\u043f\\u0442\\u0438\\u043c\\u0438\\u0437\\u0430\\u0446\\u0438\\u044f \\u0445\\u0440\\u0430\\u043d\\u0435\\u043d\\u0438\\u044f \\u0434\\u043b\\u044f \\u044d\\u043a\\u043e\\u043d\\u043e\\u043c\\u0438\\u0438 \\u0440\\u0435\\u0441\\u0443\\u0440\\u0441\\u043e\\u0432 - \\u0440\\u0430\\u0437\\u0440\\u0430\\u0431\\u043e\\u0442\\u0430\\u043b \\u0430\\u043b\\u0433\\u043e\\u0440\\u0438\\u0442\\u043c \\u0438\\u043d\\u0432\\u0430\\u043b\\u0438\\u0434\\u0430\\u0446\\u0438\\u0438 \\u0434\\u0430\\u043d\\u043d\\u044b\\u0445;\\n- API \\u0434\\u043b\\u044f \\u043f\\u0435\\u0440\\u0435\\u0434\\u0430\\u0447\\u0438 \\u0433\\u043e\\u0442\\u043e\\u0432\\u044b\\u0445 \\u0434\\u0430\\u043d\\u043d\\u044b\\u0445 \\u043d\\u0430 \\u0444\\u0440\\u043e\\u043d\\u0442;\\n\\n2) \\u041f\\u0440\\u0438\\u043b\\u043e\\u0436\\u0435\\u043d\\u0438\\u0435 \\u0434\\u043b\\u044f \\u0444\\u0440\\u0438\\u043b\\u0430\\u043d\\u0441\\u0435\\u0440\\u043e\\u0432 (\\u0430\\u043d\\u0430\\u043b\\u043e\\u0433 UpWork).\\n- \\u0440\\u0430\\u0437\\u0440\\u0430\\u0431\\u043e\\u0442\\u0430\\u043b \\u0441\\u043a\\u0440\\u0438\\u043f\\u0442-\\u043f\\u0430\\u0440\\u0441\\u0435\\u0440 \\u0434\\u043b\\u044f \\u0432\\u044b\\u0433\\u0440\\u0443\\u0437\\u043a\\u0438 \\u0434\\u0430\\u043d\\u043d\\u044b\\u0445 \\u043e\\u0431\\u043e \\u0432\\u0441\\u0435\\u0445 \\u0438\\u0441\\u043f\\u043e\\u043b\\u043d\\u0438\\u0442\\u0435\\u043b\\u044f\\u0445 \\u0441 Clutch (https://clutch.co) \\u0432 json \\u0434\\u043b\\u044f \\u043f\\u043e\\u0441\\u043b\\u0435\\u0434\\u0443\\u044e\\u0449\\u0435\\u0433\\u043e \\u0445\\u0440\\u0430\\u043d\\u0435\\u043d\\u0438\\u044f \\u0432 MongoDB. \\u0414\\u0430\\u043d\\u043d\\u044b\\u0435 \\u043f\\u043b\\u0430\\u043d\\u0438\\u0440\\u043e\\u0432\\u0430\\u043b\\u043e\\u0441\\u044c \\u0438\\u0441\\u043f\\u043e\\u043b\\u044c\\u0437\\u043e\\u0432\\u0430\\u0442\\u044c \\u0432 \\u043f\\u0440\\u043e\\u0435\\u043a\\u0442\\u0435.\\n\\n3) \\u041a\\u0440\\u043e\\u0441\\u0441\\u043f\\u043b\\u0430\\u0442\\u0444\\u043e\\u0440\\u043c\\u0435\\u043d\\u043d\\u043e\\u0435 \\u043f\\u0440\\u0438\\u043b\\u043e\\u0436\\u0435\\u043d\\u0438\\u0435 \\u0434\\u043b\\u044f \\u043e\\u043f\\u0440\\u0435\\u0434\\u0435\\u043b\\u0435\\u043d\\u0438\\u044f \\u043f\\u043e\\u0432\\u0440\\u0435\\u0436\\u0434\\u0435\\u043d\\u0438\\u0439 \\u0441\\u043e\\u043b\\u043d\\u0435\\u0447\\u043d\\u044b\\u0445 \\u043f\\u0430\\u043d\\u0435\\u043b\\u0435\\u0439 \\u043f\\u043e \\u0444\\u043e\\u0442\\u043e.\\n- \\u0434\\u043e\\u0440\\u0430\\u0431\\u043e\\u0442\\u0430\\u043b \\u0443\\u0436\\u0435 \\u0441\\u0443\\u0449\\u0435\\u0441\\u0442\\u0432\\u0443\\u044e\\u0449\\u0438\\u0439 \\u0434\\u0435\\u0441\\u043a\\u0442\\u043e\\u043f-\\u043a\\u043b\\u0438\\u0435\\u043d\\u0442, \\u0438\\u0441\\u043f\\u043e\\u043b\\u044c\\u0437\\u043e\\u0432\\u0430\\u043b PyQt4.\\n\\n4) \\u041c\\u043e\\u0431\\u0438\\u043b\\u044c\\u043d\\u043e\\u0435 \\u043f\\u0440\\u0438\\u043b\\u043e\\u0436\\u0435\\u043d\\u0438\\u0435 \\u0434\\u043b\\u044f \\u0440\\u0430\\u0441\\u043f\\u043e\\u0437\\u043d\\u0430\\u0432\\u0430\\u043d\\u0438\\u044f \\u0436\\u0438\\u0432\\u043e\\u0442\\u043d\\u044b\\u0445 \\u043f\\u043e \\u0444\\u043e\\u0442\\u043e. \\n- \\u043f\\u0435\\u0440\\u0435\\u043f\\u0438\\u0441\\u0430\\u043b \\u0441\\u0435\\u0440\\u0432\\u0438\\u0441 \\u0434\\u043b\\u044f \\u0440\\u0430\\u0441\\u043f\\u043e\\u0437\\u043d\\u0430\\u0432\\u0430\\u043d\\u0438\\u044f \\u0441 Kotlin \\u043d\\u0430 Python \\u0441 \\u0438\\u0441\\u043f\\u043e\\u043b\\u044c\\u0437\\u043e\\u0432\\u0430\\u043d\\u0438\\u0435\\u043c OpenCV;\\n- \\u043d\\u0430\\u043f\\u0438\\u0441\\u0430\\u043b API, \\u0438\\u0441\\u043f\\u043e\\u043b\\u044c\\u0437\\u043e\\u0432\\u0430\\u043b FastAPI.\\n\\nWeb: Django Rest Framework, FastAPI;\\nDB: PostgreSQL, MongoDB, Redis, SQLAlchemy;\\nOther: OpenCV, BeautifulSoup4, PyQt4;\\nOps: Docker, Gitlab CI/CD, Bash\\u0418\\u044e\\u043b\\u044c 2021 \\u2014 \\u0414\\u0435\\u043a\\u0430\\u0431\\u0440\\u044c 20216 \\u043c\\u0435\\u0441\\u044f\\u0446\\u0435\\u0432Alente\\u041a\\u0440\\u0430\\u0441\\u043d\\u043e\\u044f\\u0440\\u0441\\u043a, alente.ru\\u0418\\u043d\\u0444\\u043e\\u0440\\u043c\\u0430\\u0446\\u0438\\u043e\\u043d\\u043d\\u044b\\u0435 \\u0442\\u0435\\u0445\\u043d\\u043e\\u043b\\u043e\\u0433\\u0438\\u0438, \\u0441\\u0438\\u0441\\u0442\\u0435\\u043c\\u043d\\u0430\\u044f \\u0438\\u043d\\u0442\\u0435\\u0433\\u0440\\u0430\\u0446\\u0438\\u044f, \\u0438\\u043d\\u0442\\u0435\\u0440\\u043d\\u0435\\u0442... \\u041f\\u043e\\u043a\\u0430\\u0437\\u0430\\u0442\\u044c \\u0435\\u0449\\u0435Python \\u0440\\u0430\\u0437\\u0440\\u0430\\u0431\\u043e\\u0442\\u0447\\u0438\\u043a\\u041a\\u043e\\u043c\\u043f\\u0430\\u043d\\u0438\\u044f - Web-\\u0441\\u0442\\u0443\\u0434\\u0438\\u044f, \\u0440\\u0430\\u0437\\u0440\\u0430\\u0431\\u043e\\u0442\\u043a\\u0430 \\u043a\\u043e\\u0440\\u043f\\u043e\\u0440\\u0430\\u0442\\u0438\\u0432\\u043d\\u044b\\u0445 \\u0441\\u0430\\u0439\\u0442\\u043e\\u0432 \\u0434\\u043b\\u044f \\u043f\\u0440\\u043e\\u0434\\u0432\\u0438\\u0436\\u0435\\u043d\\u0438\\u044f \\u043d\\u0430 \\u0437\\u0430\\u043a\\u0430\\u0437.\\n\\n\\u0420\\u0430\\u0437\\u0440\\u0430\\u0431\\u043e\\u0442\\u043a\\u0430 \\u0441\\u0435\\u0440\\u0432\\u0435\\u0440\\u043d\\u043e\\u0439 \\u0447\\u0430\\u0441\\u0442\\u0438 \\u043f\\u0440\\u043e\\u0435\\u043a\\u0442\\u043e\\u0432 (\\u043a\\u043e\\u0440\\u043f\\u043e\\u0440\\u0430\\u0442\\u0438\\u0432\\u043d\\u044b\\u0435 \\u0441\\u0430\\u0439\\u0442\\u044b, \\u0438\\u043d\\u0442\\u0435\\u0440\\u043d\\u0435\\u0442-\\u043c\\u0430\\u0433\\u0430\\u0437\\u0438\\u043d\\u044b);\\n\\u041f\\u0440\\u043e\\u0435\\u043a\\u0442\\u0438\\u0440\\u043e\\u0432\\u0430\\u043d\\u0438\\u0435 \\u0431\\u0430\\u0437 \\u0434\\u0430\\u043d\\u043d\\u044b\\u0445;\\n\\u041f\\u0440\\u0430\\u0432\\u043a\\u0438 \\u0432 \\u043b\\u0435\\u0433\\u0430\\u0441\\u0438;\\n\\u041f\\u043e\\u043a\\u0440\\u044b\\u0442\\u0438\\u0435 \\u043a\\u043e\\u0434\\u0430 \\u044e\\u043d\\u0438\\u0442-\\u0442\\u0435\\u0441\\u0442\\u0430\\u043c\\u0438;\\n\\n\\u0414\\u0435\\u043f\\u043b\\u043e\\u0439 \\u043f\\u0440\\u0438\\u043b\\u043e\\u0436\\u0435\\u043d\\u0438\\u0439 - \\u043a\\u043e\\u043d\\u0442\\u0435\\u0439\\u043d\\u0435\\u0440\\u0438\\u0437\\u0430\\u0446\\u0438\\u044f \\u0438 \\u0440\\u0430\\u0437\\u0432\\u0435\\u0440\\u0442\\u043a\\u0430 \\u043d\\u0430 \\u0442\\u0435\\u0441\\u0442\\u043e\\u0432\\u044b\\u0445 \\u0438 \\u0431\\u043e\\u0435\\u0432\\u044b\\u0445 \\u0441\\u0435\\u0440\\u0432\\u0435\\u0440\\u0430\\u0445;\\n\\n\\u041e\\u0431\\u0449\\u0435\\u043d\\u0438\\u0435 \\u0441 \\u0437\\u0430\\u043a\\u0430\\u0437\\u0447\\u0438\\u043a\\u043e\\u043c, \\u043e\\u0446\\u0435\\u043d\\u043a\\u0430 \\u043f\\u0440\\u043e\\u0435\\u043a\\u0442\\u043e\\u0432;\\n\\n\\u041f\\u0440\\u043e\\u0432\\u0435\\u0434\\u0435\\u043d\\u0438\\u0435 \\u0442\\u0435\\u0445\\u043d\\u0438\\u0447\\u0435\\u0441\\u043a\\u0438\\u0445 \\u0438\\u043d\\u0442\\u0435\\u0440\\u0432\\u044c\\u044e, \\u043e\\u0446\\u0435\\u043d\\u043a\\u0430 \\u043f\\u043e\\u0440\\u0442\\u0444\\u043e\\u043b\\u0438\\u043e \\u0438 \\u0442\\u0435\\u0441\\u0442\\u043e\\u0432\\u044b\\u0445 \\u0437\\u0430\\u0434\\u0430\\u043d\\u0438\\u0439 \\u043a\\u0430\\u043d\\u0434\\u0438\\u0434\\u0430\\u0442\\u043e\\u0432, \\u043c\\u0435\\u043d\\u0442\\u043e\\u0440\\u0441\\u0442\\u0432\\u043e;\\n\\nWeb: Django, DRF\\nDB: PostgreSQL\\nDeploy: Docker, Nginx, Linux\\u0424\\u0435\\u0432\\u0440\\u0430\\u043b\\u044c 2021 \\u2014 \\u0418\\u044e\\u043b\\u044c 20216 \\u043c\\u0435\\u0441\\u044f\\u0446\\u0435\\u0432\\u0421\\u0430\\u0440\\u0430\\u0444\\u0430\\u043d\\u043a\\u0430\\u041a\\u0440\\u0430\\u0441\\u043d\\u043e\\u044f\\u0440\\u0441\\u043a, srf.digital\\u0418\\u043d\\u0444\\u043e\\u0440\\u043c\\u0430\\u0446\\u0438\\u043e\\u043d\\u043d\\u044b\\u0435 \\u0442\\u0435\\u0445\\u043d\\u043e\\u043b\\u043e\\u0433\\u0438\\u0438, \\u0441\\u0438\\u0441\\u0442\\u0435\\u043c\\u043d\\u0430\\u044f \\u0438\\u043d\\u0442\\u0435\\u0433\\u0440\\u0430\\u0446\\u0438\\u044f, \\u0438\\u043d\\u0442\\u0435\\u0440\\u043d\\u0435\\u0442... \\u041f\\u043e\\u043a\\u0430\\u0437\\u0430\\u0442\\u044c \\u0435\\u0449\\u0435Python \\u0440\\u0430\\u0437\\u0440\\u0430\\u0431\\u043e\\u0442\\u0447\\u0438\\u043a\\u041a\\u043e\\u043c\\u043f\\u0430\\u043d\\u0438\\u044f - \\u0441\\u0442\\u0430\\u0440\\u0442\\u0430\\u043f. \\u0420\\u0430\\u0431\\u043e\\u0442\\u0430 \\u0432 \\u043d\\u0435\\u0431\\u043e\\u043b\\u044c\\u0448\\u043e\\u0439 \\u043a\\u043e\\u043c\\u0430\\u043d\\u0434\\u0435 (5 \\u0447\\u0435\\u043b\\u043e\\u0432\\u0435\\u043a). \\u041f\\u0440\\u043e\\u0435\\u043a\\u0442 - \\u0430\\u0433\\u0440\\u0435\\u0433\\u0430\\u0442\\u043e\\u0440 \\u0434\\u043b\\u044f \\u0437\\u0430\\u043a\\u0430\\u0437\\u0430/\\u043f\\u0440\\u043e\\u0434\\u0430\\u0436\\u0438 \\u0440\\u0435\\u043a\\u043b\\u0430\\u043c\\u044b, \\u043f\\u0440\\u043e\\u0434\\u0430\\u0436 \\u0442\\u043e\\u0432\\u0430\\u0440\\u043e\\u0432 (\\u0430\\u043d\\u0430\\u043b\\u043e\\u0433 \\u042f.\\u041c\\u0430\\u0440\\u043a\\u0435\\u0442\\u0430).\\n\\n\\u0420\\u0430\\u0437\\u0440\\u0430\\u0431\\u043e\\u0442\\u043a\\u0430 \\u0441\\u0435\\u0440\\u0432\\u0435\\u0440\\u043d\\u043e\\u0439 \\u0447\\u0430\\u0441\\u0442\\u0438 \\u043f\\u0440\\u0438\\u043b\\u043e\\u0436\\u0435\\u043d\\u0438\\u044f;\\n\\u041f\\u0440\\u043e\\u0435\\u043a\\u0442\\u0438\\u0440\\u043e\\u0432\\u0430\\u043d\\u0438\\u0435 \\u0431\\u0430\\u0437\\u044b \\u0434\\u0430\\u043d\\u043d\\u044b\\u0445; \\n\\u041d\\u0430\\u043f\\u0438\\u0441\\u0430\\u043d\\u0438\\u0435 \\u044e\\u043d\\u0438\\u0442-\\u0442\\u0435\\u0441\\u0442\\u043e\\u0432;\\n\\u0418\\u043d\\u0442\\u0435\\u0433\\u0440\\u0430\\u0446\\u0438\\u044f \\u0441\\u043e \\u0441\\u0442\\u043e\\u0440\\u043e\\u043d\\u043d\\u0438\\u043c\\u0438 API \\u0441\\u043e\\u0446. \\u0441\\u0435\\u0442\\u0435\\u0439, \\u0431\\u0430\\u043d\\u043a\\u043e\\u0432, \\u043d\\u0430\\u043b\\u043e\\u0433\\u043e\\u0432\\u043e\\u0439;\\n\\u0420\\u0430\\u0437\\u0440\\u0430\\u0431\\u043e\\u0442\\u043a\\u0430 \\u043f\\u0430\\u0440\\u0441\\u0435\\u0440\\u043e\\u0432 \\u0438 \\u0430\\u043b\\u0433\\u043e\\u0440\\u0438\\u0442\\u043c\\u043e\\u0432 \\u043e\\u0431\\u0440\\u0430\\u0431\\u043e\\u0442\\u043a\\u0438 \\u0434\\u0430\\u043d\\u043d\\u044b\\u0445;\\n\\nWeb: Django, DRF;\\nDB: PostgreSQL, Redis;\\nOther: Celery, Elasticsearch;\\nOps: Docker; \\u0418\\u044e\\u043b\\u044c 2020 \\u2014 \\u0410\\u0432\\u0433\\u0443\\u0441\\u0442 20202 \\u043c\\u0435\\u0441\\u044f\\u0446\\u0430Sibdev\\u041a\\u0440\\u0430\\u0441\\u043d\\u043e\\u044f\\u0440\\u0441\\u043a, sibdev.pro/\\u0418\\u043d\\u0444\\u043e\\u0440\\u043c\\u0430\\u0446\\u0438\\u043e\\u043d\\u043d\\u044b\\u0435 \\u0442\\u0435\\u0445\\u043d\\u043e\\u043b\\u043e\\u0433\\u0438\\u0438, \\u0441\\u0438\\u0441\\u0442\\u0435\\u043c\\u043d\\u0430\\u044f \\u0438\\u043d\\u0442\\u0435\\u0433\\u0440\\u0430\\u0446\\u0438\\u044f, \\u0438\\u043d\\u0442\\u0435\\u0440\\u043d\\u0435\\u0442... \\u041f\\u043e\\u043a\\u0430\\u0437\\u0430\\u0442\\u044c \\u0435\\u0449\\u0435\\u041f\\u0440\\u0430\\u043a\\u0442\\u0438\\u043a\\u0430\\u043d\\u0442\\u0412 \\u0445\\u043e\\u0434\\u0435 \\u043f\\u0440\\u0430\\u043a\\u0442\\u0438\\u043a\\u0438 \\u043a\\u0430\\u0436\\u0434\\u043e\\u043c\\u0443 \\u0431\\u044b\\u043b\\u043e \\u0432\\u044b\\u0434\\u0430\\u043d\\u043e \\u0438\\u043d\\u0434\\u0438\\u0432\\u0438\\u0434\\u0443\\u0430\\u043b\\u044c\\u043d\\u043e\\u0435 \\u0437\\u0430\\u0434\\u0430\\u043d\\u0438\\u0435 (\\u0448\\u0430\\u0431\\u043b\\u043e\\u043d \\u043f\\u0440\\u043e\\u0435\\u043a\\u0442\\u0430). \\u042f \\u0440\\u0430\\u0437\\u0440\\u0430\\u0431\\u043e\\u0442\\u0430\\u043b \\u0431\\u044d\\u043a\\u0435\\u043d\\u0434 \\u0432\\u0435\\u0431-\\u043f\\u0440\\u0438\\u043b\\u043e\\u0436\\u0435\\u043d\\u0438\\u044f \\u0434\\u043b\\u044f \\u0441\\u043e\\u0437\\u0434\\u0430\\u043d\\u0438\\u044f \\u0438 \\u0443\\u043f\\u0440\\u0430\\u0432\\u043b\\u0435\\u043d\\u0438\\u0435 \\u0437\\u0430\\u0432\\u0435\\u0434\\u0435\\u043d\\u0438\\u044f\\u043c\\u0438 \\u043e\\u0431\\u0449\\u0435\\u0441\\u0442\\u0432\\u0435\\u043d\\u043d\\u043e\\u0433\\u043e \\u043f\\u0438\\u0442\\u0430\\u043d\\u0438\\u044f. \\u0411\\u044b\\u043b\\u0430 \\u043f\\u0440\\u0435\\u0434\\u0443\\u0441\\u043c\\u043e\\u0442\\u0440\\u0435\\u043d\\u0430 \\u0441\\u0438\\u0441\\u0442\\u0435\\u043c\\u0430 \\u0431\\u0430\\u043b\\u043b\\u043e\\u0432 \\u0438 \\u0440\\u0435\\u0439\\u0442\\u0438\\u043d\\u0433. \\u0417\\u0430\\u043a\\u043e\\u043d\\u0447\\u0438\\u043b \\u0441 \\u0445\\u043e\\u0440\\u043e\\u0448\\u0438\\u043c \\u0440\\u0435\\u0437\\u0443\\u043b\\u044c\\u0442\\u0430\\u0442\\u043e\\u043c - 4 \\u043c\\u0435\\u0441\\u0442\\u043e \\u0432 \\u0440\\u0435\\u0439\\u0442\\u0438\\u043d\\u0433\\u0435. \\u0412\\u0441\\u0435\\u0433\\u043e \\u0443\\u0447\\u0430\\u0441\\u0442\\u043d\\u0438\\u043a\\u043e\\u0432 \\u043f\\u0440\\u0430\\u043a\\u0442\\u0438\\u043a\\u0438 \\u043f\\u043e \\u043c\\u043e\\u0435\\u043c\\u0443 \\u043d\\u0430\\u043f\\u0440\\u0430\\u0432\\u043b\\u0435\\u043d\\u0438\\u044e \\u0431\\u044b\\u043b\\u043e ~150 \\u0447\\u0435\\u043b\\u043e\\u0432\\u0435\\u043a. \\u041f\\u0440\\u0430\\u043a\\u0442\\u0438\\u043a\\u0430 \\u043f\\u0440\\u043e\\u0445\\u043e\\u0434\\u0438\\u043b\\u0430 \\u0443\\u0434\\u0430\\u043b\\u0435\\u043d\\u043d\\u043e.\\n\\nWeb: Django, DRF;\\nDB: PostgreSQL, Redis; \\nDeploy: Docker, Nginx, Gunicorn;\"\n        ],\n        \"semantic_type\": \"\",\n        \"description\": \"\"\n      }\n    },\n    {\n      \"column\": \"tags\",\n      \"properties\": {\n        \"dtype\": \"string\",\n        \"num_unique_values\": 10,\n        \"samples\": [\n          \"['Django Framework', 'HTML', 'CSS', 'Flask', ' Python', 'SQLite', 'Git', 'PostgreSQL', 'Jinja', 'AWS', 'MongoDB', 'Linux', 'OAuth', 'OAuth2', 'Google API', 'Ansible', 'Kubernetes']\",\n          \"['Python', 'Machine Learning', 'Linux', 'Computer Vision', 'Deep Learning', 'Mathematical Programming', 'Data Analysis', 'GoLang']\",\n          \"['Python', 'Django Rest Framework', 'PostgreSQL', 'Docker', 'Git', 'Linux', 'Nginx', 'Redis', 'Celery', 'FastAPI', 'OpenCV', 'SQLAlchemy']\"\n        ],\n        \"semantic_type\": \"\",\n        \"description\": \"\"\n      }\n    },\n    {\n      \"column\": \"link\",\n      \"properties\": {\n        \"dtype\": \"string\",\n        \"num_unique_values\": 10,\n        \"samples\": [\n          \"https://hh.ru/resume/a49ef7f300088e0a7f0039ed1f595645344371\",\n          \"https://hh.ru/resume/fb7ea8c800035e24280039ed1f6d5a31676963\",\n          \"https://hh.ru/resume/429d47d9000864a3e30039ed1f6352654d3831\"\n        ],\n        \"semantic_type\": \"\",\n        \"description\": \"\"\n      }\n    }\n  ]\n}"
            }
          },
          "metadata": {},
          "execution_count": 42
        }
      ]
    }
  ]
}